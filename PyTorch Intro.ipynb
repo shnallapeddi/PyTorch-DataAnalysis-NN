{
 "cells": [
  {
   "cell_type": "markdown",
   "id": "79860b7f-afd6-4354-a40c-b28ba618c640",
   "metadata": {},
   "source": [
    "PyTorch Intro, Data analysis & NN Models : https://pytorch.org/tutorials/beginner/introyt/introyt_index.html"
   ]
  },
  {
   "cell_type": "markdown",
   "id": "e7323369-00d4-480b-ad65-3ca9d1638333",
   "metadata": {},
   "source": [
    "Introduction to PyTorch"
   ]
  },
  {
   "cell_type": "code",
   "execution_count": 1,
   "id": "58c94b24-3b48-4a94-be96-68d56da5f891",
   "metadata": {},
   "outputs": [],
   "source": [
    "import torch"
   ]
  },
  {
   "cell_type": "markdown",
   "id": "a66b137b-ddc1-4e9b-99e6-740add5f7c35",
   "metadata": {},
   "source": [
    "Understanding Tensor manipulations"
   ]
  },
  {
   "cell_type": "code",
   "execution_count": 2,
   "id": "1ee47558-7bd4-4386-9120-4790e1eae79e",
   "metadata": {},
   "outputs": [
    {
     "name": "stdout",
     "output_type": "stream",
     "text": [
      "tensor([[0., 0., 0., 0., 0., 0.],\n",
      "        [0., 0., 0., 0., 0., 0.],\n",
      "        [0., 0., 0., 0., 0., 0.],\n",
      "        [0., 0., 0., 0., 0., 0.],\n",
      "        [0., 0., 0., 0., 0., 0.],\n",
      "        [0., 0., 0., 0., 0., 0.],\n",
      "        [0., 0., 0., 0., 0., 0.],\n",
      "        [0., 0., 0., 0., 0., 0.]])\n",
      "torch.float32\n"
     ]
    }
   ],
   "source": [
    "s = torch.zeros(8, 6)\n",
    "#Creates a 8*6 matrix filled with zeros\n",
    "print(s)\n",
    "print(s.dtype)\n",
    "#Zeros are 32-bit floating point numbers, thats the default PyTorch"
   ]
  },
  {
   "cell_type": "markdown",
   "id": "e98ac672-a674-423d-8267-d0ed430bdbb0",
   "metadata": {},
   "source": [
    "Changing the default to integers"
   ]
  },
  {
   "cell_type": "code",
   "execution_count": 3,
   "id": "5f247b1b-33a2-4cd5-97ce-2496db31bb73",
   "metadata": {},
   "outputs": [
    {
     "name": "stdout",
     "output_type": "stream",
     "text": [
      "tensor([[1, 1, 1, 1, 1, 1],\n",
      "        [1, 1, 1, 1, 1, 1],\n",
      "        [1, 1, 1, 1, 1, 1],\n",
      "        [1, 1, 1, 1, 1, 1],\n",
      "        [1, 1, 1, 1, 1, 1],\n",
      "        [1, 1, 1, 1, 1, 1],\n",
      "        [1, 1, 1, 1, 1, 1],\n",
      "        [1, 1, 1, 1, 1, 1]], dtype=torch.int16)\n"
     ]
    }
   ],
   "source": [
    "r = torch.ones((8, 6), dtype=torch.int16)\n",
    "print(r)"
   ]
  },
  {
   "cell_type": "code",
   "execution_count": 4,
   "id": "bde0666c-1a51-4392-b0eb-6dbacb9f8b2c",
   "metadata": {},
   "outputs": [
    {
     "name": "stdout",
     "output_type": "stream",
     "text": [
      "First random tensor is :\n",
      "tensor([[0.3126, 0.3791, 0.3087, 0.0736, 0.4216],\n",
      "        [0.0691, 0.2332, 0.4047, 0.2162, 0.9927],\n",
      "        [0.4128, 0.5938, 0.6128, 0.1519, 0.0453],\n",
      "        [0.5035, 0.9978, 0.3884, 0.6929, 0.1703],\n",
      "        [0.1384, 0.4759, 0.7481, 0.0361, 0.5062]])\n",
      "\n",
      "Selected different random tensor:\n",
      "tensor([[0.8469, 0.2588, 0.2707, 0.4115, 0.6839],\n",
      "        [0.0703, 0.5105, 0.9451, 0.2359, 0.1979],\n",
      "        [0.3327, 0.6146, 0.5999, 0.5013, 0.9397],\n",
      "        [0.8656, 0.5207, 0.6865, 0.3614, 0.6493],\n",
      "        [0.2633, 0.4762, 0.0548, 0.2024, 0.5731]])\n",
      "\n",
      "It has to match rs1:\n",
      "tensor([[0.3126, 0.3791, 0.3087, 0.0736, 0.4216],\n",
      "        [0.0691, 0.2332, 0.4047, 0.2162, 0.9927],\n",
      "        [0.4128, 0.5938, 0.6128, 0.1519, 0.0453],\n",
      "        [0.5035, 0.9978, 0.3884, 0.6929, 0.1703],\n",
      "        [0.1384, 0.4759, 0.7481, 0.0361, 0.5062]])\n"
     ]
    }
   ],
   "source": [
    "torch.manual_seed(1729)\n",
    "rs1 = torch.rand(5, 5)\n",
    "print(\"First random tensor is :\")\n",
    "print(rs1)\n",
    "\n",
    "rs2 = torch.rand(5, 5)\n",
    "print('\\nSelected different random tensor:')\n",
    "print(rs2)\n",
    "\n",
    "torch.manual_seed(1729)\n",
    "rs3 = torch.rand(5, 5)\n",
    "print('\\nIt has to match rs1:')\n",
    "# Because of re-seeding, values of rs1 would repeat\n",
    "print(rs3)"
   ]
  },
  {
   "cell_type": "code",
   "execution_count": 5,
   "id": "82181248-e0d8-4a28-9438-ac75823b4cef",
   "metadata": {},
   "outputs": [
    {
     "name": "stdout",
     "output_type": "stream",
     "text": [
      "tensor([[1., 1., 1., 1., 1.],\n",
      "        [1., 1., 1., 1., 1.],\n",
      "        [1., 1., 1., 1., 1.],\n",
      "        [1., 1., 1., 1., 1.],\n",
      "        [1., 1., 1., 1., 1.],\n",
      "        [1., 1., 1., 1., 1.]])\n",
      "tensor([[2., 2., 2., 2., 2.],\n",
      "        [2., 2., 2., 2., 2.],\n",
      "        [2., 2., 2., 2., 2.],\n",
      "        [2., 2., 2., 2., 2.],\n",
      "        [2., 2., 2., 2., 2.],\n",
      "        [2., 2., 2., 2., 2.]])\n",
      "tensor([[3., 3., 3., 3., 3.],\n",
      "        [3., 3., 3., 3., 3.],\n",
      "        [3., 3., 3., 3., 3.],\n",
      "        [3., 3., 3., 3., 3.],\n",
      "        [3., 3., 3., 3., 3.],\n",
      "        [3., 3., 3., 3., 3.]])\n",
      "torch.Size([6, 5])\n"
     ]
    }
   ],
   "source": [
    "ekam = torch.ones(6, 5)\n",
    "print(ekam)\n",
    "\n",
    "vismayam = torch.ones(6,5) *2\n",
    "# Multiply each element by 2\n",
    "print(vismayam)\n",
    "\n",
    "vachan = ekam + vismayam\n",
    "# As the shapes are same, we can perform addition\n",
    "print(vachan)\n",
    "print(vachan.shape)\n",
    "# It has the same dimensions as the input ones\n",
    "\n",
    "rs1 = torch.rand(6, 5)\n",
    "rs2 = torch.rand(6, 5)\n",
    "# Make sure that the shape of the tensors are same\n",
    "rs3 = rs1 +rs2"
   ]
  },
  {
   "cell_type": "code",
   "execution_count": 6,
   "id": "f8020a3a-5a51-4f2e-9d83-3c2140d27d24",
   "metadata": {},
   "outputs": [
    {
     "name": "stdout",
     "output_type": "stream",
     "text": [
      "Some random matrix, rs:\n",
      "tensor([[-0.1260, -0.7474, -0.3077, -0.2455, -0.2254],\n",
      "        [-0.7670, -0.1559, -0.0996, -0.6005, -0.3676],\n",
      "        [-0.0536, -0.9887, -0.4817, -0.0193, -0.3455],\n",
      "        [-0.5856, -0.9304, -0.5352, -0.5509, -0.3735],\n",
      "        [-0.0589, -0.5078, -0.4539, -0.4604, -0.6947]])\n",
      "\n",
      "Absolute value of rs is given as:\n",
      "tensor([[1, 1, 1, 1, 1, 1],\n",
      "        [1, 1, 1, 1, 1, 1],\n",
      "        [1, 1, 1, 1, 1, 1],\n",
      "        [1, 1, 1, 1, 1, 1],\n",
      "        [1, 1, 1, 1, 1, 1],\n",
      "        [1, 1, 1, 1, 1, 1],\n",
      "        [1, 1, 1, 1, 1, 1],\n",
      "        [1, 1, 1, 1, 1, 1]], dtype=torch.int16)\n",
      "\n",
      "Inverse sine of rs:\n",
      "tensor([[1.5708, 1.5708, 1.5708, 1.5708, 1.5708, 1.5708],\n",
      "        [1.5708, 1.5708, 1.5708, 1.5708, 1.5708, 1.5708],\n",
      "        [1.5708, 1.5708, 1.5708, 1.5708, 1.5708, 1.5708],\n",
      "        [1.5708, 1.5708, 1.5708, 1.5708, 1.5708, 1.5708],\n",
      "        [1.5708, 1.5708, 1.5708, 1.5708, 1.5708, 1.5708],\n",
      "        [1.5708, 1.5708, 1.5708, 1.5708, 1.5708, 1.5708],\n",
      "        [1.5708, 1.5708, 1.5708, 1.5708, 1.5708, 1.5708],\n",
      "        [1.5708, 1.5708, 1.5708, 1.5708, 1.5708, 1.5708]])\n",
      "\n",
      "Determinant of rs:\n",
      "tensor(0.0144)\n",
      "\n",
      "Singular value decomposition of rs:\n",
      "torch.return_types.svd(\n",
      "U=tensor([[-0.3730,  0.2248, -0.1716, -0.4800, -0.7420],\n",
      "        [-0.3276, -0.7926, -0.0835,  0.3987, -0.3140],\n",
      "        [-0.4500,  0.5517, -0.1583,  0.6840, -0.0125],\n",
      "        [-0.6039, -0.1294, -0.3706, -0.3679,  0.5881],\n",
      "        [-0.4317,  0.0132,  0.8951, -0.0862,  0.0697]]),\n",
      "S=tensor([2.2723, 0.9426, 0.4989, 0.1469, 0.0917]),\n",
      "V=tensor([[ 0.3087,  0.6631,  0.5180, -0.4183, -0.1475],\n",
      "        [ 0.6847, -0.5052,  0.3768,  0.0430,  0.3634],\n",
      "        [ 0.3888, -0.2045, -0.1415,  0.0984, -0.8817],\n",
      "        [ 0.3646,  0.5043, -0.2258,  0.7319,  0.1617],\n",
      "        [ 0.3897,  0.0946, -0.7202, -0.5271,  0.2066]]))\n",
      "\n",
      "Average & Standard deviation of rs is given as:\n",
      "(tensor(0.2712), tensor(-0.4273))\n",
      "\n",
      "Maximum value of rs is given as:\n",
      "tensor(-0.0193)\n"
     ]
    }
   ],
   "source": [
    "rs = torch.rand(5, 5) - 0.25*4 \n",
    "print('Some random matrix, rs:')\n",
    "print(rs)\n",
    "\n",
    "print('\\nAbsolute value of rs is given as:')\n",
    "print(torch.abs(r))\n",
    "# Mathematical operations\n",
    "\n",
    "print('\\nInverse sine of rs:')\n",
    "print(torch.asin(r))\n",
    "# Trigonometric functions\n",
    "\n",
    "print('\\nDeterminant of rs:')\n",
    "# linear  algebra operations like determinant \n",
    "print(torch.det(rs))\n",
    "# linear  algebra operations like singular value decomposition\n",
    "print('\\nSingular value decomposition of rs:')\n",
    "print(torch.svd(rs))\n",
    "\n",
    "print('\\nAverage & Standard deviation of rs is given as:')\n",
    "print(torch.std_mean(rs))\n",
    "print('\\nMaximum value of rs is given as:')\n",
    "print(torch.max(rs))"
   ]
  },
  {
   "cell_type": "markdown",
   "id": "0ffb9d9c-a8a2-4d9a-a262-068eb5198714",
   "metadata": {},
   "source": [
    "Automatic differentiation Engine"
   ]
  },
  {
   "cell_type": "code",
   "execution_count": 7,
   "id": "8577749f-b3ef-4cd4-bf45-8db0c6ed12a1",
   "metadata": {},
   "outputs": [],
   "source": [
    "sh = torch.randn(1, 8, requires_grad=True)  \n",
    "prev_n = torch.randn(1, 16, requires_grad=True)  \n",
    "W_n = torch.randn(16, 16, requires_grad=True)  \n",
    "W_sh = torch.randn(16, 8, requires_grad=True)  \n",
    "\n",
    "i2h = torch.mm(W_sh, sh.t())\n",
    "h2h = torch.mm(W_n, prev_n.t())\n",
    "next_h = i2h + h2h  \n",
    "next_h = next_h.tanh()\n",
    "\n",
    "# Compute loss\n",
    "loss = next_h.sum()\n",
    "\n",
    "# Perform backpropagation\n",
    "loss.backward() \n"
   ]
  },
  {
   "cell_type": "markdown",
   "id": "c134100e-53c4-45e7-a433-6fc8fc6444c5",
   "metadata": {},
   "source": [
    "Building Models in Pytorch"
   ]
  },
  {
   "cell_type": "code",
   "execution_count": 8,
   "id": "845cede1-86d0-46ce-8682-4efdae912423",
   "metadata": {},
   "outputs": [
    {
     "name": "stdout",
     "output_type": "stream",
     "text": [
      "LeNet(\n",
      "  (convolution1): Conv2d(1, 6, kernel_size=(3, 3), stride=(1, 1))\n",
      "  (convolution2): Conv2d(6, 16, kernel_size=(3, 3), stride=(1, 1))\n",
      "  (rs1): Linear(in_features=576, out_features=120, bias=True)\n",
      "  (rs2): Linear(in_features=120, out_features=84, bias=True)\n",
      "  (rs3): Linear(in_features=84, out_features=10, bias=True)\n",
      ")\n",
      "\n",
      "Image batch shape is given as:\n",
      "torch.Size([1, 1, 32, 32])\n",
      "torch.Size([1, 16, 6, 6])\n",
      "\n",
      "Raw output is given as:\n",
      "tensor([[-0.1184, -0.0736, -0.0849,  0.0707, -0.0683, -0.0622,  0.0037, -0.0375,\n",
      "          0.0661,  0.0732]], grad_fn=<AddmmBackward0>)\n",
      "torch.Size([1, 10])\n"
     ]
    }
   ],
   "source": [
    "import torch\n",
    "import torch.nn as nn\n",
    "# Parent object for PyTorch Models\n",
    "import torch.nn.functional as F\n",
    "# Activation function\n",
    "\n",
    "# implementation of the LeNet convolutional neural network (CNN) using PyTorch (torch.nn)\n",
    "# model consists of 2 convolutional layers,2 pooling layers,& 3 fully connected layers.\n",
    "class LeNet(nn.Module):\n",
    "    def __init__(self):\n",
    "        super(LeNet, self).__init__()\n",
    "        self.convolution1 = nn.Conv2d(1, 6, 3)# 1 input channel, 6 output channels, 3*3 kernel\n",
    "        self.convolution2 = nn.Conv2d(6, 16, 3)#6 input channels, outputs 6, 3x3 kernel\n",
    "        #Below 3 are fully Connected Layers\n",
    "        self.rs1 = nn.Linear(16 * 6 * 6, 120)\n",
    "        self.rs2= nn.Linear(120, 84)#120 neurons are converted to 84 neurons\n",
    "        self.rs3= nn.Linear(84, 10)#84 neurons are converted to 10 details, output layer\n",
    "\n",
    "    def forward(self, x): \n",
    "        #explains how the input x is passed through the network\n",
    "        #Below are pooling layers - Reduces spatial dimensions to extract important features\n",
    "        x = F.max_pool2d(F.relu(self.convolution1(x)), (2, 2))\n",
    "        x = F.max_pool2d(F.relu(self.convolution2(x)), 2)\n",
    "        print(x.shape)\n",
    "        x = x.view(-1, self.flat_ff(x))\n",
    "        # Fully connected layers with ReLU activation\n",
    "        x = F.relu(self.rs1(x))\n",
    "        x = F.relu(self.rs2(x))\n",
    "        x = self.rs3(x)\n",
    "        return x\n",
    "\n",
    "    def flat_ff(self, x): \n",
    "        #describes the number of flattened featured after the convolution is done\n",
    "        size = x.size()[1:]\n",
    "        features = 1\n",
    "        for s in size:\n",
    "            features *= s\n",
    "        return features\n",
    "\n",
    "# Creating a network\n",
    "net = LeNet()\n",
    "print(net)\n",
    "\n",
    "input = torch.rand(1, 1, 32, 32)\n",
    "print('\\nImage batch shape is given as:')\n",
    "print(input.shape)\n",
    "\n",
    "output=net(input)\n",
    "print('\\nRaw output is given as:')\n",
    "print(output)\n",
    "print(output.shape)"
   ]
  },
  {
   "cell_type": "markdown",
   "id": "39f790ee-842d-4339-b20e-668992395e71",
   "metadata": {},
   "source": [
    "Datasets and dataloaders"
   ]
  },
  {
   "cell_type": "code",
   "execution_count": 9,
   "id": "eddc6a45-c86b-4f42-a3ca-ec148d509e63",
   "metadata": {},
   "outputs": [
    {
     "name": "stdout",
     "output_type": "stream",
     "text": [
      "Transforms initialization is complete!\n"
     ]
    }
   ],
   "source": [
    "%matplotlib inline\n",
    "\n",
    "import torch\n",
    "import torchvision\n",
    "import torchvision.transforms as transforms\n",
    "\n",
    "transform = transforms.Compose([\n",
    "    transforms.ToTensor(), \n",
    "    transforms.Normalize((0.5, 0.5, 0.5), (0.5, 0.5, 0.5))\n",
    "])\n",
    "print(\"Transforms initialization is complete!\")"
   ]
  },
  {
   "cell_type": "code",
   "execution_count": 10,
   "id": "7668e73f-6acd-4aa4-9f2a-d0a75ca83c07",
   "metadata": {},
   "outputs": [
    {
     "name": "stdout",
     "output_type": "stream",
     "text": [
      "Dataset is loaded successfully\n"
     ]
    }
   ],
   "source": [
    "trainset = torchvision.datasets.CIFAR10(root='./data', train=True,\n",
    "                                        download=True, transform=transform)\n",
    "print(\"Dataset is loaded successfully\")"
   ]
  },
  {
   "cell_type": "code",
   "execution_count": 11,
   "id": "c66293fb-e748-4bb0-a71d-36799fe08f8e",
   "metadata": {},
   "outputs": [
    {
     "name": "stdout",
     "output_type": "stream",
     "text": [
      "Number of images in training set is given by: 50000\n"
     ]
    }
   ],
   "source": [
    "trainloader = torch.utils.data.DataLoader(trainset, batch_size=4,\n",
    "                                          shuffle=True, num_workers=2)\n",
    "\n",
    "print(f\"Number of images in training set is given by: {len(trainset)}\")"
   ]
  },
  {
   "cell_type": "code",
   "execution_count": 12,
   "id": "f2b87015-048b-4eb3-953b-e4e39cff5698",
   "metadata": {},
   "outputs": [
    {
     "name": "stderr",
     "output_type": "stream",
     "text": [
      "Clipping input data to the valid range for imshow with RGB data ([0..1] for floats or [0..255] for integers). Got range [-0.25..0.75].\n"
     ]
    },
    {
     "name": "stdout",
     "output_type": "stream",
     "text": [
      "  car horse  deer   dog\n"
     ]
    },
    {
     "data": {
      "image/png": "[encoded data removed]",
      "text/plain": [
       "<Figure size 640x480 with 1 Axes>"
      ]
     },
     "metadata": {},
     "output_type": "display_data"
    }
   ],
   "source": [
    "import matplotlib.pyplot as plt\n",
    "import numpy as np\n",
    "\n",
    "details = ('plane', 'car', 'bird', 'cat',\n",
    "           'deer', 'dog', 'frog', 'horse', 'ship', 'truck', 'automobile')\n",
    "\n",
    "def imshow(img):\n",
    "    img = img / 2 + 0.25 \n",
    "    npimg = img.numpy()\n",
    "    plt.imshow(np.transpose(npimg, (1, 2, 0)))\n",
    "\n",
    "# Getting the images\n",
    "dataiter = iter(trainloader)\n",
    "images, labels = next(dataiter)\n",
    "\n",
    "# Display appropriate images\n",
    "imshow(torchvision.utils.make_grid(images))\n",
    "print(' '.join('%5s' % details[labels[j]] for j in range(4)))"
   ]
  },
  {
   "cell_type": "markdown",
   "id": "f0d9722e-4af7-453e-9627-b071f13b1d93",
   "metadata": {},
   "source": [
    "Training Your PyTorch Model"
   ]
  },
  {
   "cell_type": "code",
   "execution_count": 13,
   "id": "04921e73-4954-4db1-9bb1-aed1d907746f",
   "metadata": {},
   "outputs": [],
   "source": [
    "%matplotlib inline\n",
    "\n",
    "import torch\n",
    "import torch.nn as nn\n",
    "import torch.nn.functional as F\n",
    "import torch.optim as optim\n",
    "\n",
    "import torchvision\n",
    "import torchvision.transforms as transforms\n",
    "\n",
    "import matplotlib\n",
    "import matplotlib.pyplot as plt\n",
    "import numpy as np"
   ]
  },
  {
   "cell_type": "code",
   "execution_count": 14,
   "id": "c9d72df8-7094-4251-ae8b-6d1b5c71f514",
   "metadata": {},
   "outputs": [],
   "source": [
    "transform = transforms.Compose(\n",
    "    [transforms.ToTensor(),\n",
    "     transforms.Normalize((0.5, 0.5, 0.5), (0.5, 0.5, 0.5))])\n",
    "\n",
    "trainset = torchvision.datasets.CIFAR10(root='./data', train=True,\n",
    "                                        download=True, transform=transform)\n",
    "trainloader = torch.utils.data.DataLoader(trainset, batch_size=4,\n",
    "                                          shuffle=True, num_workers=2)\n",
    "\n",
    "testset = torchvision.datasets.CIFAR10(root='./data', train=False,\n",
    "                                       download=True, transform=transform)\n",
    "testloader = torch.utils.data.DataLoader(testset, batch_size=4,\n",
    "                                         shuffle=False, num_workers=2)\n",
    "\n",
    "details = ('plane', 'car', 'bird', 'cat',\n",
    "           'deer', 'dog', 'frog', 'horse', 'ship', 'truck', 'automobile')"
   ]
  },
  {
   "cell_type": "code",
   "execution_count": 16,
   "id": "0d105c31-bfad-41cd-bf25-b13cb2925f81",
   "metadata": {},
   "outputs": [
    {
     "name": "stderr",
     "output_type": "stream",
     "text": [
      "Clipping input data to the valid range for imshow with RGB data ([0..1] for floats or [0..255] for integers). Got range [-0.23039216..0.75].\n"
     ]
    },
    {
     "name": "stdout",
     "output_type": "stream",
     "text": [
      "  dog   car plane  bird\n"
     ]
    },
    {
     "data": {
      "image/png": "[encoded data removed]",
      "text/plain": [
       "<Figure size 640x480 with 1 Axes>"
      ]
     },
     "metadata": {},
     "output_type": "display_data"
    }
   ],
   "source": [
    "def imshow(img):\n",
    "    img = img / 2 + 0.25 \n",
    "    npimg = img.numpy()\n",
    "    plt.imshow(np.transpose(npimg, (1, 2, 0)))\n",
    "\n",
    "\n",
    "# get some random training images\n",
    "dataiter = iter(trainloader)\n",
    "images, labels = next(dataiter)\n",
    "\n",
    "imshow(torchvision.utils.make_grid(images))\n",
    "print(' '.join('%5s' % details[labels[j]] for j in range(4)))"
   ]
  },
  {
   "cell_type": "code",
   "execution_count": 17,
   "id": "9f07ee89-7eab-4d1e-952f-89641d29c3a7",
   "metadata": {},
   "outputs": [],
   "source": [
    "class Net(nn.Module):\n",
    "    def __init__(self):\n",
    "        super(Net, self).__init__()\n",
    "        self.convoluion1 = nn.Conv2d(3, 6, 5)\n",
    "        self.pool = nn.MaxPool2d(2, 2)\n",
    "        self.convoluion2 = nn.Conv2d(6, 16, 5)\n",
    "        self.rs1 = nn.Linear(16 * 5 * 5, 120)\n",
    "        self.rs2 = nn.Linear(120, 84)\n",
    "        self.rs3 = nn.Linear(84, 10)\n",
    "\n",
    "    def forward(self, s):\n",
    "        s = self.pool(F.relu(self.convoluion1(s)))\n",
    "        s = self.pool(F.relu(self.convoluion2(s)))\n",
    "        s= s.view(-1, 16 * 5 * 5)\n",
    "        s = F.relu(self.rs1(s))\n",
    "        s = F.relu(self.rs2(s))\n",
    "        s = self.rs3(s)\n",
    "        return s\n",
    "\n",
    "\n",
    "net = Net()"
   ]
  },
  {
   "cell_type": "code",
   "execution_count": 18,
   "id": "d3090ad2-29e7-4d36-85ab-bce22fd02f04",
   "metadata": {},
   "outputs": [],
   "source": [
    "criterion = nn.CrossEntropyLoss()\n",
    "optimizer = optim.SGD(net.parameters(), lr=0.001, momentum=0.9)\n",
    "\n",
    "# Observations: if the momentum is 0.8, the value of the loss is nan(not a number). But if it's 0.9, there are proper values."
   ]
  },
  {
   "cell_type": "code",
   "execution_count": 19,
   "id": "0f7d1fdd-99b1-41c4-8cb8-096573d902f5",
   "metadata": {},
   "outputs": [
    {
     "name": "stdout",
     "output_type": "stream",
     "text": [
      "[1,  2000] loss: 4.280\n",
      "[1,  4000] loss: 3.566\n",
      "[1,  6000] loss: 3.259\n",
      "[1,  8000] loss: 3.113\n",
      "[1, 10000] loss: 3.000\n",
      "[1, 12000] loss: 2.878\n",
      "[2,  2000] loss: 2.759\n",
      "[2,  4000] loss: 2.689\n",
      "[2,  6000] loss: 2.657\n",
      "[2,  8000] loss: 2.571\n",
      "[2, 10000] loss: 2.579\n",
      "[2, 12000] loss: 2.538\n",
      "Finished Training the model successfully\n"
     ]
    }
   ],
   "source": [
    "for epoch in range(2): \n",
    "\n",
    "    running_loss = 0.0\n",
    "    for i, data in enumerate(trainloader, 0):\n",
    "        inputs, labels = data\n",
    "        optimizer.zero_grad()\n",
    "\n",
    "        # forward + backward + optimize\n",
    "        outputs = net(inputs)\n",
    "        loss = criterion(outputs, labels)\n",
    "        loss.backward()\n",
    "        optimizer.step()\n",
    "\n",
    "        running_loss += loss.item()\n",
    "        if i % 2000 == 1999:   \n",
    "            print('[%d, %5d] loss: %.3f' %\n",
    "                  (epoch + 1, i + 1, running_loss / 1000))\n",
    "            running_loss = 0.0\n",
    "\n",
    "print('Finished Training the model successfully')"
   ]
  },
  {
   "cell_type": "markdown",
   "id": "ca5921f9-863f-4289-95b9-be06ed9868f6",
   "metadata": {},
   "source": [
    "Introduction to PyTorch Tensors"
   ]
  },
  {
   "cell_type": "code",
   "execution_count": 20,
   "id": "84f029a5-c973-461f-b527-ac68b5c54ad8",
   "metadata": {},
   "outputs": [],
   "source": [
    "import torch\n",
    "import math"
   ]
  },
  {
   "cell_type": "markdown",
   "id": "33a68d9b-675f-47fe-b93f-c43ef9c82423",
   "metadata": {},
   "source": [
    "Creating a tensor is with the torch.empty() call"
   ]
  },
  {
   "cell_type": "code",
   "execution_count": 21,
   "id": "8b04b978-d275-4184-bc53-8877ae1d9328",
   "metadata": {},
   "outputs": [
    {
     "name": "stdout",
     "output_type": "stream",
     "text": [
      "<class 'torch.Tensor'>\n",
      "tensor([[0., 0., 0., 0., 0., 0., 0.],\n",
      "        [0., 0., 0., 0., 0., 0., 0.],\n",
      "        [0., 0., 0., 0., 0., 0., 0.],\n",
      "        [0., 0., 0., 0., 0., 0., 0.],\n",
      "        [0., 0., 0., 0., 0., 0., 0.],\n",
      "        [0., 0., 0., 0., 0., 0., 0.]])\n"
     ]
    }
   ],
   "source": [
    "x = torch.empty(6, 7)\n",
    "print(type(x))\n",
    "print(x)"
   ]
  },
  {
   "cell_type": "code",
   "execution_count": 22,
   "id": "3aadb1bd-29f7-43a6-ab9e-f8cbcd0570cf",
   "metadata": {},
   "outputs": [
    {
     "name": "stdout",
     "output_type": "stream",
     "text": [
      "tensor([[0., 0., 0., 0., 0.],\n",
      "        [0., 0., 0., 0., 0.],\n",
      "        [0., 0., 0., 0., 0.],\n",
      "        [0., 0., 0., 0., 0.]])\n",
      "tensor([[1., 1., 1., 1., 1.],\n",
      "        [1., 1., 1., 1., 1.],\n",
      "        [1., 1., 1., 1., 1.],\n",
      "        [1., 1., 1., 1., 1.]])\n",
      "tensor([[0.3126, 0.3791, 0.3087, 0.0736, 0.4216],\n",
      "        [0.0691, 0.2332, 0.4047, 0.2162, 0.9927],\n",
      "        [0.4128, 0.5938, 0.6128, 0.1519, 0.0453],\n",
      "        [0.5035, 0.9978, 0.3884, 0.6929, 0.1703]])\n"
     ]
    }
   ],
   "source": [
    "zeros = torch.zeros(4, 5)\n",
    "print(zeros)\n",
    "\n",
    "ekams = torch.ones(4, 5)\n",
    "print(ekams)\n",
    "\n",
    "torch.manual_seed(1729)\n",
    "random = torch.rand(4, 5)\n",
    "print(random)"
   ]
  },
  {
   "cell_type": "markdown",
   "id": "291adf83-0f2c-4b73-939e-3771a39c6325",
   "metadata": {},
   "source": [
    "Random Tensors and Seeding"
   ]
  },
  {
   "cell_type": "code",
   "execution_count": 23,
   "id": "fbf39a09-7e8e-4e1f-a919-167635147047",
   "metadata": {},
   "outputs": [
    {
     "name": "stdout",
     "output_type": "stream",
     "text": [
      "tensor([[0.3126, 0.3791, 0.3087, 0.0736, 0.4216],\n",
      "        [0.0691, 0.2332, 0.4047, 0.2162, 0.9927],\n",
      "        [0.4128, 0.5938, 0.6128, 0.1519, 0.0453],\n",
      "        [0.5035, 0.9978, 0.3884, 0.6929, 0.1703]])\n",
      "tensor([[0.1384, 0.4759, 0.7481, 0.0361, 0.5062],\n",
      "        [0.8469, 0.2588, 0.2707, 0.4115, 0.6839],\n",
      "        [0.0703, 0.5105, 0.9451, 0.2359, 0.1979],\n",
      "        [0.3327, 0.6146, 0.5999, 0.5013, 0.9397]])\n",
      "tensor([[0.3126, 0.3791, 0.3087, 0.0736, 0.4216],\n",
      "        [0.0691, 0.2332, 0.4047, 0.2162, 0.9927],\n",
      "        [0.4128, 0.5938, 0.6128, 0.1519, 0.0453],\n",
      "        [0.5035, 0.9978, 0.3884, 0.6929, 0.1703]])\n",
      "tensor([[0.1384, 0.4759, 0.7481, 0.0361, 0.5062],\n",
      "        [0.8469, 0.2588, 0.2707, 0.4115, 0.6839],\n",
      "        [0.0703, 0.5105, 0.9451, 0.2359, 0.1979],\n",
      "        [0.3327, 0.6146, 0.5999, 0.5013, 0.9397]])\n"
     ]
    }
   ],
   "source": [
    "torch.manual_seed(1729)\n",
    "rs1 = torch.rand(4, 5)\n",
    "print(rs1)\n",
    "\n",
    "rs2 = torch.rand(4, 5)\n",
    "print(rs2)\n",
    "\n",
    "torch.manual_seed(1729)\n",
    "rs3 = torch.rand(4, 5)\n",
    "print(rs3)\n",
    "\n",
    "rs4 = torch.rand(4, 5)\n",
    "print(rs4)"
   ]
  },
  {
   "cell_type": "markdown",
   "id": "ea44927b-c777-4d1c-9b4c-70df03e5e5bc",
   "metadata": {},
   "source": [
    "Tensor Shapes"
   ]
  },
  {
   "cell_type": "code",
   "execution_count": 24,
   "id": "a89f78b0-b5ca-41c1-8c50-00628e1e79c6",
   "metadata": {},
   "outputs": [
    {
     "name": "stdout",
     "output_type": "stream",
     "text": [
      "torch.Size([4, 4, 6])\n",
      "tensor([[[0., 0., 0., 0., 0., 0.],\n",
      "         [0., 0., 0., 0., 0., 0.],\n",
      "         [0., 0., 0., 0., 0., 0.],\n",
      "         [0., 0., 0., 0., 0., 0.]],\n",
      "\n",
      "        [[0., 0., 0., 0., 0., 0.],\n",
      "         [0., 0., 0., 0., 0., 0.],\n",
      "         [0., 0., 0., 0., 0., 0.],\n",
      "         [0., 0., 0., 0., 0., 0.]],\n",
      "\n",
      "        [[0., 0., 0., 0., 0., 0.],\n",
      "         [0., 0., 0., 0., 0., 0.],\n",
      "         [0., 0., 0., 0., 0., 0.],\n",
      "         [0., 0., 0., 0., 0., 0.]],\n",
      "\n",
      "        [[0., 0., 0., 0., 0., 0.],\n",
      "         [0., 0., 0., 0., 0., 0.],\n",
      "         [0., 0., 0., 0., 0., 0.],\n",
      "         [0., 0., 0., 0., 0., 0.]]])\n",
      "torch.Size([4, 4, 6])\n",
      "tensor([[[0., 0., 0., 0., 0., 0.],\n",
      "         [0., 0., 0., 0., 0., 0.],\n",
      "         [0., 0., 0., 0., 0., 0.],\n",
      "         [0., 0., 0., 0., 0., 0.]],\n",
      "\n",
      "        [[0., 0., 0., 0., 0., 0.],\n",
      "         [0., 0., 0., 0., 0., 0.],\n",
      "         [0., 0., 0., 0., 0., 0.],\n",
      "         [0., 0., 0., 0., 0., 0.]],\n",
      "\n",
      "        [[0., 0., 0., 0., 0., 0.],\n",
      "         [0., 0., 0., 0., 0., 0.],\n",
      "         [0., 0., 0., 0., 0., 0.],\n",
      "         [0., 0., 0., 0., 0., 0.]],\n",
      "\n",
      "        [[0., 0., 0., 0., 0., 0.],\n",
      "         [0., 0., 0., 0., 0., 0.],\n",
      "         [0., 0., 0., 0., 0., 0.],\n",
      "         [0., 0., 0., 0., 0., 0.]]])\n",
      "torch.Size([4, 4, 6])\n",
      "tensor([[[0., 0., 0., 0., 0., 0.],\n",
      "         [0., 0., 0., 0., 0., 0.],\n",
      "         [0., 0., 0., 0., 0., 0.],\n",
      "         [0., 0., 0., 0., 0., 0.]],\n",
      "\n",
      "        [[0., 0., 0., 0., 0., 0.],\n",
      "         [0., 0., 0., 0., 0., 0.],\n",
      "         [0., 0., 0., 0., 0., 0.],\n",
      "         [0., 0., 0., 0., 0., 0.]],\n",
      "\n",
      "        [[0., 0., 0., 0., 0., 0.],\n",
      "         [0., 0., 0., 0., 0., 0.],\n",
      "         [0., 0., 0., 0., 0., 0.],\n",
      "         [0., 0., 0., 0., 0., 0.]],\n",
      "\n",
      "        [[0., 0., 0., 0., 0., 0.],\n",
      "         [0., 0., 0., 0., 0., 0.],\n",
      "         [0., 0., 0., 0., 0., 0.],\n",
      "         [0., 0., 0., 0., 0., 0.]]])\n",
      "torch.Size([4, 4, 6])\n",
      "tensor([[[1., 1., 1., 1., 1., 1.],\n",
      "         [1., 1., 1., 1., 1., 1.],\n",
      "         [1., 1., 1., 1., 1., 1.],\n",
      "         [1., 1., 1., 1., 1., 1.]],\n",
      "\n",
      "        [[1., 1., 1., 1., 1., 1.],\n",
      "         [1., 1., 1., 1., 1., 1.],\n",
      "         [1., 1., 1., 1., 1., 1.],\n",
      "         [1., 1., 1., 1., 1., 1.]],\n",
      "\n",
      "        [[1., 1., 1., 1., 1., 1.],\n",
      "         [1., 1., 1., 1., 1., 1.],\n",
      "         [1., 1., 1., 1., 1., 1.],\n",
      "         [1., 1., 1., 1., 1., 1.]],\n",
      "\n",
      "        [[1., 1., 1., 1., 1., 1.],\n",
      "         [1., 1., 1., 1., 1., 1.],\n",
      "         [1., 1., 1., 1., 1., 1.],\n",
      "         [1., 1., 1., 1., 1., 1.]]])\n",
      "torch.Size([4, 4, 6])\n",
      "tensor([[[0.8656, 0.5207, 0.6865, 0.3614, 0.6493, 0.2633],\n",
      "         [0.4762, 0.0548, 0.2024, 0.5731, 0.7191, 0.4067],\n",
      "         [0.7301, 0.6276, 0.7357, 0.0381, 0.2138, 0.5395],\n",
      "         [0.3686, 0.4007, 0.7220, 0.8217, 0.2612, 0.7375]],\n",
      "\n",
      "        [[0.8328, 0.8444, 0.2941, 0.3788, 0.4567, 0.0649],\n",
      "         [0.6677, 0.7826, 0.1332, 0.0023, 0.4945, 0.3857],\n",
      "         [0.9883, 0.4762, 0.7242, 0.0776, 0.4004, 0.9877],\n",
      "         [0.0352, 0.0905, 0.4485, 0.8740, 0.2526, 0.6923]],\n",
      "\n",
      "        [[0.7545, 0.7746, 0.2330, 0.8441, 0.9004, 0.3995],\n",
      "         [0.6324, 0.9464, 0.0113, 0.5183, 0.9807, 0.6545],\n",
      "         [0.4144, 0.0696, 0.4648, 0.4491, 0.6265, 0.9411],\n",
      "         [0.4922, 0.5461, 0.5396, 0.3053, 0.1973, 0.3285]],\n",
      "\n",
      "        [[0.5655, 0.0065, 0.7765, 0.3534, 0.7016, 0.6826],\n",
      "         [0.9413, 0.4460, 0.9289, 0.6293, 0.6264, 0.4704],\n",
      "         [0.6077, 0.4757, 0.5874, 0.4363, 0.6339, 0.3208],\n",
      "         [0.4323, 0.1811, 0.6962, 0.8073, 0.2125, 0.3977]]])\n"
     ]
    }
   ],
   "source": [
    "x = torch.empty(4, 4, 6)\n",
    "print(x.shape)\n",
    "print(x)\n",
    "\n",
    "nullLike_x = torch.empty_like(x)\n",
    "print(nullLike_x.shape)\n",
    "print(nullLike_x)\n",
    "\n",
    "ekamLike_x = torch.zeros_like(x)\n",
    "print(ekamLike_x.shape)\n",
    "print(ekamLike_x)\n",
    "\n",
    "first_x = torch.ones_like(x)\n",
    "print(first_x.shape)\n",
    "print(first_x)\n",
    "\n",
    "random_x = torch.rand_like(x)\n",
    "print(random_x.shape)\n",
    "print(random_x)"
   ]
  },
  {
   "cell_type": "code",
   "execution_count": 25,
   "id": "07c88029-96b2-45f2-a730-67914b0fc204",
   "metadata": {},
   "outputs": [
    {
     "name": "stdout",
     "output_type": "stream",
     "text": [
      "tensor([[3.1416, 2.7183],\n",
      "        [1.6180, 0.0073]])\n",
      "tensor([ 2,  3,  5,  7, 11, 13, 31, 33])\n",
      "tensor([[ 2,  4,  6,  8],\n",
      "        [ 3,  6,  9, 11]])\n"
     ]
    }
   ],
   "source": [
    "consts = torch.tensor([[3.1415926, 2.71828], [1.61803, 0.0072897]])\n",
    "print(consts)\n",
    "\n",
    "fewIntegers = torch.tensor((2, 3, 5, 7, 11, 13, 31, 33))\n",
    "print(fewIntegers)\n",
    "\n",
    "intg = torch.tensor(((2, 4, 6, 8), [3, 6, 9, 11]))\n",
    "print(intg)"
   ]
  },
  {
   "cell_type": "markdown",
   "id": "52f49f18-805a-45d3-b430-de3dbc113618",
   "metadata": {},
   "source": [
    "Tensor Data Types"
   ]
  },
  {
   "cell_type": "code",
   "execution_count": 26,
   "id": "8f540dd8-0d95-4cc0-9213-7dc4b527b703",
   "metadata": {},
   "outputs": [
    {
     "name": "stdout",
     "output_type": "stream",
     "text": [
      "tensor([[1, 1, 1, 1, 1, 1],\n",
      "        [1, 1, 1, 1, 1, 1],\n",
      "        [1, 1, 1, 1, 1, 1],\n",
      "        [1, 1, 1, 1, 1, 1]], dtype=torch.int16)\n",
      "tensor([[11.6379, 13.2826, 19.8420, 12.0981, 19.8274, 15.9604],\n",
      "        [13.1899,  2.7494, 13.5466,  2.1395,  7.3835,  2.9332],\n",
      "        [ 7.0189,  9.2808, 11.3923,  6.5465,  9.0604, 14.2793],\n",
      "        [19.9215, 17.0002,  7.0167, 10.4277,  7.4719,  7.1494]],\n",
      "       dtype=torch.float64)\n",
      "tensor([[11, 13, 19, 12, 19, 15],\n",
      "        [13,  2, 13,  2,  7,  2],\n",
      "        [ 7,  9, 11,  6,  9, 14],\n",
      "        [19, 17,  7, 10,  7,  7]], dtype=torch.int32)\n"
     ]
    }
   ],
   "source": [
    "sh = torch.ones((4, 6), dtype=torch.int16)\n",
    "print(sh)\n",
    "\n",
    "rs = torch.rand((4, 6), dtype=torch.float64) * 23.\n",
    "print(rs)\n",
    "\n",
    "ns = rs.to(torch.int32)\n",
    "print(ns)"
   ]
  },
  {
   "cell_type": "markdown",
   "id": "4df89283-b72f-4197-9ace-fb5f9dd30bf9",
   "metadata": {},
   "source": [
    "Math & Logic with PyTorch Tensors"
   ]
  },
  {
   "cell_type": "code",
   "execution_count": 27,
   "id": "bab2ed58-2a73-4e6d-a041-6254dc4c4f96",
   "metadata": {},
   "outputs": [
    {
     "name": "stdout",
     "output_type": "stream",
     "text": [
      "tensor([[1., 1., 1., 1., 1.],\n",
      "        [1., 1., 1., 1., 1.],\n",
      "        [1., 1., 1., 1., 1.],\n",
      "        [1., 1., 1., 1., 1.]])\n",
      "tensor([[2., 2.],\n",
      "        [2., 2.]])\n",
      "tensor([[3., 3.],\n",
      "        [3., 3.]])\n",
      "tensor([[4., 4.],\n",
      "        [4., 4.]])\n",
      "tensor([[1.4142, 1.4142],\n",
      "        [1.4142, 1.4142]])\n"
     ]
    }
   ],
   "source": [
    "ones = torch.zeros(2, 2) + 1\n",
    "secondVariable = torch.ones(2, 2) * 2\n",
    "thirdVariable = (torch.ones(2, 2) * 7 - 1) / 2\n",
    "fourthVariable = secondVariable ** 2\n",
    "sqrt2s = secondVariable ** 0.5\n",
    "\n",
    "print(ekams)\n",
    "print(secondVariable)\n",
    "print(thirdVariable)\n",
    "print(fourthVariable)\n",
    "print(sqrt2s)"
   ]
  },
  {
   "cell_type": "code",
   "execution_count": 28,
   "id": "353db839-ea9b-4d28-9e22-d24defe2a07f",
   "metadata": {},
   "outputs": [
    {
     "name": "stdout",
     "output_type": "stream",
     "text": [
      "tensor([[  2.,  16.],\n",
      "        [ 64., 512.]])\n",
      "tensor([[5., 5.],\n",
      "        [5., 5.]])\n",
      "tensor([[12., 12.],\n",
      "        [12., 12.]])\n"
     ]
    }
   ],
   "source": [
    "powers2 = secondVariable ** torch.tensor([[1, 4], [6, 9]])\n",
    "print(powers2)\n",
    "\n",
    "fives = ones + fourthVariable\n",
    "print(fives)\n",
    "\n",
    "dozens = thirdVariable * fourthVariable\n",
    "print(dozens)"
   ]
  },
  {
   "cell_type": "markdown",
   "id": "d989e202-ce8b-45d6-a6d7-409fc333e15e",
   "metadata": {},
   "source": [
    "Tensor Broadcasting"
   ]
  },
  {
   "cell_type": "code",
   "execution_count": 29,
   "id": "ad57bff6-bef4-4463-8c8c-ef355ccdca19",
   "metadata": {},
   "outputs": [
    {
     "name": "stdout",
     "output_type": "stream",
     "text": [
      "tensor([[0.1413, 0.7666, 0.1920, 0.4044],\n",
      "        [0.6530, 0.7900, 0.3733, 0.8276]])\n",
      "tensor([[0.2825, 1.5332, 0.3840, 0.8087],\n",
      "        [1.3059, 1.5800, 0.7466, 1.6552]])\n"
     ]
    }
   ],
   "source": [
    "rand = torch.rand(2, 4)\n",
    "doubledVaribale = rand * (torch.ones(1, 4) * 2)\n",
    "\n",
    "print(rand)\n",
    "print(doubledVaribale)"
   ]
  },
  {
   "cell_type": "code",
   "execution_count": 30,
   "id": "f7d4285a-a594-4900-88c6-4258e8743fe4",
   "metadata": {
    "scrolled": true
   },
   "outputs": [
    {
     "name": "stdout",
     "output_type": "stream",
     "text": [
      "tensor([[[0.7935, 0.6547, 0.1619],\n",
      "         [0.0425, 0.0313, 0.5074],\n",
      "         [0.7209, 0.6635, 0.1084],\n",
      "         [0.1523, 0.8454, 0.1194],\n",
      "         [0.7245, 0.6522, 0.1779]],\n",
      "\n",
      "        [[0.7935, 0.6547, 0.1619],\n",
      "         [0.0425, 0.0313, 0.5074],\n",
      "         [0.7209, 0.6635, 0.1084],\n",
      "         [0.1523, 0.8454, 0.1194],\n",
      "         [0.7245, 0.6522, 0.1779]],\n",
      "\n",
      "        [[0.7935, 0.6547, 0.1619],\n",
      "         [0.0425, 0.0313, 0.5074],\n",
      "         [0.7209, 0.6635, 0.1084],\n",
      "         [0.1523, 0.8454, 0.1194],\n",
      "         [0.7245, 0.6522, 0.1779]],\n",
      "\n",
      "        [[0.7935, 0.6547, 0.1619],\n",
      "         [0.0425, 0.0313, 0.5074],\n",
      "         [0.7209, 0.6635, 0.1084],\n",
      "         [0.1523, 0.8454, 0.1194],\n",
      "         [0.7245, 0.6522, 0.1779]]])\n",
      "tensor([[[0.7497, 0.7497, 0.7497],\n",
      "         [0.9760, 0.9760, 0.9760],\n",
      "         [0.5971, 0.5971, 0.5971],\n",
      "         [0.3992, 0.3992, 0.3992],\n",
      "         [0.9713, 0.9713, 0.9713]],\n",
      "\n",
      "        [[0.7497, 0.7497, 0.7497],\n",
      "         [0.9760, 0.9760, 0.9760],\n",
      "         [0.5971, 0.5971, 0.5971],\n",
      "         [0.3992, 0.3992, 0.3992],\n",
      "         [0.9713, 0.9713, 0.9713]],\n",
      "\n",
      "        [[0.7497, 0.7497, 0.7497],\n",
      "         [0.9760, 0.9760, 0.9760],\n",
      "         [0.5971, 0.5971, 0.5971],\n",
      "         [0.3992, 0.3992, 0.3992],\n",
      "         [0.9713, 0.9713, 0.9713]],\n",
      "\n",
      "        [[0.7497, 0.7497, 0.7497],\n",
      "         [0.9760, 0.9760, 0.9760],\n",
      "         [0.5971, 0.5971, 0.5971],\n",
      "         [0.3992, 0.3992, 0.3992],\n",
      "         [0.9713, 0.9713, 0.9713]]])\n",
      "tensor([[[0.3280, 0.5546, 0.6437],\n",
      "         [0.3280, 0.5546, 0.6437],\n",
      "         [0.3280, 0.5546, 0.6437],\n",
      "         [0.3280, 0.5546, 0.6437],\n",
      "         [0.3280, 0.5546, 0.6437]],\n",
      "\n",
      "        [[0.3280, 0.5546, 0.6437],\n",
      "         [0.3280, 0.5546, 0.6437],\n",
      "         [0.3280, 0.5546, 0.6437],\n",
      "         [0.3280, 0.5546, 0.6437],\n",
      "         [0.3280, 0.5546, 0.6437]],\n",
      "\n",
      "        [[0.3280, 0.5546, 0.6437],\n",
      "         [0.3280, 0.5546, 0.6437],\n",
      "         [0.3280, 0.5546, 0.6437],\n",
      "         [0.3280, 0.5546, 0.6437],\n",
      "         [0.3280, 0.5546, 0.6437]],\n",
      "\n",
      "        [[0.3280, 0.5546, 0.6437],\n",
      "         [0.3280, 0.5546, 0.6437],\n",
      "         [0.3280, 0.5546, 0.6437],\n",
      "         [0.3280, 0.5546, 0.6437],\n",
      "         [0.3280, 0.5546, 0.6437]]])\n"
     ]
    }
   ],
   "source": [
    "ar = torch.ones(4, 5, 3)\n",
    "bn = ar * torch.rand( 5, 3) \n",
    "print(bn)\n",
    "cl = ar * torch.rand(   5, 1)\n",
    "print(cl)\n",
    "do = ar * torch.rand(   1, 3)\n",
    "print(do)"
   ]
  },
  {
   "cell_type": "markdown",
   "id": "59623cac-7c49-4611-98fe-dc5761fa9c3d",
   "metadata": {},
   "source": [
    "Math with Tensors"
   ]
  },
  {
   "cell_type": "code",
   "execution_count": 31,
   "id": "d9d89ea2-92d8-4dd9-8cb3-b6f1d2734b12",
   "metadata": {},
   "outputs": [
    {
     "name": "stdout",
     "output_type": "stream",
     "text": [
      "Common functions:\n",
      "tensor([[0.3418, 0.4226, 0.2912, 0.2842, 0.3210, 0.6467],\n",
      "        [0.4314, 0.2806, 0.4415, 0.2919, 0.9512, 0.7084],\n",
      "        [0.4206, 0.7355, 0.9955, 0.7998, 0.3173, 0.4156]])\n",
      "tensor([[1., -0., -0., -0., -0., -0.],\n",
      "        [-0., -0., 1., -0., 1., -0.],\n",
      "        [-0., -0., -0., 1., 1., 1.]])\n",
      "tensor([[ 0., -1., -1., -1., -1., -1.],\n",
      "        [-1., -1.,  0., -1.,  0., -1.],\n",
      "        [-1., -1., -1.,  0.,  0.,  0.]])\n",
      "tensor([[ 0.2500, -0.2500, -0.2500, -0.2500, -0.2500, -0.2500],\n",
      "        [-0.2500, -0.2500,  0.2500, -0.2500,  0.2500, -0.2500],\n",
      "        [-0.2500, -0.2500, -0.2500,  0.2500,  0.2500,  0.2500]])\n",
      "\n",
      "The values of Sine & arcsine are:\n",
      "tensor([0.0000, 0.7854, 1.5708, 2.3562])\n",
      "tensor([0.0000, 0.7071, 1.0000, 0.7071])\n",
      "tensor([0.0000, 0.7854, 1.5708, 0.7854])\n",
      "\n",
      "Bitwise XOR is given as:\n",
      "tensor([5, 1, 1])\n",
      "\n",
      "Broadcasted, element-wise equality comparison is given as:\n",
      "tensor([[ True, False],\n",
      "        [False, False]])\n",
      "\n",
      "Reduction ops is given as:\n",
      "tensor(5.)\n",
      "5.0\n",
      "tensor(3.)\n",
      "tensor(1.8257)\n",
      "tensor(40.)\n",
      "tensor([1, 2])\n",
      "\n",
      "Vectors & Matrices are given as:\n",
      "tensor([ 0.,  0., -1.])\n",
      "tensor([[1.0000, 0.4786, 0.3030, 0.5261],\n",
      "        [0.6714, 0.2532, 0.4245, 0.6030],\n",
      "        [0.9829, 0.3053, 0.8499, 0.0936],\n",
      "        [0.0243, 0.7260, 0.1272, 0.2228]])\n",
      "tensor([[1.7448, 0.9255, 1.4803, 1.6184],\n",
      "        [1.3150, 0.7644, 1.3440, 1.2075],\n",
      "        [1.3513, 1.2238, 1.4339, 1.5964],\n",
      "        [0.7589, 0.1448, 0.3339, 0.8660]])\n",
      "torch.return_types.linalg_svd(\n",
      "U=tensor([[-0.6103,  0.2393,  0.3074, -0.6898],\n",
      "        [-0.4875, -0.1143,  0.5744,  0.6476],\n",
      "        [-0.5794, -0.4897, -0.6494,  0.0533],\n",
      "        [-0.2329,  0.8306, -0.3924,  0.3193]]),\n",
      "S=tensor([4.8291, 0.5097, 0.3024, 0.0649]),\n",
      "Vh=tensor([[-0.5520, -0.3479, -0.5109, -0.5597],\n",
      "        [ 0.4626, -0.6769, -0.4401,  0.3663],\n",
      "        [ 0.3845, -0.4233,  0.5448, -0.6133],\n",
      "        [-0.5775, -0.4915,  0.4985,  0.4200]]))\n"
     ]
    }
   ],
   "source": [
    "sa = torch.rand(3, 6) * 2 - 1\n",
    "print('Common functions:')\n",
    "print(torch.abs(sa))\n",
    "print(torch.ceil(sa))\n",
    "print(torch.floor(sa))\n",
    "print(torch.clamp(sa, -0.25, 0.25))\n",
    "\n",
    "# trigonometric functions along with their inverses\n",
    "anglesGeometry = torch.tensor([0, math.pi / 4, math.pi / 2, 3 * math.pi / 4])\n",
    "sineValues = torch.sin(anglesGeometry)\n",
    "inverseValues = torch.asin(sineValues)\n",
    "print('\\nThe values of Sine & arcsine are:')\n",
    "print(anglesGeometry)\n",
    "print(sineValues)\n",
    "print(inverseValues)\n",
    "\n",
    "# Bitwise\n",
    "print('\\nBitwise XOR is given as:')\n",
    "bh = torch.tensor([1, 8, 11])\n",
    "cl = torch.tensor([4, 9, 10])\n",
    "print(torch.bitwise_xor(bh, cl))\n",
    "\n",
    "# Comparisons with Tensors:\n",
    "print('\\nBroadcasted, element-wise equality comparison is given as:')\n",
    "dVar = torch.tensor([[1., 2.], [4., 5.]])\n",
    "eVar = torch.ones(1, 2)  \n",
    "print(torch.eq(dVar, eVar)) \n",
    "\n",
    "# reductions with Tensors:\n",
    "print('\\nReduction ops is given as:')\n",
    "print(torch.max(dVar))       \n",
    "print(torch.max(dVar).item()) \n",
    "print(torch.mean(dVar))       \n",
    "print(torch.std(dVar))        \n",
    "print(torch.prod(dVar))       \n",
    "print(torch.unique(torch.tensor([1, 2, 1, 2, 1, 2])))\n",
    "\n",
    "# vector & linear algebra operations\n",
    "var1 = torch.tensor([1., 0., 0.])         \n",
    "var2 = torch.tensor([0., 1., 0.])         \n",
    "mVar1 = torch.rand(4, 4)                   \n",
    "mVar2 = torch.rand(4, 4)\n",
    "\n",
    "print('\\nVectors & Matrices are given as:')\n",
    "print(torch.linalg.cross(var2, var1))\n",
    "print(mVar1)\n",
    "mVar3 = torch.linalg.matmul(mVar1, mVar2)\n",
    "print(mVar3)                 \n",
    "print(torch.linalg.svd(mVar3))      "
   ]
  },
  {
   "cell_type": "markdown",
   "id": "02c50df2-d9b2-43c5-b524-e61b4543ea60",
   "metadata": {},
   "source": [
    "Altering Tensors in Place"
   ]
  },
  {
   "cell_type": "code",
   "execution_count": 32,
   "id": "d4692bb4-15a9-4cd2-96ec-97871db0a03b",
   "metadata": {},
   "outputs": [
    {
     "name": "stdout",
     "output_type": "stream",
     "text": [
      "sa:\n",
      "tensor([0.0000, 0.7854, 1.0472, 3.1416])\n",
      "tensor([ 0.0000e+00,  7.0711e-01,  8.6603e-01, -8.7423e-08])\n",
      "tensor([0.0000, 0.7854, 1.0472, 3.1416])\n",
      "\n",
      "bh:\n",
      "tensor([0.0000, 0.7854, 1.0472, 3.1416])\n",
      "tensor([ 0.0000e+00,  7.0711e-01,  8.6603e-01, -8.7423e-08])\n",
      "tensor([ 0.0000e+00,  7.0711e-01,  8.6603e-01, -8.7423e-08])\n"
     ]
    }
   ],
   "source": [
    "sa = torch.tensor([0, math.pi / 4, math.pi / 3, 4 * math.pi / 4])\n",
    "print('sa:')\n",
    "print(sa)\n",
    "print(torch.sin(sa))   \n",
    "print(sa)              \n",
    "\n",
    "bh = torch.tensor([0, math.pi / 4, math.pi / 3, 4 * math.pi / 4])\n",
    "print('\\nbh:')\n",
    "print(bh)\n",
    "print(torch.sin_(bh))  \n",
    "print(bh)              "
   ]
  },
  {
   "cell_type": "markdown",
   "id": "306a9973-d12f-4b6f-8864-5af27d7c448e",
   "metadata": {},
   "source": [
    "Few functions in arithmetic operations that behave similarly"
   ]
  },
  {
   "cell_type": "code",
   "execution_count": 33,
   "id": "8c212598-6681-4ea9-bd7e-6e8f5482c5c9",
   "metadata": {},
   "outputs": [
    {
     "name": "stdout",
     "output_type": "stream",
     "text": [
      "Before:\n",
      "tensor([[1., 1., 1., 1., 1., 1., 1., 1.],\n",
      "        [1., 1., 1., 1., 1., 1., 1., 1.],\n",
      "        [1., 1., 1., 1., 1., 1., 1., 1.],\n",
      "        [1., 1., 1., 1., 1., 1., 1., 1.],\n",
      "        [1., 1., 1., 1., 1., 1., 1., 1.],\n",
      "        [1., 1., 1., 1., 1., 1., 1., 1.],\n",
      "        [1., 1., 1., 1., 1., 1., 1., 1.]])\n",
      "tensor([[0.8335, 0.0660, 0.7082, 0.9079, 0.6785, 0.8446, 0.8299, 0.6644],\n",
      "        [0.7673, 0.4209, 0.3795, 0.9197, 0.9399, 0.7340, 0.7090, 0.8198],\n",
      "        [0.2172, 0.1861, 0.7556, 0.5841, 0.9205, 0.3687, 0.3966, 0.7251],\n",
      "        [0.4472, 0.5901, 0.1451, 0.1924, 0.7354, 0.6377, 0.1598, 0.9081],\n",
      "        [0.6024, 0.0726, 0.8993, 0.3797, 0.9800, 0.5804, 0.5772, 0.3595],\n",
      "        [0.5959, 0.1888, 0.9804, 0.6622, 0.4011, 0.3582, 0.0888, 0.2991],\n",
      "        [0.8907, 0.3866, 0.1989, 0.6108, 0.0380, 0.8250, 0.2140, 0.8654]])\n",
      "\n",
      "After adding, the value is :\n",
      "tensor([[1.8335, 1.0660, 1.7082, 1.9079, 1.6785, 1.8446, 1.8299, 1.6644],\n",
      "        [1.7673, 1.4209, 1.3795, 1.9197, 1.9399, 1.7340, 1.7090, 1.8198],\n",
      "        [1.2172, 1.1861, 1.7556, 1.5841, 1.9205, 1.3687, 1.3966, 1.7251],\n",
      "        [1.4472, 1.5901, 1.1451, 1.1924, 1.7354, 1.6377, 1.1598, 1.9081],\n",
      "        [1.6024, 1.0726, 1.8993, 1.3797, 1.9800, 1.5804, 1.5772, 1.3595],\n",
      "        [1.5959, 1.1888, 1.9804, 1.6622, 1.4011, 1.3582, 1.0888, 1.2991],\n",
      "        [1.8907, 1.3866, 1.1989, 1.6108, 1.0380, 1.8250, 1.2140, 1.8654]])\n",
      "tensor([[1.8335, 1.0660, 1.7082, 1.9079, 1.6785, 1.8446, 1.8299, 1.6644],\n",
      "        [1.7673, 1.4209, 1.3795, 1.9197, 1.9399, 1.7340, 1.7090, 1.8198],\n",
      "        [1.2172, 1.1861, 1.7556, 1.5841, 1.9205, 1.3687, 1.3966, 1.7251],\n",
      "        [1.4472, 1.5901, 1.1451, 1.1924, 1.7354, 1.6377, 1.1598, 1.9081],\n",
      "        [1.6024, 1.0726, 1.8993, 1.3797, 1.9800, 1.5804, 1.5772, 1.3595],\n",
      "        [1.5959, 1.1888, 1.9804, 1.6622, 1.4011, 1.3582, 1.0888, 1.2991],\n",
      "        [1.8907, 1.3866, 1.1989, 1.6108, 1.0380, 1.8250, 1.2140, 1.8654]])\n",
      "tensor([[0.8335, 0.0660, 0.7082, 0.9079, 0.6785, 0.8446, 0.8299, 0.6644],\n",
      "        [0.7673, 0.4209, 0.3795, 0.9197, 0.9399, 0.7340, 0.7090, 0.8198],\n",
      "        [0.2172, 0.1861, 0.7556, 0.5841, 0.9205, 0.3687, 0.3966, 0.7251],\n",
      "        [0.4472, 0.5901, 0.1451, 0.1924, 0.7354, 0.6377, 0.1598, 0.9081],\n",
      "        [0.6024, 0.0726, 0.8993, 0.3797, 0.9800, 0.5804, 0.5772, 0.3595],\n",
      "        [0.5959, 0.1888, 0.9804, 0.6622, 0.4011, 0.3582, 0.0888, 0.2991],\n",
      "        [0.8907, 0.3866, 0.1989, 0.6108, 0.0380, 0.8250, 0.2140, 0.8654]])\n",
      "\n",
      "After multiplying, the value is: \n",
      "tensor([[0.6947, 0.0044, 0.5016, 0.8243, 0.4603, 0.7134, 0.6888, 0.4414],\n",
      "        [0.5887, 0.1772, 0.1440, 0.8459, 0.8833, 0.5388, 0.5027, 0.6720],\n",
      "        [0.0472, 0.0347, 0.5709, 0.3412, 0.8473, 0.1360, 0.1573, 0.5257],\n",
      "        [0.2000, 0.3483, 0.0211, 0.0370, 0.5409, 0.4066, 0.0255, 0.8247],\n",
      "        [0.3629, 0.0053, 0.8088, 0.1442, 0.9604, 0.3368, 0.3332, 0.1292],\n",
      "        [0.3551, 0.0357, 0.9613, 0.4384, 0.1609, 0.1283, 0.0079, 0.0894],\n",
      "        [0.7934, 0.1495, 0.0396, 0.3730, 0.0014, 0.6806, 0.0458, 0.7489]])\n",
      "tensor([[0.6947, 0.0044, 0.5016, 0.8243, 0.4603, 0.7134, 0.6888, 0.4414],\n",
      "        [0.5887, 0.1772, 0.1440, 0.8459, 0.8833, 0.5388, 0.5027, 0.6720],\n",
      "        [0.0472, 0.0347, 0.5709, 0.3412, 0.8473, 0.1360, 0.1573, 0.5257],\n",
      "        [0.2000, 0.3483, 0.0211, 0.0370, 0.5409, 0.4066, 0.0255, 0.8247],\n",
      "        [0.3629, 0.0053, 0.8088, 0.1442, 0.9604, 0.3368, 0.3332, 0.1292],\n",
      "        [0.3551, 0.0357, 0.9613, 0.4384, 0.1609, 0.1283, 0.0079, 0.0894],\n",
      "        [0.7934, 0.1495, 0.0396, 0.3730, 0.0014, 0.6806, 0.0458, 0.7489]])\n"
     ]
    }
   ],
   "source": [
    "ar = torch.ones(7, 8)\n",
    "bh = torch.rand(7, 8)\n",
    "\n",
    "print('Before:')\n",
    "print(ar)\n",
    "print(bh)\n",
    "print('\\nAfter adding, the value is :')\n",
    "print(ar.add_(bh))\n",
    "print(ar)\n",
    "print(bh)\n",
    "print('\\nAfter multiplying, the value is: ')\n",
    "print(bh.mul_(bh))\n",
    "print(bh)"
   ]
  },
  {
   "cell_type": "markdown",
   "id": "005a5bf2-8de0-47ba-92fa-91d9c83381a3",
   "metadata": {},
   "source": [
    "There is another option for placing the result of a computation in an existing, allocated tensor, please see below."
   ]
  },
  {
   "cell_type": "code",
   "execution_count": 34,
   "id": "0ffbaf95-500e-438c-a5ec-6092f218caf4",
   "metadata": {},
   "outputs": [
    {
     "name": "stdout",
     "output_type": "stream",
     "text": [
      "tensor([[0., 0., 0., 0., 0.],\n",
      "        [0., 0., 0., 0., 0.],\n",
      "        [0., 0., 0., 0., 0.],\n",
      "        [0., 0., 0., 0., 0.],\n",
      "        [0., 0., 0., 0., 0.]])\n",
      "tensor([[0.7006, 1.2081, 0.6685, 0.8066, 0.9777],\n",
      "        [0.9987, 1.6382, 0.8230, 1.2204, 1.2951],\n",
      "        [1.1755, 1.6318, 1.1775, 1.1385, 1.1676],\n",
      "        [1.2862, 1.2947, 1.0756, 1.4451, 1.2500],\n",
      "        [1.7136, 1.8670, 1.3019, 2.0095, 1.6629]])\n",
      "tensor([[0.0424, 0.9034, 0.7540, 0.9457, 0.2330],\n",
      "        [0.6644, 0.5120, 0.8736, 0.7780, 0.7681],\n",
      "        [0.2989, 0.3671, 0.2593, 0.7175, 0.0034],\n",
      "        [0.3886, 0.4713, 0.7235, 0.9488, 0.6522],\n",
      "        [0.3126, 0.6795, 0.7912, 0.8710, 0.2792]])\n"
     ]
    }
   ],
   "source": [
    "ar = torch.rand(5, 6)\n",
    "bh = torch.rand(6, 5)\n",
    "cl = torch.zeros(5, 5)\n",
    "outDated = id(cl)\n",
    "\n",
    "print(cl)\n",
    "dr = torch.matmul(ar, bh, out=cl)\n",
    "print(cl)                \n",
    "\n",
    "assert cl is dr           \n",
    "assert id(cl) == outDated  \n",
    "\n",
    "torch.rand(5, 5, out=cl) \n",
    "print(cl)                \n",
    "assert id(cl) == outDated "
   ]
  },
  {
   "cell_type": "markdown",
   "id": "2605ae3f-292d-4864-b649-8f860610d335",
   "metadata": {},
   "source": [
    "Copying Tensors"
   ]
  },
  {
   "cell_type": "code",
   "execution_count": 35,
   "id": "cd550174-a94f-4154-b5eb-f3dd79e6216f",
   "metadata": {},
   "outputs": [
    {
     "name": "stdout",
     "output_type": "stream",
     "text": [
      "tensor([[  1.,   1.,   1.,   1.,   1.,   1.],\n",
      "        [  1.,   1., 561.,   1.,   1.,   1.],\n",
      "        [  1.,   1.,   1.,   1.,   1.,   1.],\n",
      "        [  1.,   1.,   1.,   1.,   1.,   1.],\n",
      "        [  1.,   1.,   1.,   1.,   1.,   1.],\n",
      "        [  1.,   1.,   1.,   1.,   1.,   1.]])\n"
     ]
    }
   ],
   "source": [
    "ar = torch.ones(6, 6)\n",
    "bh = ar\n",
    "\n",
    "ar[1][2] = 561  \n",
    "print(bh)      "
   ]
  },
  {
   "cell_type": "markdown",
   "id": "a558c74f-cb52-4b21-bc6a-a97867f31487",
   "metadata": {},
   "source": [
    "The clone() method - if you want a separate copy of the data to work on."
   ]
  },
  {
   "cell_type": "code",
   "execution_count": 36,
   "id": "438fa579-4e11-40d1-bcb8-2644b6102583",
   "metadata": {},
   "outputs": [
    {
     "name": "stdout",
     "output_type": "stream",
     "text": [
      "tensor([[True, True, True, True, True, True, True, True],\n",
      "        [True, True, True, True, True, True, True, True],\n",
      "        [True, True, True, True, True, True, True, True],\n",
      "        [True, True, True, True, True, True, True, True],\n",
      "        [True, True, True, True, True, True, True, True],\n",
      "        [True, True, True, True, True, True, True, True],\n",
      "        [True, True, True, True, True, True, True, True]])\n",
      "tensor([[1., 1., 1., 1., 1., 1., 1., 1.],\n",
      "        [1., 1., 1., 1., 1., 1., 1., 1.],\n",
      "        [1., 1., 1., 1., 1., 1., 1., 1.],\n",
      "        [1., 1., 1., 1., 1., 1., 1., 1.],\n",
      "        [1., 1., 1., 1., 1., 1., 1., 1.],\n",
      "        [1., 1., 1., 1., 1., 1., 1., 1.],\n",
      "        [1., 1., 1., 1., 1., 1., 1., 1.]])\n"
     ]
    }
   ],
   "source": [
    "ar = torch.ones(7, 8)\n",
    "bh = ar.clone()\n",
    "\n",
    "assert bh is not ar      \n",
    "print(torch.eq(ar, bh))  \n",
    "\n",
    "ar[3][4] = 561          \n",
    "print(bh)              "
   ]
  },
  {
   "cell_type": "markdown",
   "id": "1d9f2304-a04d-42d8-9d6f-403c6f5a025b",
   "metadata": {},
   "source": [
    "Turn on autograd"
   ]
  },
  {
   "cell_type": "code",
   "execution_count": 37,
   "id": "88059219-8eab-4af5-ac3d-1674ce64bc74",
   "metadata": {},
   "outputs": [
    {
     "name": "stdout",
     "output_type": "stream",
     "text": [
      "tensor([[0.9800, 0.9477, 0.6487, 0.4257, 0.4868, 0.9243, 0.9905, 0.7805],\n",
      "        [0.8298, 0.3381, 0.1232, 0.1881, 0.1123, 0.2708, 0.8879, 0.5622],\n",
      "        [0.7514, 0.3236, 0.8012, 0.7344, 0.1401, 0.3858, 0.1361, 0.9148],\n",
      "        [0.8322, 0.7992, 0.3317, 0.9874, 0.5394, 0.9990, 0.4400, 0.9243],\n",
      "        [0.6090, 0.1105, 0.8755, 0.3978, 0.8391, 0.9563, 0.1268, 0.9720],\n",
      "        [0.3442, 0.3943, 0.8268, 0.7974, 0.2722, 0.5130, 0.4512, 0.0765],\n",
      "        [0.6044, 0.6725, 0.9667, 0.0785, 0.6806, 0.5463, 0.2513, 0.5644]],\n",
      "       requires_grad=True)\n",
      "tensor([[0.9800, 0.9477, 0.6487, 0.4257, 0.4868, 0.9243, 0.9905, 0.7805],\n",
      "        [0.8298, 0.3381, 0.1232, 0.1881, 0.1123, 0.2708, 0.8879, 0.5622],\n",
      "        [0.7514, 0.3236, 0.8012, 0.7344, 0.1401, 0.3858, 0.1361, 0.9148],\n",
      "        [0.8322, 0.7992, 0.3317, 0.9874, 0.5394, 0.9990, 0.4400, 0.9243],\n",
      "        [0.6090, 0.1105, 0.8755, 0.3978, 0.8391, 0.9563, 0.1268, 0.9720],\n",
      "        [0.3442, 0.3943, 0.8268, 0.7974, 0.2722, 0.5130, 0.4512, 0.0765],\n",
      "        [0.6044, 0.6725, 0.9667, 0.0785, 0.6806, 0.5463, 0.2513, 0.5644]],\n",
      "       grad_fn=<CloneBackward0>)\n",
      "tensor([[0.9800, 0.9477, 0.6487, 0.4257, 0.4868, 0.9243, 0.9905, 0.7805],\n",
      "        [0.8298, 0.3381, 0.1232, 0.1881, 0.1123, 0.2708, 0.8879, 0.5622],\n",
      "        [0.7514, 0.3236, 0.8012, 0.7344, 0.1401, 0.3858, 0.1361, 0.9148],\n",
      "        [0.8322, 0.7992, 0.3317, 0.9874, 0.5394, 0.9990, 0.4400, 0.9243],\n",
      "        [0.6090, 0.1105, 0.8755, 0.3978, 0.8391, 0.9563, 0.1268, 0.9720],\n",
      "        [0.3442, 0.3943, 0.8268, 0.7974, 0.2722, 0.5130, 0.4512, 0.0765],\n",
      "        [0.6044, 0.6725, 0.9667, 0.0785, 0.6806, 0.5463, 0.2513, 0.5644]])\n",
      "tensor([[0.9800, 0.9477, 0.6487, 0.4257, 0.4868, 0.9243, 0.9905, 0.7805],\n",
      "        [0.8298, 0.3381, 0.1232, 0.1881, 0.1123, 0.2708, 0.8879, 0.5622],\n",
      "        [0.7514, 0.3236, 0.8012, 0.7344, 0.1401, 0.3858, 0.1361, 0.9148],\n",
      "        [0.8322, 0.7992, 0.3317, 0.9874, 0.5394, 0.9990, 0.4400, 0.9243],\n",
      "        [0.6090, 0.1105, 0.8755, 0.3978, 0.8391, 0.9563, 0.1268, 0.9720],\n",
      "        [0.3442, 0.3943, 0.8268, 0.7974, 0.2722, 0.5130, 0.4512, 0.0765],\n",
      "        [0.6044, 0.6725, 0.9667, 0.0785, 0.6806, 0.5463, 0.2513, 0.5644]],\n",
      "       requires_grad=True)\n"
     ]
    }
   ],
   "source": [
    "ar = torch.rand(7, 8, requires_grad=True) \n",
    "print(ar)\n",
    "\n",
    "bh = ar.clone()\n",
    "print(bh)\n",
    "\n",
    "cl = ar.detach().clone()\n",
    "print(cl)\n",
    "\n",
    "print(ar)"
   ]
  },
  {
   "cell_type": "markdown",
   "id": "08bf7af4-5000-47a0-ab3e-3597cdf071cd",
   "metadata": {},
   "source": [
    "Moving to Accelerator"
   ]
  },
  {
   "cell_type": "code",
   "execution_count": 38,
   "id": "73609929-3c8f-4979-a906-e249a20b26d0",
   "metadata": {},
   "outputs": [
    {
     "name": "stdout",
     "output_type": "stream",
     "text": [
      "We have an accelerator here, voila!\n"
     ]
    }
   ],
   "source": [
    "# One of the major advantages of PyTorch is its robust acceleration on an accelerator such as CUDA, MPS, MTIA, or XPU.\n",
    "# As of now, everything we’ve done has been on CPU. To move the hardware faster, we would use is_available() method.\n",
    "if torch.accelerator.is_available():\n",
    "    print('We have an accelerator here, voila!')\n",
    "else:\n",
    "    print('Sorry, its just CPU only.')"
   ]
  },
  {
   "cell_type": "code",
   "execution_count": 39,
   "id": "a93a1aee-d555-4440-a61c-3c8bae55e351",
   "metadata": {},
   "outputs": [
    {
     "name": "stdout",
     "output_type": "stream",
     "text": [
      "tensor([[0.2172, 0.3683, 0.0173, 0.0119, 0.4379, 0.2681, 0.3272, 0.4098, 0.2655],\n",
      "        [0.4791, 0.6678, 0.9874, 0.9049, 0.4639, 0.9215, 0.3632, 0.2743, 0.8642],\n",
      "        [0.9333, 0.2453, 0.4359, 0.0355, 0.1992, 0.8771, 0.8449, 0.2416, 0.0094],\n",
      "        [0.4744, 0.7923, 0.6913, 0.7770, 0.4967, 0.2813, 0.1370, 0.2667, 0.5137],\n",
      "        [0.8253, 0.5274, 0.5056, 0.1225, 0.2536, 0.3903, 0.8553, 0.9189, 0.3630],\n",
      "        [0.1251, 0.1168, 0.6796, 0.6446, 0.3417, 0.1082, 0.3967, 0.5063, 0.1309],\n",
      "        [0.0881, 0.2523, 0.1704, 0.4124, 0.1096, 0.5513, 0.9695, 0.8216, 0.6303],\n",
      "        [0.5095, 0.7560, 0.8568, 0.6367, 0.1598, 0.6135, 0.1897, 0.2671, 0.6503]],\n",
      "       device='mps:0')\n"
     ]
    }
   ],
   "source": [
    "# There are multiple ways to get your data onto your target device.\n",
    "\n",
    "if torch.accelerator.is_available():\n",
    "    randomGpu = torch.rand(8, 9, device=torch.accelerator.current_accelerator())\n",
    "    print(randomGpu)\n",
    "else:\n",
    "    print('Sorry, its just CPU only.')"
   ]
  },
  {
   "cell_type": "code",
   "execution_count": 40,
   "id": "21d2e499-ad42-4160-b484-c4c715f48c8d",
   "metadata": {},
   "outputs": [
    {
     "name": "stdout",
     "output_type": "stream",
     "text": [
      "Device Details: mps\n",
      "tensor([[0.4699, 0.1754, 0.7270, 0.4311, 0.3909, 0.9156, 0.9619, 0.3824],\n",
      "        [0.6299, 0.8445, 0.5633, 0.6529, 0.4292, 0.2494, 0.5452, 0.8030],\n",
      "        [0.1348, 0.5728, 0.9215, 0.5672, 0.4103, 0.8445, 0.1884, 0.4848],\n",
      "        [0.5272, 0.4855, 0.6756, 0.9685, 0.3083, 0.9589, 0.6552, 0.2652],\n",
      "        [0.1649, 0.6583, 0.9810, 0.6206, 0.6260, 0.9852, 0.2697, 0.0352],\n",
      "        [0.8187, 0.0640, 0.6481, 0.7336, 0.4393, 0.2046, 0.3598, 0.3228],\n",
      "        [0.0352, 0.8442, 0.1820, 0.7335, 0.9759, 0.6965, 0.0313, 0.7828]],\n",
      "       device='mps:0')\n"
     ]
    }
   ],
   "source": [
    "myOwnDevice = torch.accelerator.current_accelerator() if torch.accelerator.is_available() else torch.device('cpu')\n",
    "print('Device Details: {}'.format(myOwnDevice))\n",
    "\n",
    "var = torch.rand(7, 8, device=myOwnDevice)\n",
    "print(var)"
   ]
  },
  {
   "cell_type": "code",
   "execution_count": 41,
   "id": "35b7b5f6-6690-4d48-b09d-5dded69d4a9b",
   "metadata": {},
   "outputs": [],
   "source": [
    "# If you have an existing tensor living on one device, you can move it to another device using to() method. \n",
    "\n",
    "yd = torch.rand(7, 8)\n",
    "yd = yd.to(myOwnDevice)"
   ]
  },
  {
   "cell_type": "code",
   "execution_count": 42,
   "id": "0c4472c1-b7a5-4c84-bf43-a2931db0a787",
   "metadata": {},
   "outputs": [
    {
     "name": "stdout",
     "output_type": "stream",
     "text": [
      "tensor([[1.7766, 1.7907, 1.3479, 0.6298, 0.6715, 1.0925, 1.6024, 1.5532],\n",
      "        [0.6774, 1.4971, 1.6833, 0.8520, 0.6607, 0.8124, 1.3751, 0.5100],\n",
      "        [0.6645, 0.2742, 1.3031, 1.6977, 1.1441, 0.7336, 0.9401, 0.8765],\n",
      "        [1.7158, 1.3366, 0.5014, 1.1242, 1.5260, 1.2237, 0.9931, 0.5047],\n",
      "        [0.4836, 1.5605, 0.9288, 0.3062, 1.4376, 1.0414, 1.2327, 0.7897],\n",
      "        [0.6630, 1.6493, 1.7636, 0.6325, 1.4949, 0.8766, 1.5138, 0.2684]])\n"
     ]
    }
   ],
   "source": [
    "import torch\n",
    "\n",
    "device = torch.device(\"cuda\" if torch.cuda.is_available() else \"cpu\")\n",
    "\n",
    "xVar = torch.rand(6, 8, device=device)\n",
    "yVar = torch.rand(6, 8, device=device)\n",
    "\n",
    "zVar = xVar + yVar\n",
    "print(zVar)"
   ]
  },
  {
   "cell_type": "markdown",
   "id": "5d22dd5a-9470-40de-96c1-990548142799",
   "metadata": {},
   "source": [
    "Manipulating Tensor Shapes"
   ]
  },
  {
   "cell_type": "code",
   "execution_count": 43,
   "id": "f25e66e8-4f1f-4abe-8603-f8552bfeb6db",
   "metadata": {},
   "outputs": [
    {
     "name": "stdout",
     "output_type": "stream",
     "text": [
      "torch.Size([3, 226, 226])\n",
      "torch.Size([1, 3, 226, 226])\n",
      "tensor([[[[[0.0501, 0.1601, 0.6982],\n",
      "           [0.7347, 0.2324, 0.0541],\n",
      "           [0.3722, 0.6107, 0.8808],\n",
      "           ...,\n",
      "           [0.7653, 0.6941, 0.6825],\n",
      "           [0.4436, 0.8682, 0.2302],\n",
      "           [0.5794, 0.3795, 0.1943]],\n",
      "\n",
      "          [[0.3860, 0.4596, 0.8860],\n",
      "           [0.7390, 0.8985, 0.7866],\n",
      "           [0.4188, 0.3397, 0.1269],\n",
      "           ...,\n",
      "           [0.6613, 0.6280, 0.2699],\n",
      "           [0.4412, 0.7195, 0.4426],\n",
      "           [0.0589, 0.7327, 0.4559]],\n",
      "\n",
      "          [[0.6757, 0.6540, 0.5396],\n",
      "           [0.4833, 0.7229, 0.8821],\n",
      "           [0.3404, 0.2689, 0.5412],\n",
      "           ...,\n",
      "           [0.9169, 0.8942, 0.9634],\n",
      "           [0.7591, 0.5350, 0.6436],\n",
      "           [0.5964, 0.9995, 0.1362]]],\n",
      "\n",
      "\n",
      "         [[[0.8003, 0.3077, 0.8952],\n",
      "           [0.5999, 0.8977, 0.8767],\n",
      "           [0.9659, 0.8491, 0.3083],\n",
      "           ...,\n",
      "           [0.8188, 0.0282, 0.1262],\n",
      "           [0.2314, 0.3232, 0.0898],\n",
      "           [0.9505, 0.4718, 0.6800]],\n",
      "\n",
      "          [[0.4893, 0.4809, 0.8510],\n",
      "           [0.4831, 0.3988, 0.2887],\n",
      "           [0.2804, 0.0466, 0.3585],\n",
      "           ...,\n",
      "           [0.3061, 0.4992, 0.7695],\n",
      "           [0.8277, 0.2223, 0.5242],\n",
      "           [0.1743, 0.3143, 0.6942]],\n",
      "\n",
      "          [[0.3678, 0.1291, 0.0679],\n",
      "           [0.5404, 0.3201, 0.9851],\n",
      "           [0.6238, 0.8531, 0.8714],\n",
      "           ...,\n",
      "           [0.4019, 0.8550, 0.9489],\n",
      "           [0.0680, 0.9559, 0.8395],\n",
      "           [0.1381, 0.2897, 0.7323]]],\n",
      "\n",
      "\n",
      "         [[[0.1144, 0.7276, 0.2300],\n",
      "           [0.2372, 0.3090, 0.5729],\n",
      "           [0.2677, 0.5948, 0.3486],\n",
      "           ...,\n",
      "           [0.4586, 0.3462, 0.1902],\n",
      "           [0.4656, 0.8000, 0.3143],\n",
      "           [0.4961, 0.0936, 0.5808]],\n",
      "\n",
      "          [[0.4595, 0.3945, 0.6227],\n",
      "           [0.3905, 0.6481, 0.4246],\n",
      "           [0.0942, 0.4409, 0.8158],\n",
      "           ...,\n",
      "           [0.3830, 0.0661, 0.4341],\n",
      "           [0.2004, 0.8403, 0.1986],\n",
      "           [0.4093, 0.3126, 0.4341]],\n",
      "\n",
      "          [[0.8721, 0.7955, 0.4496],\n",
      "           [0.4330, 0.9266, 0.3854],\n",
      "           [0.6339, 0.9826, 0.6271],\n",
      "           ...,\n",
      "           [0.8954, 0.2448, 0.0344],\n",
      "           [0.2011, 0.3158, 0.7450],\n",
      "           [0.0144, 0.9801, 0.7506]]],\n",
      "\n",
      "\n",
      "         [[[0.4759, 0.0679, 0.9972],\n",
      "           [0.0751, 0.3290, 0.5297],\n",
      "           [0.9580, 0.8993, 0.6253],\n",
      "           ...,\n",
      "           [0.3320, 0.4228, 0.7062],\n",
      "           [0.7997, 0.4479, 0.6947],\n",
      "           [0.8033, 0.4357, 0.4637]],\n",
      "\n",
      "          [[0.5005, 0.0413, 0.6690],\n",
      "           [0.7698, 0.0611, 0.7136],\n",
      "           [0.9297, 0.3643, 0.0934],\n",
      "           ...,\n",
      "           [0.9871, 0.4744, 0.5193],\n",
      "           [0.4155, 0.6507, 0.6521],\n",
      "           [0.2951, 0.3852, 0.5124]],\n",
      "\n",
      "          [[0.6934, 0.5665, 0.0827],\n",
      "           [0.3900, 0.9230, 0.2268],\n",
      "           [0.9853, 0.7426, 0.0583],\n",
      "           ...,\n",
      "           [0.2280, 0.4053, 0.2379],\n",
      "           [0.6632, 0.3650, 0.2071],\n",
      "           [0.1347, 0.5752, 0.5915]]],\n",
      "\n",
      "\n",
      "         [[[0.9479, 0.1020, 0.6898],\n",
      "           [0.6102, 0.4798, 0.3211],\n",
      "           [0.4337, 0.6935, 0.3957],\n",
      "           ...,\n",
      "           [0.0524, 0.6815, 0.4925],\n",
      "           [0.9226, 0.1890, 0.3625],\n",
      "           [0.2238, 0.5517, 0.3674]],\n",
      "\n",
      "          [[0.5972, 0.3045, 0.0829],\n",
      "           [0.3722, 0.3627, 0.0708],\n",
      "           [0.0717, 0.5457, 0.7482],\n",
      "           ...,\n",
      "           [0.9526, 0.5244, 0.4327],\n",
      "           [0.5627, 0.2827, 0.5797],\n",
      "           [0.5667, 0.9079, 0.6428]],\n",
      "\n",
      "          [[0.0747, 0.4895, 0.5046],\n",
      "           [0.3396, 0.0447, 0.0150],\n",
      "           [0.5071, 0.6169, 0.4082],\n",
      "           ...,\n",
      "           [0.7267, 0.4537, 0.5788],\n",
      "           [0.4852, 0.1572, 0.4629],\n",
      "           [0.3427, 0.8143, 0.6136]]]],\n",
      "\n",
      "\n",
      "\n",
      "        [[[[0.6482, 0.3946, 0.7476],\n",
      "           [0.9219, 0.6368, 0.6726],\n",
      "           [0.8983, 0.0407, 0.8284],\n",
      "           ...,\n",
      "           [0.4032, 0.2033, 0.4842],\n",
      "           [0.1619, 0.0844, 0.0809],\n",
      "           [0.1115, 0.0296, 0.6680]],\n",
      "\n",
      "          [[0.6414, 0.5760, 0.3692],\n",
      "           [0.4705, 0.3941, 0.8573],\n",
      "           [0.0924, 0.7618, 0.4710],\n",
      "           ...,\n",
      "           [0.6648, 0.8641, 0.0925],\n",
      "           [0.7893, 0.6013, 0.8478],\n",
      "           [0.6371, 0.0170, 0.6742]],\n",
      "\n",
      "          [[0.9385, 0.9992, 0.3642],\n",
      "           [0.4560, 0.2386, 0.0744],\n",
      "           [0.9688, 0.6671, 0.4804],\n",
      "           ...,\n",
      "           [0.8686, 0.1726, 0.3582],\n",
      "           [0.1823, 0.0134, 0.0696],\n",
      "           [0.6196, 0.0598, 0.5204]]],\n",
      "\n",
      "\n",
      "         [[[0.2783, 0.9907, 0.0728],\n",
      "           [0.5599, 0.9149, 0.4675],\n",
      "           [0.6898, 0.0327, 0.4757],\n",
      "           ...,\n",
      "           [0.7211, 0.8289, 0.7964],\n",
      "           [0.1263, 0.4210, 0.9226],\n",
      "           [0.8080, 0.4471, 0.0187]],\n",
      "\n",
      "          [[0.0084, 0.9601, 0.0100],\n",
      "           [0.9349, 0.1501, 0.2921],\n",
      "           [0.9949, 0.2546, 0.7474],\n",
      "           ...,\n",
      "           [0.6842, 0.6184, 0.3228],\n",
      "           [0.5817, 0.6829, 0.9734],\n",
      "           [0.0227, 0.5729, 0.9395]],\n",
      "\n",
      "          [[0.7737, 0.2464, 0.6842],\n",
      "           [0.3645, 0.4347, 0.9345],\n",
      "           [0.6002, 0.7528, 0.3855],\n",
      "           ...,\n",
      "           [0.8689, 0.0218, 0.4374],\n",
      "           [0.5005, 0.4677, 0.9886],\n",
      "           [0.4807, 0.8113, 0.6290]]],\n",
      "\n",
      "\n",
      "         [[[0.0739, 0.4845, 0.1787],\n",
      "           [0.4912, 0.5417, 0.3634],\n",
      "           [0.3687, 0.4459, 0.3217],\n",
      "           ...,\n",
      "           [0.7986, 0.3174, 0.5094],\n",
      "           [0.4340, 0.6014, 0.1117],\n",
      "           [0.6926, 0.7252, 0.0489]],\n",
      "\n",
      "          [[0.6809, 0.1243, 0.4721],\n",
      "           [0.2889, 0.1345, 0.3969],\n",
      "           [0.6291, 0.4328, 0.9074],\n",
      "           ...,\n",
      "           [0.5981, 0.5841, 0.2464],\n",
      "           [0.4252, 0.9967, 0.9099],\n",
      "           [0.5992, 0.6398, 0.2045]],\n",
      "\n",
      "          [[0.1894, 0.1400, 0.0443],\n",
      "           [0.9411, 0.3726, 0.1858],\n",
      "           [0.9830, 0.0102, 0.2974],\n",
      "           ...,\n",
      "           [0.7979, 0.7570, 0.8585],\n",
      "           [0.5871, 0.5052, 0.1819],\n",
      "           [0.4008, 0.6683, 0.1440]]],\n",
      "\n",
      "\n",
      "         [[[0.0959, 0.2708, 0.1804],\n",
      "           [0.6658, 0.8671, 0.5770],\n",
      "           [0.0603, 0.1181, 0.1952],\n",
      "           ...,\n",
      "           [0.1207, 0.8339, 0.5946],\n",
      "           [0.9338, 0.1759, 0.6364],\n",
      "           [0.1605, 0.8084, 0.8833]],\n",
      "\n",
      "          [[0.6074, 0.3679, 0.7003],\n",
      "           [0.1249, 0.5593, 0.1643],\n",
      "           [0.2371, 0.5507, 0.9087],\n",
      "           ...,\n",
      "           [0.1240, 0.0925, 0.1364],\n",
      "           [0.2854, 0.3055, 0.0214],\n",
      "           [0.4431, 0.7447, 0.4639]],\n",
      "\n",
      "          [[0.2505, 0.4547, 0.5081],\n",
      "           [0.9932, 0.3665, 0.3060],\n",
      "           [0.7276, 0.5639, 0.1327],\n",
      "           ...,\n",
      "           [0.2835, 0.4023, 0.5687],\n",
      "           [0.2030, 0.7482, 0.3188],\n",
      "           [0.7970, 0.2889, 0.6867]]],\n",
      "\n",
      "\n",
      "         [[[0.5929, 0.1356, 0.4490],\n",
      "           [0.4787, 0.8319, 0.0497],\n",
      "           [0.6826, 0.6905, 0.8523],\n",
      "           ...,\n",
      "           [0.3649, 0.2322, 0.6109],\n",
      "           [0.7383, 0.2404, 0.3464],\n",
      "           [0.7510, 0.0972, 0.4401]],\n",
      "\n",
      "          [[0.3181, 0.3949, 0.9829],\n",
      "           [0.5674, 0.7606, 0.2839],\n",
      "           [0.2587, 0.8673, 0.2530],\n",
      "           ...,\n",
      "           [0.6373, 0.1533, 0.0723],\n",
      "           [0.1889, 0.2011, 0.6391],\n",
      "           [0.7110, 0.4065, 0.2721]],\n",
      "\n",
      "          [[0.4503, 0.6223, 0.9751],\n",
      "           [0.7034, 0.0902, 0.0074],\n",
      "           [0.9027, 0.6823, 0.6159],\n",
      "           ...,\n",
      "           [0.2496, 0.4646, 0.4236],\n",
      "           [0.1502, 0.4973, 0.2627],\n",
      "           [0.3845, 0.2476, 0.6594]]]],\n",
      "\n",
      "\n",
      "\n",
      "        [[[[0.2055, 0.7497, 0.6789],\n",
      "           [0.7370, 0.3133, 0.3026],\n",
      "           [0.7088, 0.2411, 0.5447],\n",
      "           ...,\n",
      "           [0.0128, 0.8015, 0.3537],\n",
      "           [0.0107, 0.4679, 0.6449],\n",
      "           [0.1862, 0.0195, 0.3786]],\n",
      "\n",
      "          [[0.5289, 0.9519, 0.1640],\n",
      "           [0.6460, 0.3157, 0.0769],\n",
      "           [0.1407, 0.9042, 0.3577],\n",
      "           ...,\n",
      "           [0.4129, 0.5173, 0.7861],\n",
      "           [0.1647, 0.7935, 0.1541],\n",
      "           [0.6598, 0.2323, 0.2983]],\n",
      "\n",
      "          [[0.2612, 0.9757, 0.6380],\n",
      "           [0.6537, 0.4019, 0.4142],\n",
      "           [0.7534, 0.4969, 0.6347],\n",
      "           ...,\n",
      "           [0.0795, 0.9151, 0.9353],\n",
      "           [0.6045, 0.7712, 0.2516],\n",
      "           [0.2486, 0.9894, 0.3219]]],\n",
      "\n",
      "\n",
      "         [[[0.5302, 0.9417, 0.2926],\n",
      "           [0.0386, 0.2317, 0.3369],\n",
      "           [0.4787, 0.1549, 0.8728],\n",
      "           ...,\n",
      "           [0.3425, 0.3990, 0.1621],\n",
      "           [0.3811, 0.2462, 0.4504],\n",
      "           [0.3724, 0.4908, 0.0640]],\n",
      "\n",
      "          [[0.1971, 0.8895, 0.0288],\n",
      "           [0.6752, 0.4279, 0.9636],\n",
      "           [0.1285, 0.5565, 0.0121],\n",
      "           ...,\n",
      "           [0.9989, 0.4057, 0.3439],\n",
      "           [0.8290, 0.2731, 0.7567],\n",
      "           [0.3379, 0.5722, 0.4865]],\n",
      "\n",
      "          [[0.7309, 0.1801, 0.6606],\n",
      "           [0.7190, 0.6217, 0.2179],\n",
      "           [0.0806, 0.4390, 0.0948],\n",
      "           ...,\n",
      "           [0.2031, 0.6832, 0.2470],\n",
      "           [0.7137, 0.3198, 0.5674],\n",
      "           [0.5092, 0.1099, 0.7996]]],\n",
      "\n",
      "\n",
      "         [[[0.8698, 0.4808, 0.9262],\n",
      "           [0.6412, 0.2670, 0.7658],\n",
      "           [0.9197, 0.0431, 0.8815],\n",
      "           ...,\n",
      "           [0.4660, 0.7024, 0.5393],\n",
      "           [0.7807, 0.9729, 0.1139],\n",
      "           [0.7342, 0.4960, 0.0830]],\n",
      "\n",
      "          [[0.5216, 0.8496, 0.2443],\n",
      "           [0.5584, 0.7226, 0.6214],\n",
      "           [0.8682, 0.6819, 0.6221],\n",
      "           ...,\n",
      "           [0.5925, 0.5646, 0.8313],\n",
      "           [0.1003, 0.9878, 0.0426],\n",
      "           [0.5337, 0.3308, 0.3753]],\n",
      "\n",
      "          [[0.6434, 0.6717, 0.3629],\n",
      "           [0.6608, 0.4321, 0.4156],\n",
      "           [0.6394, 0.5939, 0.0913],\n",
      "           ...,\n",
      "           [0.9155, 0.0661, 0.6026],\n",
      "           [0.5655, 0.8937, 0.5625],\n",
      "           [0.4588, 0.9912, 0.7102]]],\n",
      "\n",
      "\n",
      "         [[[0.7012, 0.3333, 0.5739],\n",
      "           [0.9069, 0.7607, 0.0712],\n",
      "           [0.3538, 0.3915, 0.2238],\n",
      "           ...,\n",
      "           [0.9776, 0.4465, 0.6482],\n",
      "           [0.1308, 0.6139, 0.3141],\n",
      "           [0.7322, 0.6978, 0.8737]],\n",
      "\n",
      "          [[0.8533, 0.9438, 0.5575],\n",
      "           [0.6166, 0.2622, 0.6900],\n",
      "           [0.1174, 0.8917, 0.4187],\n",
      "           ...,\n",
      "           [0.2939, 0.2320, 0.3169],\n",
      "           [0.6072, 0.2973, 0.1590],\n",
      "           [0.5470, 0.1610, 0.1146]],\n",
      "\n",
      "          [[0.7290, 0.9745, 0.4563],\n",
      "           [0.5652, 0.2956, 0.5053],\n",
      "           [0.0173, 0.7582, 0.5921],\n",
      "           ...,\n",
      "           [0.9058, 0.3041, 0.4206],\n",
      "           [0.3572, 0.8468, 0.3503],\n",
      "           [0.1723, 0.0893, 0.8984]]],\n",
      "\n",
      "\n",
      "         [[[0.0481, 0.9739, 0.5016],\n",
      "           [0.6693, 0.4766, 0.3936],\n",
      "           [0.3515, 0.2114, 0.5932],\n",
      "           ...,\n",
      "           [0.0680, 0.8148, 0.0807],\n",
      "           [0.5684, 0.2675, 0.5760],\n",
      "           [0.7355, 0.6538, 0.2566]],\n",
      "\n",
      "          [[0.6766, 0.6822, 0.2914],\n",
      "           [0.2422, 0.9548, 0.2398],\n",
      "           [0.5904, 0.8933, 0.6028],\n",
      "           ...,\n",
      "           [0.8611, 0.1743, 0.0934],\n",
      "           [0.7080, 0.6915, 0.9688],\n",
      "           [0.5446, 0.2408, 0.9177]],\n",
      "\n",
      "          [[0.8679, 0.6816, 0.9661],\n",
      "           [0.6030, 0.7134, 0.7819],\n",
      "           [0.9935, 0.2483, 0.6789],\n",
      "           ...,\n",
      "           [0.1183, 0.8664, 0.4208],\n",
      "           [0.7525, 0.7800, 0.5538],\n",
      "           [0.2486, 0.6940, 0.7706]]]],\n",
      "\n",
      "\n",
      "\n",
      "        [[[[0.6811, 0.2189, 0.6660],\n",
      "           [0.8097, 0.5570, 0.7502],\n",
      "           [0.4914, 0.6689, 0.6937],\n",
      "           ...,\n",
      "           [0.9323, 0.8781, 0.1788],\n",
      "           [0.7306, 0.7814, 0.9693],\n",
      "           [0.5159, 0.3206, 0.2499]],\n",
      "\n",
      "          [[0.9809, 0.9541, 0.1181],\n",
      "           [0.9629, 0.7246, 0.3424],\n",
      "           [0.8753, 0.2041, 0.3154],\n",
      "           ...,\n",
      "           [0.5115, 0.5275, 0.2670],\n",
      "           [0.3629, 0.9878, 0.8381],\n",
      "           [0.6996, 0.6278, 0.6482]],\n",
      "\n",
      "          [[0.6370, 0.1186, 0.2563],\n",
      "           [0.9357, 0.6844, 0.0599],\n",
      "           [0.6178, 0.2266, 0.4558],\n",
      "           ...,\n",
      "           [0.1927, 0.8921, 0.9273],\n",
      "           [0.2561, 0.2182, 0.8690],\n",
      "           [0.3764, 0.8613, 0.8127]]],\n",
      "\n",
      "\n",
      "         [[[0.6989, 0.6076, 0.5878],\n",
      "           [0.4397, 0.8569, 0.9234],\n",
      "           [0.9039, 0.8875, 0.3302],\n",
      "           ...,\n",
      "           [0.9976, 0.7073, 0.9637],\n",
      "           [0.6769, 0.7470, 0.1653],\n",
      "           [0.5042, 0.3078, 0.5682]],\n",
      "\n",
      "          [[0.5073, 0.5663, 0.0405],\n",
      "           [0.1132, 0.5454, 0.1598],\n",
      "           [0.0787, 0.8978, 0.0871],\n",
      "           ...,\n",
      "           [0.6860, 0.5798, 0.8353],\n",
      "           [0.0651, 0.3711, 0.9370],\n",
      "           [0.9045, 0.2446, 0.8284]],\n",
      "\n",
      "          [[0.6268, 0.8223, 0.6311],\n",
      "           [0.1225, 0.5040, 0.3816],\n",
      "           [0.3170, 0.8952, 0.7744],\n",
      "           ...,\n",
      "           [0.3725, 0.4714, 0.4053],\n",
      "           [0.7067, 0.5253, 0.6409],\n",
      "           [0.5977, 0.0586, 0.2435]]],\n",
      "\n",
      "\n",
      "         [[[0.5738, 0.6349, 0.7204],\n",
      "           [0.8227, 0.6756, 0.9261],\n",
      "           [0.6770, 0.0160, 0.7827],\n",
      "           ...,\n",
      "           [0.2277, 0.6881, 0.2829],\n",
      "           [0.6608, 0.3199, 0.9745],\n",
      "           [0.9326, 0.0108, 0.5268]],\n",
      "\n",
      "          [[0.5751, 0.6308, 0.3814],\n",
      "           [0.6616, 0.6332, 0.0616],\n",
      "           [0.4338, 0.2024, 0.8908],\n",
      "           ...,\n",
      "           [0.8143, 0.6259, 0.8102],\n",
      "           [0.7267, 0.2431, 0.1167],\n",
      "           [0.5892, 0.8533, 0.8780]],\n",
      "\n",
      "          [[0.3378, 0.4036, 0.2679],\n",
      "           [0.5622, 0.5050, 0.0823],\n",
      "           [0.5762, 0.8116, 0.8009],\n",
      "           ...,\n",
      "           [0.2964, 0.6034, 0.2716],\n",
      "           [0.1025, 0.3660, 0.2365],\n",
      "           [0.2203, 0.9913, 0.4991]]],\n",
      "\n",
      "\n",
      "         [[[0.9524, 0.9135, 0.0405],\n",
      "           [0.6979, 0.2992, 0.8758],\n",
      "           [0.3251, 0.0742, 0.8653],\n",
      "           ...,\n",
      "           [0.2590, 0.1057, 0.2112],\n",
      "           [0.2815, 0.7640, 0.0362],\n",
      "           [0.3835, 0.8270, 0.2542]],\n",
      "\n",
      "          [[0.2771, 0.0860, 0.5512],\n",
      "           [0.9387, 0.4286, 0.4057],\n",
      "           [0.0146, 0.8596, 0.4650],\n",
      "           ...,\n",
      "           [0.8826, 0.5190, 0.7347],\n",
      "           [0.2643, 0.3079, 0.3061],\n",
      "           [0.5523, 0.8534, 0.3838]],\n",
      "\n",
      "          [[0.4524, 0.0399, 0.4434],\n",
      "           [0.9105, 0.9364, 0.0804],\n",
      "           [0.5598, 0.5888, 0.2949],\n",
      "           ...,\n",
      "           [0.0751, 0.3119, 0.5820],\n",
      "           [0.8773, 0.9862, 0.4312],\n",
      "           [0.9693, 0.2787, 0.4487]]],\n",
      "\n",
      "\n",
      "         [[[0.0523, 0.0205, 0.9541],\n",
      "           [0.8623, 0.3008, 0.1147],\n",
      "           [0.9978, 0.4563, 0.7908],\n",
      "           ...,\n",
      "           [0.1759, 0.4325, 0.5171],\n",
      "           [0.7140, 0.8462, 0.0659],\n",
      "           [0.3170, 0.6914, 0.2793]],\n",
      "\n",
      "          [[0.9577, 0.4760, 0.0859],\n",
      "           [0.8945, 0.5794, 0.9105],\n",
      "           [0.1463, 0.5553, 0.5277],\n",
      "           ...,\n",
      "           [0.9745, 0.8794, 0.4237],\n",
      "           [0.4485, 0.5854, 0.5110],\n",
      "           [0.4739, 0.4843, 0.7911]],\n",
      "\n",
      "          [[0.4652, 0.5070, 0.9335],\n",
      "           [0.0690, 0.3861, 0.6869],\n",
      "           [0.1914, 0.5269, 0.4814],\n",
      "           ...,\n",
      "           [0.2241, 0.6942, 0.7513],\n",
      "           [0.6528, 0.2358, 0.9054],\n",
      "           [0.5039, 0.4555, 0.1031]]]]])\n"
     ]
    }
   ],
   "source": [
    "ar = torch.rand(3, 226, 226)\n",
    "bh = ar.unsqueeze(0)\n",
    "\n",
    "print(ar.shape)\n",
    "print(bh.shape)\n",
    "\n",
    "cl = torch.rand(4, 5, 3, 8, 3)\n",
    "print(cl)"
   ]
  },
  {
   "cell_type": "code",
   "execution_count": 44,
   "id": "7bcc85eb-c3c3-4862-a545-f4d44de4c047",
   "metadata": {},
   "outputs": [
    {
     "name": "stdout",
     "output_type": "stream",
     "text": [
      "torch.Size([1, 35])\n",
      "tensor([[0.7449, 0.9986, 0.5979, 0.2314, 0.8824, 0.7544, 0.8536, 0.1782, 0.0881,\n",
      "         0.6607, 0.3682, 0.0247, 0.1781, 0.5697, 0.4857, 0.4044, 0.7493, 0.5582,\n",
      "         0.7312, 0.2471, 0.0644, 0.3699, 0.5827, 0.1645, 0.3008, 0.5390, 0.6684,\n",
      "         0.7444, 0.3892, 0.1147, 0.4041, 0.0578, 0.2572, 0.4264, 0.1489]])\n",
      "torch.Size([35])\n",
      "tensor([0.7449, 0.9986, 0.5979, 0.2314, 0.8824, 0.7544, 0.8536, 0.1782, 0.0881,\n",
      "        0.6607, 0.3682, 0.0247, 0.1781, 0.5697, 0.4857, 0.4044, 0.7493, 0.5582,\n",
      "        0.7312, 0.2471, 0.0644, 0.3699, 0.5827, 0.1645, 0.3008, 0.5390, 0.6684,\n",
      "        0.7444, 0.3892, 0.1147, 0.4041, 0.0578, 0.2572, 0.4264, 0.1489])\n",
      "torch.Size([7, 8])\n",
      "torch.Size([7, 8])\n"
     ]
    }
   ],
   "source": [
    "ar = torch.rand(1, 35)\n",
    "print(ar.shape)\n",
    "print(ar)\n",
    "\n",
    "bh = ar.squeeze(0)\n",
    "print(bh.shape)\n",
    "print(bh)\n",
    "\n",
    "cl = torch.rand(7, 8)\n",
    "print(cl.shape)\n",
    "\n",
    "dk = cl.squeeze(0)\n",
    "print(dk.shape)"
   ]
  },
  {
   "cell_type": "code",
   "execution_count": 45,
   "id": "28500c12-939c-44f7-9b6d-9117350175a4",
   "metadata": {},
   "outputs": [
    {
     "name": "stdout",
     "output_type": "stream",
     "text": [
      "tensor([[[0.8648, 0.5351, 0.5019, 0.7404, 0.7024],\n",
      "         [0.3291, 0.5818, 0.7337, 0.5220, 0.2590],\n",
      "         [0.4820, 0.8508, 0.1279, 0.9324, 0.5631],\n",
      "         [0.0967, 0.6491, 0.8727, 0.6854, 0.1871],\n",
      "         [0.6951, 0.4418, 0.9539, 0.1682, 0.3496],\n",
      "         [0.2612, 0.8894, 0.5453, 0.2696, 0.1469],\n",
      "         [0.2687, 0.1530, 0.7434, 0.0955, 0.7015]],\n",
      "\n",
      "        [[0.8648, 0.5351, 0.5019, 0.7404, 0.7024],\n",
      "         [0.3291, 0.5818, 0.7337, 0.5220, 0.2590],\n",
      "         [0.4820, 0.8508, 0.1279, 0.9324, 0.5631],\n",
      "         [0.0967, 0.6491, 0.8727, 0.6854, 0.1871],\n",
      "         [0.6951, 0.4418, 0.9539, 0.1682, 0.3496],\n",
      "         [0.2612, 0.8894, 0.5453, 0.2696, 0.1469],\n",
      "         [0.2687, 0.1530, 0.7434, 0.0955, 0.7015]],\n",
      "\n",
      "        [[0.8648, 0.5351, 0.5019, 0.7404, 0.7024],\n",
      "         [0.3291, 0.5818, 0.7337, 0.5220, 0.2590],\n",
      "         [0.4820, 0.8508, 0.1279, 0.9324, 0.5631],\n",
      "         [0.0967, 0.6491, 0.8727, 0.6854, 0.1871],\n",
      "         [0.6951, 0.4418, 0.9539, 0.1682, 0.3496],\n",
      "         [0.2612, 0.8894, 0.5453, 0.2696, 0.1469],\n",
      "         [0.2687, 0.1530, 0.7434, 0.0955, 0.7015]],\n",
      "\n",
      "        [[0.8648, 0.5351, 0.5019, 0.7404, 0.7024],\n",
      "         [0.3291, 0.5818, 0.7337, 0.5220, 0.2590],\n",
      "         [0.4820, 0.8508, 0.1279, 0.9324, 0.5631],\n",
      "         [0.0967, 0.6491, 0.8727, 0.6854, 0.1871],\n",
      "         [0.6951, 0.4418, 0.9539, 0.1682, 0.3496],\n",
      "         [0.2612, 0.8894, 0.5453, 0.2696, 0.1469],\n",
      "         [0.2687, 0.1530, 0.7434, 0.0955, 0.7015]],\n",
      "\n",
      "        [[0.8648, 0.5351, 0.5019, 0.7404, 0.7024],\n",
      "         [0.3291, 0.5818, 0.7337, 0.5220, 0.2590],\n",
      "         [0.4820, 0.8508, 0.1279, 0.9324, 0.5631],\n",
      "         [0.0967, 0.6491, 0.8727, 0.6854, 0.1871],\n",
      "         [0.6951, 0.4418, 0.9539, 0.1682, 0.3496],\n",
      "         [0.2612, 0.8894, 0.5453, 0.2696, 0.1469],\n",
      "         [0.2687, 0.1530, 0.7434, 0.0955, 0.7015]],\n",
      "\n",
      "        [[0.8648, 0.5351, 0.5019, 0.7404, 0.7024],\n",
      "         [0.3291, 0.5818, 0.7337, 0.5220, 0.2590],\n",
      "         [0.4820, 0.8508, 0.1279, 0.9324, 0.5631],\n",
      "         [0.0967, 0.6491, 0.8727, 0.6854, 0.1871],\n",
      "         [0.6951, 0.4418, 0.9539, 0.1682, 0.3496],\n",
      "         [0.2612, 0.8894, 0.5453, 0.2696, 0.1469],\n",
      "         [0.2687, 0.1530, 0.7434, 0.0955, 0.7015]],\n",
      "\n",
      "        [[0.8648, 0.5351, 0.5019, 0.7404, 0.7024],\n",
      "         [0.3291, 0.5818, 0.7337, 0.5220, 0.2590],\n",
      "         [0.4820, 0.8508, 0.1279, 0.9324, 0.5631],\n",
      "         [0.0967, 0.6491, 0.8727, 0.6854, 0.1871],\n",
      "         [0.6951, 0.4418, 0.9539, 0.1682, 0.3496],\n",
      "         [0.2612, 0.8894, 0.5453, 0.2696, 0.1469],\n",
      "         [0.2687, 0.1530, 0.7434, 0.0955, 0.7015]],\n",
      "\n",
      "        [[0.8648, 0.5351, 0.5019, 0.7404, 0.7024],\n",
      "         [0.3291, 0.5818, 0.7337, 0.5220, 0.2590],\n",
      "         [0.4820, 0.8508, 0.1279, 0.9324, 0.5631],\n",
      "         [0.0967, 0.6491, 0.8727, 0.6854, 0.1871],\n",
      "         [0.6951, 0.4418, 0.9539, 0.1682, 0.3496],\n",
      "         [0.2612, 0.8894, 0.5453, 0.2696, 0.1469],\n",
      "         [0.2687, 0.1530, 0.7434, 0.0955, 0.7015]]])\n"
     ]
    }
   ],
   "source": [
    "ar = torch.ones(8, 7, 5)\n",
    "cl = ar * torch.rand(1, 7, 5)\n",
    "print(cl)"
   ]
  },
  {
   "cell_type": "code",
   "execution_count": 46,
   "id": "72baf1c1-9db0-42ef-863d-1ea3213d46d9",
   "metadata": {},
   "outputs": [
    {
     "name": "stdout",
     "output_type": "stream",
     "text": [
      "torch.Size([3, 1])\n",
      "tensor([[[0.6786, 0.6786],\n",
      "         [0.1522, 0.1522],\n",
      "         [0.1187, 0.1187]],\n",
      "\n",
      "        [[0.6786, 0.6786],\n",
      "         [0.1522, 0.1522],\n",
      "         [0.1187, 0.1187]],\n",
      "\n",
      "        [[0.6786, 0.6786],\n",
      "         [0.1522, 0.1522],\n",
      "         [0.1187, 0.1187]],\n",
      "\n",
      "        [[0.6786, 0.6786],\n",
      "         [0.1522, 0.1522],\n",
      "         [0.1187, 0.1187]],\n",
      "\n",
      "        [[0.6786, 0.6786],\n",
      "         [0.1522, 0.1522],\n",
      "         [0.1187, 0.1187]],\n",
      "\n",
      "        [[0.6786, 0.6786],\n",
      "         [0.1522, 0.1522],\n",
      "         [0.1187, 0.1187]],\n",
      "\n",
      "        [[0.6786, 0.6786],\n",
      "         [0.1522, 0.1522],\n",
      "         [0.1187, 0.1187]],\n",
      "\n",
      "        [[0.6786, 0.6786],\n",
      "         [0.1522, 0.1522],\n",
      "         [0.1187, 0.1187]],\n",
      "\n",
      "        [[0.6786, 0.6786],\n",
      "         [0.1522, 0.1522],\n",
      "         [0.1187, 0.1187]]])\n"
     ]
    }
   ],
   "source": [
    "ar = torch.ones(9, 3, 2)\n",
    "bh = torch.rand(   3)    \n",
    "cl = bh.unsqueeze(1)       \n",
    "print(cl.shape)\n",
    "print(ar * cl)             "
   ]
  },
  {
   "cell_type": "markdown",
   "id": "97729b6f-a10a-41bd-a69b-c1d8293b62c5",
   "metadata": {},
   "source": [
    "The squeeze() and unsqueeze() methods also have in-place versions, squeeze_() and unsqueeze_()"
   ]
  },
  {
   "cell_type": "code",
   "execution_count": 47,
   "id": "b257804e-856f-48b5-a0fd-4d3f9837e78e",
   "metadata": {},
   "outputs": [
    {
     "name": "stdout",
     "output_type": "stream",
     "text": [
      "torch.Size([4, 226, 226])\n",
      "torch.Size([1, 4, 226, 226])\n"
     ]
    }
   ],
   "source": [
    "batchVariable = torch.rand(4, 226, 226)\n",
    "print(batchVariable.shape)\n",
    "batchVariable.unsqueeze_(0)\n",
    "print(batchVariable.shape)"
   ]
  },
  {
   "cell_type": "code",
   "execution_count": 48,
   "id": "ff8d0405-45f8-4f6e-b4eb-105566c4f467",
   "metadata": {},
   "outputs": [
    {
     "name": "stdout",
     "output_type": "stream",
     "text": [
      "torch.Size([8, 20, 20])\n",
      "torch.Size([3200])\n",
      "torch.Size([3200])\n"
     ]
    }
   ],
   "source": [
    "outputVariable = torch.rand(8, 20, 20)\n",
    "print(outputVariable.shape)\n",
    "\n",
    "inputVariable = outputVariable.reshape(8 * 20 * 20)\n",
    "print(inputVariable.shape)\n",
    "print(torch.reshape(outputVariable, (8 * 20 * 20,)).shape)"
   ]
  },
  {
   "cell_type": "markdown",
   "id": "18bfd9be-6896-4219-bcec-59ef1679dbb7",
   "metadata": {},
   "source": [
    "NumPy Bridge"
   ]
  },
  {
   "cell_type": "code",
   "execution_count": 49,
   "id": "e161fb2d-ca92-4edd-a0a3-d6546e5d5a08",
   "metadata": {},
   "outputs": [
    {
     "name": "stdout",
     "output_type": "stream",
     "text": [
      "[[1. 1. 1. 1. 1. 1. 1. 1. 1.]\n",
      " [1. 1. 1. 1. 1. 1. 1. 1. 1.]\n",
      " [1. 1. 1. 1. 1. 1. 1. 1. 1.]\n",
      " [1. 1. 1. 1. 1. 1. 1. 1. 1.]\n",
      " [1. 1. 1. 1. 1. 1. 1. 1. 1.]\n",
      " [1. 1. 1. 1. 1. 1. 1. 1. 1.]\n",
      " [1. 1. 1. 1. 1. 1. 1. 1. 1.]\n",
      " [1. 1. 1. 1. 1. 1. 1. 1. 1.]]\n",
      "tensor([[1., 1., 1., 1., 1., 1., 1., 1., 1.],\n",
      "        [1., 1., 1., 1., 1., 1., 1., 1., 1.],\n",
      "        [1., 1., 1., 1., 1., 1., 1., 1., 1.],\n",
      "        [1., 1., 1., 1., 1., 1., 1., 1., 1.],\n",
      "        [1., 1., 1., 1., 1., 1., 1., 1., 1.],\n",
      "        [1., 1., 1., 1., 1., 1., 1., 1., 1.],\n",
      "        [1., 1., 1., 1., 1., 1., 1., 1., 1.],\n",
      "        [1., 1., 1., 1., 1., 1., 1., 1., 1.]], dtype=torch.float64)\n"
     ]
    }
   ],
   "source": [
    "import numpy as np\n",
    "\n",
    "numpyArray = np.ones((8, 9))\n",
    "print(numpyArray)\n",
    "\n",
    "pytorchTensor = torch.from_numpy(numpyArray)\n",
    "print(pytorchTensor)"
   ]
  },
  {
   "cell_type": "code",
   "execution_count": 50,
   "id": "7d343a9d-ae9e-429c-9bc6-f77504fde3d4",
   "metadata": {},
   "outputs": [
    {
     "name": "stdout",
     "output_type": "stream",
     "text": [
      "tensor([[0.2945, 0.1541, 0.4516, 0.0765, 0.3349, 0.0107, 0.1547, 0.2347],\n",
      "        [0.4185, 0.8938, 0.0999, 0.6695, 0.3971, 0.8496, 0.9700, 0.1977],\n",
      "        [0.5550, 0.1674, 0.9171, 0.8378, 0.6847, 0.1790, 0.2741, 0.8889],\n",
      "        [0.5986, 0.6885, 0.0523, 0.3099, 0.5454, 0.4934, 0.4533, 0.8781],\n",
      "        [0.4746, 0.8124, 0.5849, 0.6879, 0.5064, 0.8926, 0.9530, 0.3321],\n",
      "        [0.3524, 0.0925, 0.8698, 0.8731, 0.2992, 0.0211, 0.4313, 0.4748],\n",
      "        [0.0784, 0.5909, 0.6604, 0.0657, 0.8067, 0.4472, 0.0086, 0.3069]])\n",
      "[[0.2944708  0.15413111 0.45159835 0.07653922 0.33490223 0.01071775\n",
      "  0.15474796 0.23468888]\n",
      " [0.4184724  0.89378697 0.09988374 0.6695353  0.39713675 0.8496329\n",
      "  0.9700074  0.19767004]\n",
      " [0.5550179  0.16740161 0.9170838  0.83784205 0.68466806 0.17903805\n",
      "  0.2741177  0.8889481 ]\n",
      " [0.5986442  0.68850607 0.0522545  0.3098501  0.5454143  0.49341983\n",
      "  0.45334697 0.8781131 ]\n",
      " [0.47456932 0.8123927  0.5848873  0.68793356 0.50641716 0.8926141\n",
      "  0.9530185  0.33206218]\n",
      " [0.35238814 0.09252667 0.86977065 0.87311894 0.29916483 0.0210858\n",
      "  0.43129867 0.4748189 ]\n",
      " [0.07837534 0.59085226 0.66039264 0.06568915 0.8066895  0.44718647\n",
      "  0.00863236 0.30690795]]\n"
     ]
    }
   ],
   "source": [
    "randomPyTorch = torch.rand(7, 8)\n",
    "print(randomPyTorch)\n",
    "\n",
    "randomNumpy = randomPyTorch.numpy()\n",
    "print(randomNumpy)"
   ]
  },
  {
   "cell_type": "code",
   "execution_count": 51,
   "id": "1dfa017c-08dc-4023-9d67-52caa50c5090",
   "metadata": {},
   "outputs": [
    {
     "name": "stdout",
     "output_type": "stream",
     "text": [
      "tensor([[ 1.,  1.,  1.,  1.,  1.,  1.,  1.,  1.,  1.],\n",
      "        [ 1.,  1.,  1.,  1.,  1.,  1.,  1.,  1.,  1.],\n",
      "        [ 1.,  1.,  1., 23.,  1.,  1.,  1.,  1.,  1.],\n",
      "        [ 1.,  1.,  1.,  1.,  1.,  1.,  1.,  1.,  1.],\n",
      "        [ 1.,  1.,  1.,  1.,  1.,  1.,  1.,  1.,  1.],\n",
      "        [ 1.,  1.,  1.,  1.,  1.,  1.,  1.,  1.,  1.],\n",
      "        [ 1.,  1.,  1.,  1.,  1.,  1.,  1.,  1.,  1.],\n",
      "        [ 1.,  1.,  1.,  1.,  1.,  1.,  1.,  1.,  1.]], dtype=torch.float64)\n",
      "[[2.9447079e-01 1.5413111e-01 4.5159835e-01 7.6539218e-02 3.3490223e-01\n",
      "  1.0717750e-02 1.5474796e-01 2.3468888e-01]\n",
      " [4.1847241e-01 8.9378697e-01 9.9883735e-02 6.6953528e-01 3.9713675e-01\n",
      "  8.4963292e-01 9.7000742e-01 1.9767004e-01]\n",
      " [5.5501789e-01 1.6740161e-01 9.1708380e-01 1.7000000e+01 6.8466806e-01\n",
      "  1.7903805e-01 2.7411771e-01 8.8894808e-01]\n",
      " [5.9864420e-01 6.8850607e-01 5.2254498e-02 3.0985010e-01 5.4541433e-01\n",
      "  4.9341983e-01 4.5334697e-01 8.7811309e-01]\n",
      " [4.7456932e-01 8.1239271e-01 5.8488733e-01 6.8793356e-01 5.0641716e-01\n",
      "  8.9261413e-01 9.5301849e-01 3.3206218e-01]\n",
      " [3.5238814e-01 9.2526674e-02 8.6977065e-01 8.7311894e-01 2.9916483e-01\n",
      "  2.1085799e-02 4.3129867e-01 4.7481889e-01]\n",
      " [7.8375340e-02 5.9085226e-01 6.6039264e-01 6.5689147e-02 8.0668950e-01\n",
      "  4.4718647e-01 8.6323619e-03 3.0690795e-01]]\n"
     ]
    }
   ],
   "source": [
    "numpyArray[2, 3] = 23\n",
    "print(pytorchTensor)\n",
    "\n",
    "randomPyTorch[2, 3] = 17\n",
    "print(randomNumpy)"
   ]
  },
  {
   "cell_type": "markdown",
   "id": "9bec9be2-6344-4037-b0a6-33574eb79a32",
   "metadata": {},
   "source": [
    "The Fundamentals of Autograd"
   ]
  },
  {
   "cell_type": "code",
   "execution_count": 52,
   "id": "ccf125c0-4460-44e9-a012-d424c529fefe",
   "metadata": {},
   "outputs": [],
   "source": [
    "# %matplotlib inline\n",
    "\n",
    "import torch\n",
    "\n",
    "import matplotlib.pyplot as plt\n",
    "import matplotlib.ticker as ticker\n",
    "import math"
   ]
  },
  {
   "cell_type": "code",
   "execution_count": 53,
   "id": "af484abc-3c41-4ee9-a2ff-1d0743d38d15",
   "metadata": {},
   "outputs": [
    {
     "name": "stdout",
     "output_type": "stream",
     "text": [
      "tensor([0.0000, 0.1795, 0.3590, 0.5386, 0.7181, 0.8976, 1.0771, 1.2566, 1.4362,\n",
      "        1.6157, 1.7952, 1.9747, 2.1542, 2.3338, 2.5133, 2.6928, 2.8723, 3.0518,\n",
      "        3.2314, 3.4109, 3.5904, 3.7699, 3.9494, 4.1290, 4.3085, 4.4880, 4.6675,\n",
      "        4.8470, 5.0265, 5.2061, 5.3856, 5.5651, 5.7446, 5.9241, 6.1037, 6.2832],\n",
      "       requires_grad=True)\n"
     ]
    }
   ],
   "source": [
    "ar = torch.linspace(0., 2. * math.pi, steps=36, requires_grad=True)\n",
    "print(ar)"
   ]
  },
  {
   "cell_type": "code",
   "execution_count": 54,
   "id": "6dc462a8-c4c9-4c40-9aff-c882eb5cf47b",
   "metadata": {},
   "outputs": [
    {
     "name": "stdout",
     "output_type": "stream",
     "text": [
      "tensor([ 0.0000e+00,  1.7856e-01,  3.5137e-01,  5.1290e-01,  6.5794e-01,\n",
      "         7.8183e-01,  8.8060e-01,  9.5106e-01,  9.9095e-01,  9.9899e-01,\n",
      "         9.7493e-01,  9.1953e-01,  8.3457e-01,  7.2279e-01,  5.8779e-01,\n",
      "         4.3388e-01,  2.6604e-01,  8.9639e-02, -8.9639e-02, -2.6604e-01,\n",
      "        -4.3388e-01, -5.8779e-01, -7.2280e-01, -8.3457e-01, -9.1953e-01,\n",
      "        -9.7493e-01, -9.9899e-01, -9.9095e-01, -9.5106e-01, -8.8060e-01,\n",
      "        -7.8183e-01, -6.5794e-01, -5.1290e-01, -3.5137e-01, -1.7856e-01,\n",
      "         1.7485e-07], grad_fn=<SinBackward0>)\n"
     ]
    },
    {
     "data": {
      "image/png": "[encoded data removed]",
      "text/plain": [
       "<Figure size 640x480 with 1 Axes>"
      ]
     },
     "metadata": {},
     "output_type": "display_data"
    }
   ],
   "source": [
    "bh = torch.sin(ar)\n",
    "plt.plot(ar.detach(), bh.detach())\n",
    "print(bh)"
   ]
  },
  {
   "cell_type": "code",
   "execution_count": 55,
   "id": "61e32c62-c854-44fb-8804-f36b665d7334",
   "metadata": {},
   "outputs": [
    {
     "name": "stdout",
     "output_type": "stream",
     "text": [
      "tensor([ 0.0000e+00,  3.5711e-01,  7.0275e-01,  1.0258e+00,  1.3159e+00,\n",
      "         1.5637e+00,  1.7612e+00,  1.9021e+00,  1.9819e+00,  1.9980e+00,\n",
      "         1.9499e+00,  1.8391e+00,  1.6691e+00,  1.4456e+00,  1.1756e+00,\n",
      "         8.6777e-01,  5.3207e-01,  1.7928e-01, -1.7928e-01, -5.3207e-01,\n",
      "        -8.6777e-01, -1.1756e+00, -1.4456e+00, -1.6691e+00, -1.8391e+00,\n",
      "        -1.9499e+00, -1.9980e+00, -1.9819e+00, -1.9021e+00, -1.7612e+00,\n",
      "        -1.5637e+00, -1.3159e+00, -1.0258e+00, -7.0275e-01, -3.5711e-01,\n",
      "         3.4969e-07], grad_fn=<MulBackward0>)\n",
      "tensor([ 1.0000,  1.3571,  1.7027,  2.0258,  2.3159,  2.5637,  2.7612,  2.9021,\n",
      "         2.9819,  2.9980,  2.9499,  2.8391,  2.6691,  2.4456,  2.1756,  1.8678,\n",
      "         1.5321,  1.1793,  0.8207,  0.4679,  0.1322, -0.1756, -0.4456, -0.6691,\n",
      "        -0.8391, -0.9499, -0.9980, -0.9819, -0.9021, -0.7612, -0.5637, -0.3159,\n",
      "        -0.0258,  0.2973,  0.6429,  1.0000], grad_fn=<AddBackward0>)\n"
     ]
    }
   ],
   "source": [
    "cat = 2 * bh\n",
    "print(cat)\n",
    "\n",
    "dog = cat + 1\n",
    "print(dog)"
   ]
  },
  {
   "cell_type": "code",
   "execution_count": 56,
   "id": "d295b614-570c-461d-a250-b571cad3d5fd",
   "metadata": {},
   "outputs": [
    {
     "name": "stdout",
     "output_type": "stream",
     "text": [
      "tensor(36., grad_fn=<SumBackward0>)\n"
     ]
    }
   ],
   "source": [
    "out = dog.sum()\n",
    "print(out)"
   ]
  },
  {
   "cell_type": "code",
   "execution_count": 57,
   "id": "24a1e95a-e316-4d5b-94f9-6543341d35c9",
   "metadata": {},
   "outputs": [
    {
     "name": "stdout",
     "output_type": "stream",
     "text": [
      "dog:\n",
      "<AddBackward0 object at 0x12eea7fd0>\n",
      "((<MulBackward0 object at 0x12f1d9b10>, 0), (None, 0))\n",
      "((<SinBackward0 object at 0x12eea7fd0>, 0), (None, 0))\n",
      "((<AccumulateGrad object at 0x12f1d9b10>, 0),)\n",
      "()\n",
      "\n",
      "cat:\n",
      "<MulBackward0 object at 0x12eea7fd0>\n",
      "\n",
      "bh:\n",
      "<SinBackward0 object at 0x12eea7fd0>\n",
      "\n",
      "ar:\n",
      "None\n",
      "tensor([ 2.0000,  1.9679,  1.8725,  1.7169,  1.5061,  1.2470,  0.9477,  0.6180,\n",
      "         0.2685, -0.0897, -0.4450, -0.7861, -1.1018, -1.3821, -1.6180, -1.8019,\n",
      "        -1.9279, -1.9919, -1.9919, -1.9279, -1.8019, -1.6180, -1.3821, -1.1018,\n",
      "        -0.7860, -0.4450, -0.0897,  0.2685,  0.6180,  0.9477,  1.2470,  1.5061,\n",
      "         1.7169,  1.8725,  1.9679,  2.0000])\n"
     ]
    },
    {
     "data": {
      "text/plain": [
       "[<matplotlib.lines.Line2D at 0x12ee31a90>]"
      ]
     },
     "execution_count": 57,
     "metadata": {},
     "output_type": "execute_result"
    },
    {
     "data": {
      "image/png": "[encoded data removed]",
      "text/plain": [
       "<Figure size 640x480 with 1 Axes>"
      ]
     },
     "metadata": {},
     "output_type": "display_data"
    }
   ],
   "source": [
    "print('dog:')\n",
    "print(dog.grad_fn)\n",
    "print(dog.grad_fn.next_functions)\n",
    "print(dog.grad_fn.next_functions[0][0].next_functions)\n",
    "print(dog.grad_fn.next_functions[0][0].next_functions[0][0].next_functions)\n",
    "print(dog.grad_fn.next_functions[0][0].next_functions[0][0].next_functions[0][0].next_functions)\n",
    "print('\\ncat:')\n",
    "print(cat.grad_fn)\n",
    "print('\\nbh:')\n",
    "print(bh.grad_fn)\n",
    "print('\\nar:')\n",
    "print(ar.grad_fn)\n",
    "\n",
    "out.backward()\n",
    "print(ar.grad)\n",
    "plt.plot(ar.detach(), ar.grad.detach())"
   ]
  },
  {
   "cell_type": "code",
   "execution_count": 58,
   "id": "042bbef3-6dc1-45e3-bbad-bb9649ec0d55",
   "metadata": {},
   "outputs": [],
   "source": [
    "# Recall the computation steps\n",
    "ar = torch.linspace(0., 2. * math.pi, steps=50, requires_grad=True)\n",
    "bh = torch.sin(ar)\n",
    "cat = 2 * bh\n",
    "dog = cat + 1\n",
    "out = dog.sum()"
   ]
  },
  {
   "cell_type": "markdown",
   "id": "8dc5e5cb-cbdd-400f-8ef8-143eb0ce9386",
   "metadata": {},
   "source": [
    "Autograd in Training"
   ]
  },
  {
   "cell_type": "code",
   "execution_count": 59,
   "id": "d7e4a45d-f57c-46bc-afd9-fda00c86908e",
   "metadata": {},
   "outputs": [],
   "source": [
    "BATCH_SIZE = 16\n",
    "DIM_IN = 1000\n",
    "HIDDEN_SIZE = 100\n",
    "DIM_OUT = 10\n",
    "\n",
    "class TinyModelFunction(torch.nn.Module):\n",
    "\n",
    "    def __init__(self):\n",
    "        super(TinyModelFunction, self).__init__()\n",
    "\n",
    "        self.layer1 = torch.nn.Linear(DIM_IN, HIDDEN_SIZE)\n",
    "        self.relu = torch.nn.ReLU()\n",
    "        self.layer2 = torch.nn.Linear(HIDDEN_SIZE, DIM_OUT)\n",
    "\n",
    "    def forward(self, xVar):\n",
    "        xVar = self.layer1(xVar)\n",
    "        xVar = self.relu(xVar)\n",
    "        xVar = self.layer2(xVar)\n",
    "        return xVar\n",
    "\n",
    "some_input = torch.randn(BATCH_SIZE, DIM_IN, requires_grad=False)\n",
    "ideal_output = torch.randn(BATCH_SIZE, DIM_OUT, requires_grad=False)\n",
    "\n",
    "model = TinyModelFunction()"
   ]
  },
  {
   "cell_type": "code",
   "execution_count": 60,
   "id": "2a9d4651-5c14-4ba2-a11c-f802fbd55e80",
   "metadata": {},
   "outputs": [
    {
     "name": "stdout",
     "output_type": "stream",
     "text": [
      "tensor([ 0.0370, -0.0365,  0.0881,  0.0827,  0.0317, -0.0963, -0.0100, -0.0729,\n",
      "         0.0382,  0.0420], grad_fn=<SliceBackward0>)\n",
      "None\n"
     ]
    }
   ],
   "source": [
    "print(model.layer2.weight[0][0:10]) \n",
    "print(model.layer2.weight.grad)"
   ]
  },
  {
   "cell_type": "code",
   "execution_count": 61,
   "id": "1ca2edef-3709-4a03-a244-5a328c8eaa21",
   "metadata": {},
   "outputs": [
    {
     "name": "stdout",
     "output_type": "stream",
     "text": [
      "tensor(4.3599, grad_fn=<SumBackward0>)\n"
     ]
    }
   ],
   "source": [
    "optimizer = torch.optim.SGD(model.parameters(), lr=0.001)\n",
    "\n",
    "prediction = model(some_input)\n",
    "\n",
    "loss = (ideal_output - prediction).pow(3).sum()\n",
    "print(loss)"
   ]
  },
  {
   "cell_type": "code",
   "execution_count": 62,
   "id": "0bb3275c-f4ea-4397-8847-4174cc1ccb08",
   "metadata": {},
   "outputs": [
    {
     "name": "stdout",
     "output_type": "stream",
     "text": [
      "tensor([ 0.0370, -0.0365,  0.0881,  0.0827,  0.0317, -0.0963, -0.0100, -0.0729,\n",
      "         0.0382,  0.0420], grad_fn=<SliceBackward0>)\n",
      "tensor([ -7.8796,  -6.5304,  -4.1067, -10.5924,  -5.8373,  -5.5340, -10.5417,\n",
      "        -10.5989, -10.2151,  -2.4085])\n"
     ]
    }
   ],
   "source": [
    "loss.backward()\n",
    "print(model.layer2.weight[0][0:10])\n",
    "print(model.layer2.weight.grad[0][0:10])"
   ]
  },
  {
   "cell_type": "code",
   "execution_count": 63,
   "id": "7726a6b1-8fb0-43e1-998f-c78f564ef70b",
   "metadata": {},
   "outputs": [
    {
     "name": "stdout",
     "output_type": "stream",
     "text": [
      "tensor([ 0.0449, -0.0300,  0.0922,  0.0933,  0.0375, -0.0908,  0.0005, -0.0623,\n",
      "         0.0484,  0.0444], grad_fn=<SliceBackward0>)\n",
      "tensor([ -7.8796,  -6.5304,  -4.1067, -10.5924,  -5.8373,  -5.5340, -10.5417,\n",
      "        -10.5989, -10.2151,  -2.4085])\n"
     ]
    }
   ],
   "source": [
    "optimizer.step()\n",
    "print(model.layer2.weight[0][0:10])\n",
    "print(model.layer2.weight.grad[0][0:10])"
   ]
  },
  {
   "cell_type": "code",
   "execution_count": 64,
   "id": "45127d1d-29b4-4102-9d40-1843b222ea45",
   "metadata": {},
   "outputs": [
    {
     "name": "stdout",
     "output_type": "stream",
     "text": [
      "tensor([ -7.8796,  -6.5304,  -4.1067, -10.5924,  -5.8373,  -5.5340, -10.5417,\n",
      "        -10.5989, -10.2151,  -2.4085])\n",
      "tensor([-19.9240,  -9.3827, -47.7937, -18.0323, -28.1356,  -5.5340, -15.8215,\n",
      "        -10.7705, -21.1824, -11.7081])\n",
      "tensor([0., 0., 0., 0., 0., 0., 0., 0., 0., 0.])\n"
     ]
    }
   ],
   "source": [
    "print(model.layer2.weight.grad[0][0:10])\n",
    "\n",
    "for i in range(0, 7):\n",
    "    prediction = model(some_input)\n",
    "    loss = (ideal_output - prediction).pow(3).sum()\n",
    "    loss.backward()\n",
    "\n",
    "print(model.layer2.weight.grad[0][0:10])\n",
    "\n",
    "optimizer.zero_grad(set_to_none=False)\n",
    "\n",
    "print(model.layer2.weight.grad[0][0:10])"
   ]
  },
  {
   "cell_type": "markdown",
   "id": "cb0d4146-a547-4e6e-8d73-c334a803c597",
   "metadata": {},
   "source": [
    "Turning Autograd Off and On"
   ]
  },
  {
   "cell_type": "code",
   "execution_count": 65,
   "id": "7bf86c59-8ded-4ebb-8cf7-1c7736fa531c",
   "metadata": {},
   "outputs": [
    {
     "name": "stdout",
     "output_type": "stream",
     "text": [
      "tensor([[1., 1., 1., 1., 1., 1., 1., 1.],\n",
      "        [1., 1., 1., 1., 1., 1., 1., 1.],\n",
      "        [1., 1., 1., 1., 1., 1., 1., 1.],\n",
      "        [1., 1., 1., 1., 1., 1., 1., 1.],\n",
      "        [1., 1., 1., 1., 1., 1., 1., 1.],\n",
      "        [1., 1., 1., 1., 1., 1., 1., 1.]], requires_grad=True)\n",
      "tensor([[2., 2., 2., 2., 2., 2., 2., 2.],\n",
      "        [2., 2., 2., 2., 2., 2., 2., 2.],\n",
      "        [2., 2., 2., 2., 2., 2., 2., 2.],\n",
      "        [2., 2., 2., 2., 2., 2., 2., 2.],\n",
      "        [2., 2., 2., 2., 2., 2., 2., 2.],\n",
      "        [2., 2., 2., 2., 2., 2., 2., 2.]], grad_fn=<MulBackward0>)\n",
      "tensor([[2., 2., 2., 2., 2., 2., 2., 2.],\n",
      "        [2., 2., 2., 2., 2., 2., 2., 2.],\n",
      "        [2., 2., 2., 2., 2., 2., 2., 2.],\n",
      "        [2., 2., 2., 2., 2., 2., 2., 2.],\n",
      "        [2., 2., 2., 2., 2., 2., 2., 2.],\n",
      "        [2., 2., 2., 2., 2., 2., 2., 2.]])\n"
     ]
    }
   ],
   "source": [
    "#At situations where you will need fine-grained control over whether autograd is enabled, change the requires_grad\n",
    "ar = torch.ones(6, 8, requires_grad=True)\n",
    "print(ar)\n",
    "\n",
    "bh = 2 * ar\n",
    "print(bh)\n",
    "\n",
    "ar.requires_grad = False\n",
    "bh2 = 2 * ar\n",
    "print(bh2)"
   ]
  },
  {
   "cell_type": "markdown",
   "id": "a7355bfd-0ef1-4230-81d4-bf3b10c17d7a",
   "metadata": {},
   "source": [
    "If we need autograd turned off temporarily, use the torch.no_grad()"
   ]
  },
  {
   "cell_type": "code",
   "execution_count": 66,
   "id": "9a04f75e-b134-4ac4-a07f-430ed19a4e35",
   "metadata": {},
   "outputs": [
    {
     "name": "stdout",
     "output_type": "stream",
     "text": [
      "tensor([[12., 12., 12., 12., 12., 12., 12.],\n",
      "        [12., 12., 12., 12., 12., 12., 12.],\n",
      "        [12., 12., 12., 12., 12., 12., 12.],\n",
      "        [12., 12., 12., 12., 12., 12., 12.],\n",
      "        [12., 12., 12., 12., 12., 12., 12.],\n",
      "        [12., 12., 12., 12., 12., 12., 12.]], grad_fn=<AddBackward0>)\n",
      "tensor([[12., 12., 12., 12., 12., 12., 12.],\n",
      "        [12., 12., 12., 12., 12., 12., 12.],\n",
      "        [12., 12., 12., 12., 12., 12., 12.],\n",
      "        [12., 12., 12., 12., 12., 12., 12.],\n",
      "        [12., 12., 12., 12., 12., 12., 12.],\n",
      "        [12., 12., 12., 12., 12., 12., 12.]])\n",
      "tensor([[36., 36., 36., 36., 36., 36., 36.],\n",
      "        [36., 36., 36., 36., 36., 36., 36.],\n",
      "        [36., 36., 36., 36., 36., 36., 36.],\n",
      "        [36., 36., 36., 36., 36., 36., 36.],\n",
      "        [36., 36., 36., 36., 36., 36., 36.],\n",
      "        [36., 36., 36., 36., 36., 36., 36.]], grad_fn=<MulBackward0>)\n"
     ]
    }
   ],
   "source": [
    "ar = torch.ones(6, 7, requires_grad=True) * 6\n",
    "bh = torch.ones(6, 7, requires_grad=True) * 6\n",
    "\n",
    "cl = ar + bh\n",
    "print(cl)\n",
    "\n",
    "with torch.no_grad():\n",
    "    cl2 = ar + bh\n",
    "\n",
    "print(cl2)\n",
    "\n",
    "cl3 = ar * bh\n",
    "print(cl3)"
   ]
  },
  {
   "cell_type": "code",
   "execution_count": 67,
   "id": "ce817d08-7fb0-480f-b7e3-bf8b4cdebe38",
   "metadata": {},
   "outputs": [
    {
     "name": "stdout",
     "output_type": "stream",
     "text": [
      "tensor([[5., 5., 5., 5., 5., 5., 5.],\n",
      "        [5., 5., 5., 5., 5., 5., 5.],\n",
      "        [5., 5., 5., 5., 5., 5., 5.],\n",
      "        [5., 5., 5., 5., 5., 5., 5.],\n",
      "        [5., 5., 5., 5., 5., 5., 5.]], grad_fn=<AddBackward0>)\n",
      "tensor([[5., 5., 5., 5., 5., 5., 5.],\n",
      "        [5., 5., 5., 5., 5., 5., 5.],\n",
      "        [5., 5., 5., 5., 5., 5., 5.],\n",
      "        [5., 5., 5., 5., 5., 5., 5.],\n",
      "        [5., 5., 5., 5., 5., 5., 5.]])\n"
     ]
    }
   ],
   "source": [
    "#torch.no_grad() can also be used as a function or method decorator\n",
    "\n",
    "def addFirstTensor(xVar, yVar):\n",
    "    return xVar + yVar\n",
    "\n",
    "@torch.no_grad()\n",
    "def addSecondTensor(xVar, yVar):\n",
    "    return xVar + yVar\n",
    "\n",
    "\n",
    "ar = torch.ones(5, 7, requires_grad=True) * 2\n",
    "bh = torch.ones(5, 7, requires_grad=True) * 3\n",
    "\n",
    "cl1 = addFirstTensor(ar, bh)\n",
    "print(cl1)\n",
    "\n",
    "cl2 = addSecondTensor(ar, bh)\n",
    "print(cl2)"
   ]
  },
  {
   "cell_type": "code",
   "execution_count": 68,
   "id": "e47ba75e-5647-4c84-af71-5f959564b4b1",
   "metadata": {},
   "outputs": [
    {
     "name": "stdout",
     "output_type": "stream",
     "text": [
      "tensor([0.5430, 0.6943, 0.5078, 0.2807, 0.2264], requires_grad=True)\n",
      "tensor([0.5430, 0.6943, 0.5078, 0.2807, 0.2264])\n"
     ]
    }
   ],
   "source": [
    "xVar = torch.rand(5, requires_grad=True)\n",
    "yVar = xVar.detach()\n",
    "\n",
    "print(xVar)\n",
    "print(yVar)"
   ]
  },
  {
   "cell_type": "markdown",
   "id": "6209f9e9-0f69-49a8-bdd9-1020f6057c76",
   "metadata": {},
   "source": [
    "Autograd and In-place Operations"
   ]
  },
  {
   "cell_type": "code",
   "execution_count": 69,
   "id": "6c8fab7f-0655-4340-b167-7135172f0036",
   "metadata": {},
   "outputs": [
    {
     "name": "stdout",
     "output_type": "stream",
     "text": [
      "-------------  ------------  ------------  ------------  ------------  ------------  ------------  \n",
      "         Name    Self CPU %      Self CPU   CPU total %     CPU total  CPU time avg    # of Calls  \n",
      "-------------  ------------  ------------  ------------  ------------  ------------  ------------  \n",
      "    aten::div        51.24%       2.931ms        51.24%       2.931ms       2.931us          1000  \n",
      "    aten::mul        48.76%       2.789ms        48.76%       2.789ms       2.789us          1000  \n",
      "-------------  ------------  ------------  ------------  ------------  ------------  ------------  \n",
      "Self CPU time total: 5.720ms\n",
      "\n"
     ]
    }
   ],
   "source": [
    "#Autograd Profiler\n",
    "\n",
    "device = torch.device('cpu')\n",
    "runsOnGpu = False\n",
    "if torch.cuda.is_available():\n",
    "    device = torch.device('cuda')\n",
    "    runsOnGpu = True\n",
    "\n",
    "xVar = torch.randn(7, 8, requires_grad=True)\n",
    "yVar = torch.rand(7, 8, requires_grad=True)\n",
    "zVar = torch.ones(7, 8, requires_grad=True)\n",
    "\n",
    "with torch.autograd.profiler.profile(use_cuda=runsOnGpu) as prf:\n",
    "    for _ in range(1000):\n",
    "        zVar = (zVar / xVar) * yVar\n",
    "\n",
    "print(prf.key_averages().table(sort_by='self_cpu_time_total'))"
   ]
  },
  {
   "cell_type": "markdown",
   "id": "69e7bf58-1b47-4661-a6f2-4ed1c0b717a0",
   "metadata": {},
   "source": [
    "Advanced Topic: More Autograd Detail and the High-Level API"
   ]
  },
  {
   "cell_type": "code",
   "execution_count": 70,
   "id": "cc70c071-6556-4a5d-bf4c-378b0a1a41b3",
   "metadata": {},
   "outputs": [
    {
     "name": "stdout",
     "output_type": "stream",
     "text": [
      "tensor([-176.4969, 1564.1239, 1745.0112,   15.8447, 1105.9340, -262.2380,\n",
      "        -762.3593], grad_fn=<MulBackward0>)\n",
      "tensor([ 7.2900e+01,  7.2900e+02,  7.2900e-02,  3.6450e+02, -1.4580e+02,\n",
      "         2.1870e+02,  5.8320e+02])\n"
     ]
    }
   ],
   "source": [
    "# Creating tensor with requires_grad=True\n",
    "xVar = torch.randn(7, requires_grad=True)\n",
    "yVar = xVar * 3\n",
    "while yVar.data.norm() < 1000:\n",
    "    yVar = yVar * 3\n",
    "\n",
    "print(yVar)\n",
    "var = torch.tensor([0.1, 1.0, 0.0001, 0.5, -0.2, 0.3, 0.8], dtype=torch.float)  # Shape must match yVar\n",
    "\n",
    "# Computing the gradient value\n",
    "yVar.backward(var)\n",
    "print(xVar.grad)"
   ]
  },
  {
   "cell_type": "markdown",
   "id": "7284bf20-c630-451e-8979-faaef9f76c9f",
   "metadata": {},
   "source": [
    "The High-Level API"
   ]
  },
  {
   "cell_type": "code",
   "execution_count": 71,
   "id": "0831e5dc-4266-4786-aca5-02c966535088",
   "metadata": {},
   "outputs": [
    {
     "name": "stdout",
     "output_type": "stream",
     "text": [
      "(tensor([0.7096, 0.2900]), tensor([0.9024, 0.1545]))\n",
      "(tensor([[4.0662, 0.0000],\n",
      "        [0.0000, 2.6728]]), tensor([[3., 0.],\n",
      "        [0., 3.]]))\n"
     ]
    }
   ],
   "source": [
    "def exp_adder(xVar, yVar):\n",
    "    return 2 * xVar.exp() + 3 * yVar\n",
    "\n",
    "inputVariables = (torch.rand(2), torch.rand(2))\n",
    "print(inputVariables)\n",
    "\n",
    "jacobian_mat = torch.autograd.functional.jacobian(exp_adder, inputVariables)\n",
    "\n",
    "print(jacobian_mat)"
   ]
  },
  {
   "cell_type": "code",
   "execution_count": 72,
   "id": "30804b38-1ab7-4f8b-b9ee-ec6ed1b6e7eb",
   "metadata": {},
   "outputs": [
    {
     "name": "stdout",
     "output_type": "stream",
     "text": [
      "(tensor([0.6337, 0.2470, 0.3200, 0.9020]), tensor([0.4760, 0.7039, 0.2444, 0.5865]))\n"
     ]
    },
    {
     "data": {
      "text/plain": [
       "(tensor([[3.7691, 0.0000, 0.0000, 0.0000],\n",
       "         [0.0000, 2.5603, 0.0000, 0.0000],\n",
       "         [0.0000, 0.0000, 2.7541, 0.0000],\n",
       "         [0.0000, 0.0000, 0.0000, 4.9289]]),\n",
       " tensor([[3., 0., 0., 0.],\n",
       "         [0., 3., 0., 0.],\n",
       "         [0., 0., 3., 0.],\n",
       "         [0., 0., 0., 3.]]))"
      ]
     },
     "execution_count": 72,
     "metadata": {},
     "output_type": "execute_result"
    }
   ],
   "source": [
    "inputVariables = (torch.rand(4), torch.rand(4)) \n",
    "print(inputVariables)\n",
    "torch.autograd.functional.jacobian(exp_adder, inputVariables)"
   ]
  },
  {
   "cell_type": "code",
   "execution_count": 73,
   "id": "f3969e50-3702-40c8-b539-8cab55e2e8a6",
   "metadata": {},
   "outputs": [
    {
     "data": {
      "text/plain": [
       "(tensor([-1804.9789,  -299.5468,  -369.2070,  -741.8048]),\n",
       " tensor([1.0240e+02, 1.0240e+03, 1.0240e-01, 1.0240e+03]))"
      ]
     },
     "execution_count": 73,
     "metadata": {},
     "output_type": "execute_result"
    }
   ],
   "source": [
    "def doublingFn(x):\n",
    "    yVar = x * 4\n",
    "    while yVar.data.norm() < 1000:\n",
    "        yVar = yVar * 4\n",
    "    return yVar\n",
    "inputs = torch.randn(4)\n",
    "my_gradients = torch.tensor([0.1, 1.0, 0.0001, 1.0])\n",
    "torch.autograd.functional.vjp(doublingFn, inputs, v=my_gradients)"
   ]
  },
  {
   "cell_type": "markdown",
   "id": "f329cf63-722e-4470-bdb9-dcbf9671f6fd",
   "metadata": {},
   "source": [
    "Building Models with PyTorch"
   ]
  },
  {
   "cell_type": "code",
   "execution_count": 74,
   "id": "fcc86c8d-94c7-4206-9add-1f6c33972aec",
   "metadata": {},
   "outputs": [
    {
     "name": "stdout",
     "output_type": "stream",
     "text": [
      "The model is given as:\n",
      "TinyModel(\n",
      "  (linearVar1): Linear(in_features=100, out_features=200, bias=True)\n",
      "  (activation): ReLU()\n",
      "  (linearVar2): Linear(in_features=200, out_features=10, bias=True)\n",
      "  (softmax): Softmax(dim=None)\n",
      ")\n",
      "\n",
      "\n",
      "Onelayer:\n",
      "Linear(in_features=200, out_features=10, bias=True)\n",
      "\n",
      "\n",
      "Model params are given by:\n",
      "Parameter containing:\n",
      "tensor([[-0.0062, -0.0410,  0.0892,  ...,  0.0440, -0.0692,  0.0395],\n",
      "        [-0.0389,  0.0957, -0.0854,  ...,  0.0229,  0.0404, -0.0755],\n",
      "        [ 0.0885,  0.0104, -0.0179,  ..., -0.0729, -0.0680,  0.0295],\n",
      "        ...,\n",
      "        [ 0.0233, -0.0089, -0.0961,  ..., -0.0494, -0.0800,  0.0005],\n",
      "        [-0.0463,  0.0959,  0.0376,  ...,  0.0270, -0.0102,  0.0486],\n",
      "        [ 0.0984, -0.0865,  0.0988,  ..., -0.0597,  0.0214, -0.0550]],\n",
      "       requires_grad=True)\n",
      "Parameter containing:\n",
      "tensor([-0.0723, -0.0186, -0.0358, -0.0401, -0.0005,  0.0672,  0.0502, -0.0089,\n",
      "         0.0285, -0.0258,  0.0444, -0.0740, -0.0477, -0.0772, -0.0901, -0.0011,\n",
      "        -0.0716, -0.0672, -0.0327,  0.0734, -0.0810,  0.0194, -0.0262, -0.0701,\n",
      "         0.0019,  0.0901,  0.0586, -0.0436, -0.0995,  0.0330, -0.0012, -0.0874,\n",
      "         0.0011, -0.0666,  0.0070, -0.0038,  0.0299, -0.0833,  0.0125,  0.0666,\n",
      "        -0.0083, -0.0530,  0.0271,  0.0243,  0.0747, -0.0327, -0.0476, -0.0598,\n",
      "        -0.0848,  0.0369, -0.0472,  0.0296, -0.0095,  0.0331, -0.0689, -0.0458,\n",
      "        -0.0063,  0.0600, -0.0294, -0.0552,  0.0063,  0.0714,  0.0611,  0.0733,\n",
      "         0.0379,  0.0440, -0.0934, -0.0803,  0.0370, -0.0072, -0.0574, -0.0116,\n",
      "         0.0983, -0.0269, -0.0940, -0.0767, -0.0534,  0.0795,  0.0209,  0.0595,\n",
      "         0.0401,  0.0554, -0.0189, -0.0080, -0.0844,  0.0048,  0.0098, -0.0420,\n",
      "        -0.0162, -0.0952, -0.0783,  0.0176,  0.0419, -0.0443,  0.0953, -0.0538,\n",
      "         0.0467,  0.0869, -0.0192,  0.0484, -0.0059,  0.0947, -0.0905,  0.0170,\n",
      "         0.0774,  0.0564,  0.0253,  0.0106,  0.0012, -0.0857, -0.0178,  0.0449,\n",
      "         0.0476,  0.0546,  0.0233,  0.0453,  0.0687,  0.0096,  0.0450, -0.0814,\n",
      "        -0.0916,  0.0305,  0.0144, -0.0950,  0.0286, -0.0971, -0.0546,  0.0152,\n",
      "        -0.0017, -0.0832,  0.0172, -0.0749,  0.0434, -0.0003,  0.0897, -0.0885,\n",
      "         0.0454, -0.0017, -0.0150, -0.0641,  0.0215,  0.0670, -0.0640, -0.0318,\n",
      "         0.0027, -0.0985, -0.0656,  0.0261,  0.0634, -0.0372,  0.0030, -0.0109,\n",
      "        -0.0493,  0.0641,  0.0291,  0.0383, -0.0423, -0.0343, -0.0656, -0.0869,\n",
      "        -0.0378,  0.0361, -0.0902,  0.0783, -0.0794, -0.0695, -0.0832,  0.0769,\n",
      "        -0.0111,  0.0981, -0.0870, -0.0283, -0.0833,  0.0827, -0.0318, -0.0063,\n",
      "        -0.0299, -0.0419, -0.0049, -0.0909, -0.0849,  0.0752, -0.0864, -0.0914,\n",
      "         0.0006, -0.0753,  0.0155,  0.0272, -0.0448,  0.0545,  0.0759, -0.0674,\n",
      "        -0.0789,  0.0241, -0.0840,  0.0419,  0.0420, -0.0895, -0.0081,  0.0308],\n",
      "       requires_grad=True)\n",
      "Parameter containing:\n",
      "tensor([[ 0.0495,  0.0293, -0.0265,  ...,  0.0264, -0.0529, -0.0375],\n",
      "        [-0.0026, -0.0262,  0.0482,  ...,  0.0064,  0.0047,  0.0307],\n",
      "        [ 0.0309, -0.0298, -0.0146,  ...,  0.0620, -0.0582, -0.0065],\n",
      "        ...,\n",
      "        [ 0.0323,  0.0253, -0.0171,  ..., -0.0152,  0.0399,  0.0173],\n",
      "        [-0.0505, -0.0498,  0.0238,  ..., -0.0068,  0.0195,  0.0530],\n",
      "        [ 0.0509,  0.0345,  0.0325,  ...,  0.0076,  0.0463, -0.0240]],\n",
      "       requires_grad=True)\n",
      "Parameter containing:\n",
      "tensor([ 0.0327, -0.0238,  0.0496, -0.0036, -0.0605, -0.0520, -0.0226, -0.0294,\n",
      "         0.0509, -0.0619], requires_grad=True)\n",
      "\n",
      "\n",
      "Layer params are gievn by:\n",
      "Parameter containing:\n",
      "tensor([[ 0.0495,  0.0293, -0.0265,  ...,  0.0264, -0.0529, -0.0375],\n",
      "        [-0.0026, -0.0262,  0.0482,  ...,  0.0064,  0.0047,  0.0307],\n",
      "        [ 0.0309, -0.0298, -0.0146,  ...,  0.0620, -0.0582, -0.0065],\n",
      "        ...,\n",
      "        [ 0.0323,  0.0253, -0.0171,  ..., -0.0152,  0.0399,  0.0173],\n",
      "        [-0.0505, -0.0498,  0.0238,  ..., -0.0068,  0.0195,  0.0530],\n",
      "        [ 0.0509,  0.0345,  0.0325,  ...,  0.0076,  0.0463, -0.0240]],\n",
      "       requires_grad=True)\n",
      "Parameter containing:\n",
      "tensor([ 0.0327, -0.0238,  0.0496, -0.0036, -0.0605, -0.0520, -0.0226, -0.0294,\n",
      "         0.0509, -0.0619], requires_grad=True)\n"
     ]
    }
   ],
   "source": [
    "import torch\n",
    "\n",
    "class TinyModel(torch.nn.Module):\n",
    "\n",
    "    def __init__(self):\n",
    "        super(TinyModel, self).__init__()\n",
    "        self.linearVar1 = torch.nn.Linear(100, 200)\n",
    "        self.activation = torch.nn.ReLU()\n",
    "        self.linearVar2 = torch.nn.Linear(200, 10)\n",
    "        self.softmax = torch.nn.Softmax()\n",
    "\n",
    "    def forward(self, xVar):\n",
    "        xVar = self.linearVar1(xVar)\n",
    "        xVar = self.activation(xVar)\n",
    "        xVar = self.linearVar2(xVar)\n",
    "        xVar = self.softmax(xVar)\n",
    "        return xVar\n",
    "\n",
    "tinymodel = TinyModel()\n",
    "\n",
    "print('The model is given as:')\n",
    "print(tinymodel)\n",
    "\n",
    "print('\\n\\nOnelayer:')\n",
    "print(tinymodel.linearVar2)\n",
    "\n",
    "print('\\n\\nModel params are given by:')\n",
    "for param in tinymodel.parameters():\n",
    "    print(param)\n",
    "\n",
    "print('\\n\\nLayer params are gievn by:')\n",
    "for param in tinymodel.linearVar2.parameters():\n",
    "    print(param)"
   ]
  },
  {
   "cell_type": "markdown",
   "id": "f99432d0-45d0-41f5-b941-93d74cb41440",
   "metadata": {},
   "source": [
    "Common Layer Types"
   ]
  },
  {
   "cell_type": "code",
   "execution_count": 75,
   "id": "16f1fd7e-f407-4377-8940-2372acabb01f",
   "metadata": {},
   "outputs": [
    {
     "name": "stdout",
     "output_type": "stream",
     "text": [
      "Input provided:\n",
      "tensor([[0.0236, 0.8744, 0.4651, 0.6148, 0.2836, 0.1513],\n",
      "        [0.4104, 0.6671, 0.6225, 0.4105, 0.2743, 0.8451]])\n",
      "\n",
      "\n",
      "Weight and Bias parameters are given as:\n",
      "Parameter containing:\n",
      "tensor([[-0.1105, -0.2881,  0.0802, -0.1033,  0.1573,  0.2429],\n",
      "        [-0.2935,  0.2786, -0.3369, -0.2476, -0.2401, -0.3038],\n",
      "        [ 0.2072, -0.0968,  0.1326,  0.1282, -0.1617,  0.3178],\n",
      "        [-0.1771,  0.3209,  0.0468, -0.2483, -0.3312, -0.3173]],\n",
      "       requires_grad=True)\n",
      "Parameter containing:\n",
      "tensor([ 0.1820, -0.4034,  0.2212, -0.0795], requires_grad=True)\n",
      "\n",
      "\n",
      "Output is given as:\n",
      "tensor([[-0.0173, -0.5898,  0.2841, -0.0759],\n",
      "        [ 0.2004, -0.9720,  0.6010, -0.3698]], grad_fn=<AddmmBackward0>)\n"
     ]
    }
   ],
   "source": [
    "# Linear Layers\n",
    "lin = torch.nn.Linear(6, 4)\n",
    "xVar= torch.rand(2, 6)\n",
    "print('Input provided:')\n",
    "print(xVar)\n",
    "\n",
    "print('\\n\\nWeight and Bias parameters are given as:')\n",
    "for param in lin.parameters():\n",
    "    print(param)\n",
    "\n",
    "yVar = lin(xVar)\n",
    "print('\\n\\nOutput is given as:')\n",
    "print(yVar)"
   ]
  },
  {
   "cell_type": "code",
   "execution_count": 76,
   "id": "0e9a24cb-efbc-49ae-8e2d-50692666b8b4",
   "metadata": {},
   "outputs": [],
   "source": [
    "# Convolutional Layers\n",
    "import torch.functional as F\n",
    "\n",
    "\n",
    "class LeNet(torch.nn.Module):\n",
    "\n",
    "    def __init__(self):\n",
    "        super(LeNet, self).__init__()\n",
    "        self.convolution1 = torch.nn.Conv2d(1, 6, 5)\n",
    "        self.convolution2 = torch.nn.Conv2d(6, 16, 3)\n",
    "        self.rs1 = torch.nn.Linear(16 * 6 * 6, 120)\n",
    "        self.rs2 = torch.nn.Linear(120, 84)\n",
    "        self.rs3 = torch.nn.Linear(84, 10)\n",
    "\n",
    "    def forward(self, xVar):\n",
    "        xVar = F.max_pool2d(F.relu(self.convolution1(xVar)), (2, 2))\n",
    "        xVar = F.max_pool2d(F.relu(self.convolution2(xVar)), 2)\n",
    "        xVar = x.view(-1, self.num_flat_features(xVar))\n",
    "        xVar = F.relu(self.rs1(xVar))\n",
    "        xVar = F.relu(self.rs2(xVar))\n",
    "        xVar = self.rs3(xVar)\n",
    "        return xVar\n",
    "\n",
    "    def num_flat_features(self, xVar):\n",
    "        size = xVar.size()[1:]\n",
    "        features = 1\n",
    "        for s in size:\n",
    "            features *= s\n",
    "        return features"
   ]
  },
  {
   "cell_type": "code",
   "execution_count": 77,
   "id": "e0184839-3125-4762-803e-147efc800ef1",
   "metadata": {},
   "outputs": [],
   "source": [
    "# Recurrent Layers\n",
    "class LSTMTagger(torch.nn.Module):\n",
    "\n",
    "    def __init__(self, embedding, hiddenDim, vocab, target):\n",
    "        super(LSTMTagger, self).__init__()\n",
    "        self.hiddenDim = hiddenDim\n",
    "\n",
    "        self.word_embeddings = torch.nn.Embedding(vocab, embedding)\n",
    "        self.lstm = torch.nn.LSTM(embedding, hiddenDim)\n",
    "        self.hidden2tag = torch.nn.Linear(hiddenDim, target)\n",
    "\n",
    "    def forward(self, sentence):\n",
    "        embeds = self.word_embeddings(sentence)\n",
    "        lstm_out, _ = self.lstm(embeds.view(len(sentence), 1, -1))\n",
    "        tag_space = self.hidden2tag(lstm_out.view(len(sentence), -1))\n",
    "        scoresDetails = F.log_softmax(tag_space, dim=1)\n",
    "        return scoresDetails"
   ]
  },
  {
   "cell_type": "markdown",
   "id": "80235d5f-0cb4-4cf6-8141-22a4c25baa24",
   "metadata": {},
   "source": [
    "Data Manipulation Layers"
   ]
  },
  {
   "cell_type": "code",
   "execution_count": 78,
   "id": "98a94152-4cf9-4dac-8d49-a1db91087a59",
   "metadata": {},
   "outputs": [
    {
     "name": "stdout",
     "output_type": "stream",
     "text": [
      "tensor([[[2.8300e-01, 4.4523e-01, 5.9814e-01, 2.8730e-01, 2.6004e-01,\n",
      "          2.8811e-01, 8.9029e-01, 7.0922e-01],\n",
      "         [2.5666e-01, 3.9007e-01, 5.0179e-01, 1.5403e-01, 1.9331e-01,\n",
      "          1.3133e-01, 1.1434e-01, 6.6568e-01],\n",
      "         [5.0068e-01, 4.5559e-01, 2.8764e-01, 5.3537e-01, 8.1924e-01,\n",
      "          5.5100e-01, 6.8974e-01, 1.9249e-01],\n",
      "         [7.0201e-01, 4.5003e-02, 2.6713e-01, 3.9433e-02, 7.1414e-01,\n",
      "          5.2367e-01, 7.0274e-01, 1.2303e-01],\n",
      "         [7.0569e-01, 9.1508e-01, 8.3199e-01, 2.4576e-01, 9.9021e-01,\n",
      "          1.8783e-01, 5.0947e-01, 2.8953e-01],\n",
      "         [9.9472e-01, 5.9524e-02, 1.3670e-01, 2.9667e-01, 7.6170e-01,\n",
      "          8.9878e-01, 6.3286e-01, 5.5295e-01],\n",
      "         [7.5750e-01, 5.2768e-01, 3.4317e-01, 1.0909e-01, 4.2288e-02,\n",
      "          4.4708e-01, 9.1793e-02, 1.7052e-01],\n",
      "         [6.2267e-01, 7.1517e-02, 8.6652e-01, 9.2016e-01, 7.0877e-02,\n",
      "          1.7797e-01, 6.0936e-01, 1.9681e-01]],\n",
      "\n",
      "        [[5.1536e-01, 9.2259e-01, 4.4910e-01, 7.1603e-01, 7.7679e-01,\n",
      "          7.2964e-01, 2.2456e-01, 4.9280e-01],\n",
      "         [9.4718e-01, 7.9608e-04, 7.0546e-01, 5.7273e-01, 9.3110e-01,\n",
      "          3.4580e-01, 1.6435e-01, 1.3973e-01],\n",
      "         [7.0052e-01, 7.9745e-01, 1.6678e-01, 2.3092e-01, 6.3125e-01,\n",
      "          6.9582e-01, 6.1382e-01, 5.8558e-01],\n",
      "         [9.3792e-01, 8.1933e-01, 5.7471e-01, 6.0105e-01, 2.9021e-01,\n",
      "          1.3581e-01, 4.0621e-01, 6.3070e-02],\n",
      "         [5.0192e-01, 5.2394e-01, 4.6887e-01, 2.1026e-01, 5.6067e-01,\n",
      "          4.0296e-01, 1.7239e-01, 2.4006e-01],\n",
      "         [5.4518e-02, 3.6187e-01, 2.0215e-01, 7.7240e-01, 8.4287e-01,\n",
      "          3.7529e-01, 7.1667e-01, 3.4792e-01],\n",
      "         [8.8545e-01, 6.3060e-02, 2.3346e-01, 5.6148e-01, 6.2878e-01,\n",
      "          3.6692e-01, 6.5080e-01, 1.4736e-01],\n",
      "         [8.1940e-01, 6.4047e-01, 3.9588e-01, 1.8398e-01, 1.3914e-01,\n",
      "          5.6050e-01, 5.4946e-01, 4.7539e-01]]])\n",
      "tensor([[[0.5981, 0.8192],\n",
      "         [0.9947, 0.9902]],\n",
      "\n",
      "        [[0.9472, 0.9311],\n",
      "         [0.9379, 0.8429]]])\n"
     ]
    }
   ],
   "source": [
    "tensorExample = torch.rand(2, 8,  8)\n",
    "print(tensorExample)\n",
    "\n",
    "maxpool_layer = torch.nn.MaxPool2d(3)\n",
    "print(maxpool_layer(tensorExample))"
   ]
  },
  {
   "cell_type": "code",
   "execution_count": 79,
   "id": "2f2e6a84-82bb-4af6-8880-140d6d5195a9",
   "metadata": {},
   "outputs": [
    {
     "name": "stdout",
     "output_type": "stream",
     "text": [
      "tensor([[[14.0451, 29.8296, 19.6982, 24.4100],\n",
      "         [23.9002, 28.0921, 11.9931, 20.9937],\n",
      "         [24.0763, 27.6231, 22.1614, 28.4739],\n",
      "         [24.6105, 20.1372, 29.6577, 20.6606]]])\n",
      "tensor(23.1477)\n",
      "tensor([[[-1.3651,  1.3450, -0.3945,  0.4145],\n",
      "         [ 0.4495,  1.1591, -1.5661, -0.0425],\n",
      "         [-0.5857,  0.7924, -1.3297,  1.1230],\n",
      "         [ 0.2212, -0.9512,  1.5440, -0.8140]]],\n",
      "       grad_fn=<NativeBatchNormBackward0>)\n",
      "tensor(4.4703e-08, grad_fn=<MeanBackward0>)\n"
     ]
    }
   ],
   "source": [
    "tensorExample = torch.rand(1, 4, 4) * 20 + 10\n",
    "print(tensorExample)\n",
    "\n",
    "print(tensorExample.mean())\n",
    "\n",
    "normalLayer = torch.nn.BatchNorm1d(4)\n",
    "normalTensor = normalLayer(tensorExample)\n",
    "print(normalTensor)\n",
    "\n",
    "print(normalTensor.mean())"
   ]
  },
  {
   "cell_type": "code",
   "execution_count": 80,
   "id": "08643fee-3321-4978-81d8-ea14dde011b8",
   "metadata": {},
   "outputs": [
    {
     "name": "stdout",
     "output_type": "stream",
     "text": [
      "tensor([[[0.0000, 2.7387, 0.0000, 2.3631],\n",
      "         [0.0000, 0.0000, 3.6787, 0.0000],\n",
      "         [0.3945, 0.0000, 0.0000, 0.7710],\n",
      "         [0.0000, 0.0000, 0.0000, 0.0000]]])\n",
      "tensor([[[0.0000, 0.0000, 0.0000, 0.0000],\n",
      "         [1.1010, 0.0000, 3.6787, 0.0000],\n",
      "         [0.0000, 0.0000, 0.0000, 0.0000],\n",
      "         [0.0000, 0.0000, 0.0000, 0.0000]]])\n"
     ]
    }
   ],
   "source": [
    "# Dropout layers\n",
    "tensorExample = torch.rand(1, 4, 4)\n",
    "\n",
    "dropoutVar = torch.nn.Dropout(p=0.8)\n",
    "print(dropoutVar(tensorExample))\n",
    "print(dropoutVar(tensorExample))"
   ]
  },
  {
   "cell_type": "markdown",
   "id": "18a6ecd4-6b9c-4915-823e-a09b3641b4a5",
   "metadata": {},
   "source": [
    "PyTorch TensorBoard Support"
   ]
  },
  {
   "cell_type": "markdown",
   "id": "a783d30a-3bb9-44f3-a567-1b7162fd2e19",
   "metadata": {},
   "source": [
    "Here, we’ll be training a variant of LeNet-5 against the Fashion-MNIST dataset. Fashion-MNIST is a set of image tiles describing various garments, with 10 class labels indicating the type of garment."
   ]
  },
  {
   "cell_type": "code",
   "execution_count": 81,
   "id": "58f6a7a7-133a-4ecf-8d41-97850c625d1b",
   "metadata": {},
   "outputs": [],
   "source": [
    "import torch\n",
    "import torch.nn as nn\n",
    "import torch.nn.functional as F\n",
    "import torch.optim as optim\n",
    "\n",
    "import torchvision\n",
    "import torchvision.transforms as transforms\n",
    "\n",
    "import matplotlib.pyplot as plt\n",
    "import numpy as np\n",
    "\n",
    "from torch.utils.tensorboard import SummaryWriter"
   ]
  },
  {
   "cell_type": "code",
   "execution_count": 82,
   "id": "8f9c7b9e-0d3d-4c3c-9db1-b5bf72d37d5b",
   "metadata": {},
   "outputs": [
    {
     "data": {
      "image/png": "[encoded data removed]",
      "text/plain": [
       "<Figure size 640x480 with 1 Axes>"
      ]
     },
     "metadata": {},
     "output_type": "display_data"
    }
   ],
   "source": [
    "# Showing images in Tensor Board\n",
    "# Gathering datasets\n",
    "# In the below code, we would be using TorchVision and Matplotlib to create a visual grid of a minibatch of our input data.\n",
    "transform = transforms.Compose(\n",
    "    [transforms.ToTensor(),\n",
    "    transforms.Normalize((0.8,), (0.8,))])\n",
    "\n",
    "trainingSet = torchvision.datasets.FashionMNIST('./data',\n",
    "    download=True,\n",
    "    train=True,\n",
    "    transform=transform)\n",
    "validationSet = torchvision.datasets.FashionMNIST('./data',\n",
    "    download=True,\n",
    "    train=False,\n",
    "    transform=transform)\n",
    "\n",
    "trainingLoader = torch.utils.data.DataLoader(trainingSet,\n",
    "                                              batch_size=5,\n",
    "                                              shuffle=True,\n",
    "                                              num_workers=3)\n",
    "\n",
    "\n",
    "valiLoader = torch.utils.data.DataLoader(validationSet,\n",
    "                                                batch_size=5,\n",
    "                                                shuffle=False,\n",
    "                                                num_workers=3)\n",
    "\n",
    "#labels\n",
    "details = ('T-shirt/top', 'Trouser', 'Pullover', 'Dress', 'Coat',\n",
    "        'Sandal', 'Shirt', 'Sneaker', 'Bag', 'Ankle Boot')\n",
    "\n",
    "def imageShow(img, one_channel=False):\n",
    "    if one_channel:\n",
    "        img = img.mean(dim=0)\n",
    "    img = img / 2 + 0.45     \n",
    "    npimg = img.numpy()\n",
    "    if one_channel:\n",
    "        plt.imshow(npimg, cmap=\"Greys\")\n",
    "    else:\n",
    "        plt.imshow(np.transpose(npimg, (1, 2, 0)))\n",
    "\n",
    "dataiter = iter(trainingLoader)\n",
    "images, labels = next(dataiter)\n",
    "\n",
    "imageGrid = torchvision.utils.make_grid(images)\n",
    "imageShow(imageGrid, one_channel=True)"
   ]
  },
  {
   "cell_type": "code",
   "execution_count": 83,
   "id": "2540da14-f57d-43e8-a838-ef1b547a4773",
   "metadata": {},
   "outputs": [],
   "source": [
    "# In the below code, we would be using add_image() call to log the image.\n",
    "# Similarly, we would be using the call flush() so that it's written to the disk right away.\n",
    "\n",
    "codeWriter = SummaryWriter('runs/fashion_mnist_experiment_1')\n",
    "\n",
    "\n",
    "codeWriter.add_image('Four Fashion-MNIST Images', imageGrid)\n",
    "codeWriter.flush()"
   ]
  },
  {
   "cell_type": "markdown",
   "id": "0f3eb6e0-5575-4db9-84b7-c17135342171",
   "metadata": {},
   "source": [
    "Graphing Scalars to Visualize Training"
   ]
  },
  {
   "cell_type": "code",
   "execution_count": 85,
   "id": "729d67eb-cfd9-4d2f-aef5-2813c343f7ad",
   "metadata": {},
   "outputs": [],
   "source": [
    "class Net(nn.Module):\n",
    "    def __init__(self):\n",
    "        super(Net, self).__init__()\n",
    "        self.convolution1 = nn.Conv2d(1, 6, 5) \n",
    "        self.pool = nn.MaxPool2d(2, 2)  \n",
    "        self.convolution2 = nn.Conv2d(6, 16, 5)\n",
    "\n",
    "        # Automatically compute feature map size\n",
    "        self.feature_size = self._get_conv_output_size()\n",
    "        self.rs1 = nn.Linear(self.feature_size, 120)\n",
    "        self.rs2 = nn.Linear(120, 84)\n",
    "        self.rs3 = nn.Linear(84, 10)\n",
    "\n",
    "    def _get_conv_output_size(self):\n",
    "        with torch.no_grad():\n",
    "            sample_input = torch.zeros(1, 1, 28, 28)  \n",
    "            output = self.pool(F.relu(self.convolution1(sample_input)))\n",
    "            output = self.pool(F.relu(self.convolution2(output)))\n",
    "            return int(torch.prod(torch.tensor(output.shape[1:]))) \n",
    "\n",
    "    def forward(self, xVar):\n",
    "        xVar = self.pool(F.relu(self.convolution1(xVar)))\n",
    "        xVar = self.pool(F.relu(self.convolution2(xVar)))\n",
    "\n",
    "        #print(f\"Shape before view: {xVar.shape}\")\n",
    "        xVar = xVar.view(xVar.size(0), -1) \n",
    "\n",
    "        xVar = F.relu(self.rs1(xVar))\n",
    "        xVar = F.relu(self.rs2(xVar))\n",
    "        xVar = self.rs3(xVar)\n",
    "        return xVar\n",
    "\n",
    "\n",
    "net = Net()\n",
    "criterion = nn.CrossEntropyLoss()\n",
    "optimizer = optim.SGD(net.parameters(), lr=0.001, momentum=0.9)"
   ]
  },
  {
   "cell_type": "markdown",
   "id": "99a92ce8-2694-406e-80ae-bddb75ad4b86",
   "metadata": {},
   "source": [
    "Training a single epoch, and evaluating the training vs. validation set losses for every 1000 batches"
   ]
  },
  {
   "cell_type": "code",
   "execution_count": 89,
   "id": "c1b31cd2-f490-4e9e-b7d6-17e7b87f6258",
   "metadata": {},
   "outputs": [
    {
     "name": "stdout",
     "output_type": "stream",
     "text": [
      "2000\n",
      "Finished Training successfully\n",
      "Batch 8000\n",
      "Training Loss: 0.0002, Validation Loss: 0.3762\n",
      "Batch 9000\n",
      "Training Loss: 0.0002, Validation Loss: 0.3303\n",
      "Batch 10000\n",
      "Training Loss: 0.0011, Validation Loss: 0.3781\n",
      "Batch 11000\n",
      "Training Loss: 0.0001, Validation Loss: 0.3775\n",
      "Batch 12000\n",
      "Training Loss: 0.0008, Validation Loss: 0.3266\n"
     ]
    }
   ],
   "source": [
    "from collections import deque\n",
    "\n",
    "print(len(valiLoader))\n",
    "\n",
    "for epoch in range(1):\n",
    "    running_loss = 0.0\n",
    "\n",
    "    for i, data in enumerate(trainingLoader, 0):\n",
    "        inputs, labels = data\n",
    "        optimizer.zero_grad()\n",
    "        outputs = net(inputs)\n",
    "        loss = criterion(outputs, labels)\n",
    "        loss.backward()\n",
    "        optimizer.step()\n",
    "\n",
    "        running_loss += loss.item()\n",
    "        if i % 1000 == 999:\n",
    "            log_buffer.append(f'Batch {i + 1}')\n",
    "            running_vloss = 0.0\n",
    "            net.train(False)\n",
    "            \n",
    "            for j, vdata in enumerate(valiLoader, 0):\n",
    "                vinputs, vlabels = vdata\n",
    "                voutputs = net(vinputs)\n",
    "                vloss = criterion(voutputs, vlabels)\n",
    "                running_vloss += vloss.item()\n",
    "            \n",
    "            net.train(True)\n",
    "            avg_loss = running_loss / 1000\n",
    "            avg_vloss = running_vloss / len(valiLoader)\n",
    "            log_buffer.append(f'Training Loss: {avg_loss:.4f}, Validation Loss: {avg_vloss:.4f}')\n",
    "        \n",
    "        running_loss = 0.0\n",
    "\n",
    "print('Finished Training successfully')\n",
    "print(\"\\n\".join(log_buffer))\n",
    "\n",
    "codeWriter.flush()\n"
   ]
  },
  {
   "cell_type": "code",
   "execution_count": 90,
   "id": "c9de48e3-b2a5-47dd-80c8-9d3af1da6737",
   "metadata": {},
   "outputs": [],
   "source": [
    "dataiter = iter(trainingLoader)\n",
    "images, labels = next(dataiter)\n",
    "\n",
    "codeWriter.add_graph(net, images)\n",
    "codeWriter.flush()"
   ]
  },
  {
   "cell_type": "markdown",
   "id": "b9c39db2-26a0-425b-a7f5-fb8caca36747",
   "metadata": {},
   "source": [
    "Visualizing Your Dataset with Embeddings"
   ]
  },
  {
   "cell_type": "code",
   "execution_count": 91,
   "id": "384bc215-31ef-4741-a1ae-9eafcc3e0103",
   "metadata": {},
   "outputs": [],
   "source": [
    "def selectRandom(data, labels, n=100):\n",
    "    assert len(data) == len(labels)\n",
    "    perm = torch.randperm(len(data))\n",
    "    return data[perm][:n], labels[perm][:n]\n",
    "\n",
    "images, labels = selectRandom(trainingSet.data, trainingSet.targets)\n",
    "\n",
    "labelClasses = [details[label] for label in labels]\n",
    "\n",
    "features = images.view(-1, 28 * 28)\n",
    "codeWriter.add_embedding(features,\n",
    "                    metadata=labelClasses,\n",
    "                    label_img=images.unsqueeze(1),\n",
    "                    global_step=0)\n",
    "codeWriter.flush()\n",
    "codeWriter.close()"
   ]
  },
  {
   "cell_type": "markdown",
   "id": "d2ff2280-40ba-4cf5-8c0b-db60b6f5f22c",
   "metadata": {},
   "source": [
    "Training with PyTorch"
   ]
  },
  {
   "cell_type": "code",
   "execution_count": 92,
   "id": "abad2c83-f7a0-4ce6-98a3-73a12e3ff044",
   "metadata": {},
   "outputs": [
    {
     "name": "stdout",
     "output_type": "stream",
     "text": [
      "Training set has 60000 instances\n",
      "Validation set has 10000 instances\n"
     ]
    }
   ],
   "source": [
    "import torch\n",
    "import torchvision\n",
    "import torchvision.transforms as transforms\n",
    "from torch.utils.tensorboard import SummaryWriter\n",
    "from datetime import datetime\n",
    "\n",
    "\n",
    "transform = transforms.Compose(\n",
    "    [transforms.ToTensor(),\n",
    "    transforms.Normalize((0.5,), (0.5,))])\n",
    "\n",
    "trainingSet = torchvision.datasets.FashionMNIST('./data', train=True, transform=transform, download=True)\n",
    "validationSet = torchvision.datasets.FashionMNIST('./data', train=False, transform=transform, download=True)\n",
    "\n",
    "trainingLoader = torch.utils.data.DataLoader(trainingSet, batch_size=4, shuffle=True)\n",
    "valiLoader = torch.utils.data.DataLoader(validationSet, batch_size=4, shuffle=False)\n",
    "\n",
    "classes = ('T-shirt/top', 'Trouser', 'Pullover', 'Dress', 'Coat',\n",
    "        'Sandal', 'Shirt', 'Sneaker', 'Bag', 'Ankle Boot')\n",
    "\n",
    "print('Training set has {} instances'.format(len(trainingSet)))\n",
    "print('Validation set has {} instances'.format(len(validationSet)))"
   ]
  },
  {
   "cell_type": "code",
   "execution_count": 93,
   "id": "30ec972e-e85b-4c3a-93d5-b4f0ad8d7f41",
   "metadata": {},
   "outputs": [
    {
     "name": "stdout",
     "output_type": "stream",
     "text": [
      "Sneaker  Bag  Bag  Ankle Boot\n"
     ]
    },
    {
     "data": {
      "image/png": "[encoded data removed]",
      "text/plain": [
       "<Figure size 640x480 with 1 Axes>"
      ]
     },
     "metadata": {},
     "output_type": "display_data"
    }
   ],
   "source": [
    "import matplotlib.pyplot as plt\n",
    "import numpy as np\n",
    "\n",
    "def matplotlib_imshow(img, one_channel=False):\n",
    "    if one_channel:\n",
    "        img = img.mean(dim=0)\n",
    "    img = img / 2 + 0.25  \n",
    "    npimg = img.numpy()\n",
    "    if one_channel:\n",
    "        plt.imshow(npimg, cmap=\"Greys\")\n",
    "    else:\n",
    "        plt.imshow(np.transpose(npimg, (1, 2, 0)))\n",
    "\n",
    "dataiter = iter(trainingLoader)\n",
    "images, labels = next(dataiter)\n",
    "\n",
    "img_grid = torchvision.utils.make_grid(images)\n",
    "matplotlib_imshow(img_grid, one_channel=True)\n",
    "print('  '.join(classes[labels[j]] for j in range(4)))"
   ]
  },
  {
   "cell_type": "markdown",
   "id": "96b8cce3-251e-4bb0-b1e4-d7cf1adaf51f",
   "metadata": {},
   "source": [
    "The Model"
   ]
  },
  {
   "cell_type": "code",
   "execution_count": 94,
   "id": "cb407f07-a97b-4b08-92c1-e69af4d56348",
   "metadata": {},
   "outputs": [],
   "source": [
    "import torch.nn as nn\n",
    "import torch.nn.functional as F\n",
    "\n",
    "class GarmentClassifier(nn.Module):\n",
    "    def __init__(self):\n",
    "        super(GarmentClassifier, self).__init__()\n",
    "        self.convolution1 = nn.Conv2d(1, 6, 5)\n",
    "        self.pool = nn.MaxPool2d(2, 2)\n",
    "        self.convolution2 = nn.Conv2d(6, 16, 5)\n",
    "        self.rs1 = nn.Linear(16 * 4 * 4, 120)\n",
    "        self.rs2 = nn.Linear(120, 84)\n",
    "        self.rs3 = nn.Linear(84, 10)\n",
    "\n",
    "    def forward(self, xVar):\n",
    "        xVar = self.pool(F.relu(self.convolution1(xVar)))\n",
    "        xVar = self.pool(F.relu(self.convolution2(xVar)))\n",
    "        xVar = xVar.view(xVar.size(0), -1)\n",
    "        xVar = F.relu(self.rs1(xVar))\n",
    "        xVar = F.relu(self.rs2(xVar))\n",
    "        xVar = self.rs3(xVar)\n",
    "        return xVar\n",
    "\n",
    "\n",
    "model = GarmentClassifier()"
   ]
  },
  {
   "cell_type": "code",
   "execution_count": 95,
   "id": "5ceec12f-a1b2-4218-a1eb-0b3c871cd78a",
   "metadata": {},
   "outputs": [
    {
     "name": "stdout",
     "output_type": "stream",
     "text": [
      "tensor([[0.1722, 0.2838, 0.6230, 0.1814, 0.6545, 0.9989, 0.8144, 0.5443, 0.4963,\n",
      "         0.2895],\n",
      "        [0.0053, 0.5898, 0.1762, 0.2761, 0.7021, 0.1846, 0.9536, 0.9775, 0.2675,\n",
      "         0.8126],\n",
      "        [0.1993, 0.2787, 0.4061, 0.8948, 0.0263, 0.9227, 0.2664, 0.1378, 0.8881,\n",
      "         0.4371],\n",
      "        [0.3550, 0.8391, 0.3787, 0.1878, 0.6602, 0.0668, 0.5422, 0.2534, 0.0707,\n",
      "         0.6896]])\n",
      "tensor([1, 5, 3, 7])\n",
      "Total loss for this batch is given by: 2.405484914779663\n"
     ]
    }
   ],
   "source": [
    "# Loss Function\n",
    "\n",
    "lossFunction = torch.nn.CrossEntropyLoss()\n",
    "dummyOutputs = torch.rand(4, 10)\n",
    "dummyLabels = torch.tensor([1, 5, 3, 7])\n",
    "\n",
    "print(dummyOutputs)\n",
    "print(dummyLabels)\n",
    "\n",
    "loss = lossFunction(dummyOutputs, dummyLabels)\n",
    "print('Total loss for this batch is given by: {}'.format(loss.item()))\n",
    "\n",
    "# Optimizer\n",
    "optimizer = torch.optim.SGD(model.parameters(), lr=0.001, momentum=0.9)"
   ]
  },
  {
   "cell_type": "code",
   "execution_count": 96,
   "id": "9c413dd1-c1ef-43e4-adb6-1bbbceb1036e",
   "metadata": {},
   "outputs": [],
   "source": [
    "# Training Loop\n",
    "\n",
    "def train_one_epoch(epoch_index, tb_writer):\n",
    "    running_loss = 0.\n",
    "    last_loss = 0.\n",
    "\n",
    "    for i, data in enumerate(trainingLoader):\n",
    "        inputs, labels = data\n",
    "        optimizer.zero_grad()\n",
    "        outputs = model(inputs)\n",
    "        loss = lossFunction(outputs, labels)\n",
    "        loss.backward()\n",
    "        optimizer.step()\n",
    "        running_loss += loss.item()\n",
    "        if i % 1000 == 999:\n",
    "            last_loss = running_loss / 1000 # loss per batch\n",
    "            print('  batch {} loss: {}'.format(i + 1, last_loss))\n",
    "            tb_x = epoch_index * len(trainingLoader) + i + 1\n",
    "            tb_writer.add_scalar('Loss/train', last_loss, tb_x)\n",
    "            running_loss = 0.\n",
    "\n",
    "    return last_loss"
   ]
  },
  {
   "cell_type": "code",
   "execution_count": 97,
   "id": "40459b32-21f5-4040-b729-e57a25afcbcb",
   "metadata": {},
   "outputs": [
    {
     "name": "stdout",
     "output_type": "stream",
     "text": [
      "EPOCH 1:\n",
      "  batch 1000 loss: 1.8184418481588365\n",
      "  batch 2000 loss: 0.8641007811054587\n",
      "  batch 3000 loss: 0.7044472572044469\n",
      "  batch 4000 loss: 0.6359707555063069\n",
      "  batch 5000 loss: 0.5978957649469375\n",
      "  batch 6000 loss: 0.5792106333661359\n",
      "  batch 7000 loss: 0.5385092764548026\n",
      "  batch 8000 loss: 0.5196407164770644\n",
      "  batch 9000 loss: 0.49952710867882705\n",
      "  batch 10000 loss: 0.48780726087960646\n",
      "  batch 11000 loss: 0.471843071369105\n",
      "  batch 12000 loss: 0.43819932677678297\n",
      "  batch 13000 loss: 0.441848613346112\n",
      "  batch 14000 loss: 0.4096941580841085\n",
      "  batch 15000 loss: 0.4198782105582068\n",
      "LOSS train 0.4198782105582068 valid 0.42940130829811096\n",
      "EPOCH 2:\n",
      "  batch 1000 loss: 0.3978163287555799\n",
      "  batch 2000 loss: 0.3846124474661483\n",
      "  batch 3000 loss: 0.37368303751241183\n",
      "  batch 4000 loss: 0.3851071689778182\n",
      "  batch 5000 loss: 0.41604588780074847\n",
      "  batch 6000 loss: 0.38525968891283263\n",
      "  batch 7000 loss: 0.381809194178466\n",
      "  batch 8000 loss: 0.3624587748902468\n",
      "  batch 9000 loss: 0.36874480179317837\n",
      "  batch 10000 loss: 0.33450244852894684\n",
      "  batch 11000 loss: 0.3580516790939437\n",
      "  batch 12000 loss: 0.37777566812722946\n",
      "  batch 13000 loss: 0.32690344961984374\n",
      "  batch 14000 loss: 0.3311387135671102\n",
      "  batch 15000 loss: 0.3449624481037827\n",
      "LOSS train 0.3449624481037827 valid 0.37160950899124146\n",
      "EPOCH 3:\n",
      "  batch 1000 loss: 0.33512944530529787\n",
      "  batch 2000 loss: 0.32465424822179195\n",
      "  batch 3000 loss: 0.33685060308093673\n",
      "  batch 4000 loss: 0.33549926999042506\n",
      "  batch 5000 loss: 0.3374884694662469\n",
      "  batch 6000 loss: 0.30980936471919085\n",
      "  batch 7000 loss: 0.33561749957910797\n",
      "  batch 8000 loss: 0.33264882499360826\n",
      "  batch 9000 loss: 0.33318814857996765\n",
      "  batch 10000 loss: 0.29817679019040955\n",
      "  batch 11000 loss: 0.3136039959947375\n",
      "  batch 12000 loss: 0.3255222649488569\n",
      "  batch 13000 loss: 0.2949749616522313\n",
      "  batch 14000 loss: 0.30899622636676943\n",
      "  batch 15000 loss: 0.3165909659184981\n",
      "LOSS train 0.3165909659184981 valid 0.33380934596061707\n",
      "EPOCH 4:\n",
      "  batch 1000 loss: 0.28318436655419643\n",
      "  batch 2000 loss: 0.3175564789942873\n",
      "  batch 3000 loss: 0.28865018754358973\n",
      "  batch 4000 loss: 0.3002497377104328\n",
      "  batch 5000 loss: 0.3009953485921869\n",
      "  batch 6000 loss: 0.2971584963567511\n",
      "  batch 7000 loss: 0.273987505928395\n",
      "  batch 8000 loss: 0.30422368417698453\n",
      "  batch 9000 loss: 0.28866334903726604\n",
      "  batch 10000 loss: 0.29894781657056685\n",
      "  batch 11000 loss: 0.28721957198506426\n",
      "  batch 12000 loss: 0.2986240701730767\n",
      "  batch 13000 loss: 0.28954825843502474\n",
      "  batch 14000 loss: 0.29885173285159544\n",
      "  batch 15000 loss: 0.286270955706932\n",
      "LOSS train 0.286270955706932 valid 0.3402622640132904\n",
      "EPOCH 5:\n",
      "  batch 1000 loss: 0.26239187637557554\n",
      "  batch 2000 loss: 0.2740120561265203\n",
      "  batch 3000 loss: 0.2698782097078365\n",
      "  batch 4000 loss: 0.2754711059381225\n",
      "  batch 5000 loss: 0.2830459133652371\n",
      "  batch 6000 loss: 0.2734400687728139\n",
      "  batch 7000 loss: 0.25737493349340274\n",
      "  batch 8000 loss: 0.29065825272768414\n",
      "  batch 9000 loss: 0.26911941933166234\n",
      "  batch 10000 loss: 0.2721050987936833\n",
      "  batch 11000 loss: 0.27039255193937606\n",
      "  batch 12000 loss: 0.2783633366387985\n",
      "  batch 13000 loss: 0.2767359947842342\n",
      "  batch 14000 loss: 0.2769878743543668\n",
      "  batch 15000 loss: 0.2892475261446962\n",
      "LOSS train 0.2892475261446962 valid 0.3167872428894043\n"
     ]
    }
   ],
   "source": [
    "# Per-Epoch Activity\n",
    "\n",
    "timestamp = datetime.now().strftime('%Y%m%d_%H%M%S')\n",
    "codeWriter = SummaryWriter('runs/fashion_trainer_{}'.format(timestamp))\n",
    "epoch_number = 0\n",
    "\n",
    "EPOCHS = 5\n",
    "\n",
    "best_vloss = 1_000_000.\n",
    "\n",
    "for epoch in range(EPOCHS):\n",
    "    print('EPOCH {}:'.format(epoch_number + 1))\n",
    "    model.train(True)\n",
    "    avg_loss = train_one_epoch(epoch_number, codeWriter)\n",
    "\n",
    "\n",
    "    running_vloss = 0.0\n",
    "    model.eval()\n",
    "\n",
    "    with torch.no_grad():\n",
    "        for i, vdata in enumerate(valiLoader):\n",
    "            vinputs, vlabels = vdata\n",
    "            voutputs = model(vinputs)\n",
    "            vloss = lossFunction(voutputs, vlabels)\n",
    "            running_vloss += vloss\n",
    "\n",
    "    avg_vloss = running_vloss / (i + 1)\n",
    "    print('LOSS train {} valid {}'.format(avg_loss, avg_vloss))\n",
    "    codeWriter.add_scalars('Training vs. Validation Loss',\n",
    "                    { 'Training' : avg_loss, 'Validation' : avg_vloss },\n",
    "                    epoch_number + 1)\n",
    "    codeWriter.flush()\n",
    "    if avg_vloss < best_vloss:\n",
    "        best_vloss = avg_vloss\n",
    "        model_path = 'model_{}_{}'.format(timestamp, epoch_number)\n",
    "        torch.save(model.state_dict(), model_path)\n",
    "\n",
    "    epoch_number += 1"
   ]
  },
  {
   "cell_type": "code",
   "execution_count": 98,
   "id": "01903d6f-3dd8-4da3-abc0-ec016cc4a28f",
   "metadata": {},
   "outputs": [
    {
     "name": "stdout",
     "output_type": "stream",
     "text": [
      "['model_20250207_170814_0', 'model_20250207_170814_1', 'model_20250207_170814_4', '.ipynb_checkpoints', 'model_20250207_170814_2', 'data', 'runs', 'a0_part_2_ snallape.ipynb', 'a0_part_1_snallape.ipynb']\n"
     ]
    }
   ],
   "source": [
    "import os\n",
    "\n",
    "print(os.listdir())"
   ]
  },
  {
   "cell_type": "code",
   "execution_count": 100,
   "id": "714d4dbe-c108-4225-a1db-b8d78200897b",
   "metadata": {},
   "outputs": [
    {
     "data": {
      "text/plain": [
       "GarmentClassifier(\n",
       "  (convolution1): Conv2d(1, 6, kernel_size=(5, 5), stride=(1, 1))\n",
       "  (pool): MaxPool2d(kernel_size=2, stride=2, padding=0, dilation=1, ceil_mode=False)\n",
       "  (convolution2): Conv2d(6, 16, kernel_size=(5, 5), stride=(1, 1))\n",
       "  (rs1): Linear(in_features=256, out_features=120, bias=True)\n",
       "  (rs2): Linear(in_features=120, out_features=84, bias=True)\n",
       "  (rs3): Linear(in_features=84, out_features=10, bias=True)\n",
       ")"
      ]
     },
     "execution_count": 100,
     "metadata": {},
     "output_type": "execute_result"
    }
   ],
   "source": [
    "PATH = \"model_20250207_170814_4\" \n",
    "saved_model = GarmentClassifier()\n",
    "saved_model.load_state_dict(torch.load(PATH))\n",
    "saved_model.eval()"
   ]
  },
  {
   "cell_type": "code",
   "execution_count": null,
   "id": "2345965c-e024-4a3a-b20d-4a4100a57e3e",
   "metadata": {},
   "outputs": [],
   "source": []
  },
  {
   "cell_type": "code",
   "execution_count": null,
   "id": "2ac400da-0f41-4805-a5ef-6d7bb8cdd3a1",
   "metadata": {},
   "outputs": [],
   "source": []
  }
 ],
 "metadata": {
  "kernelspec": {
   "display_name": "Python 3 (ipykernel)",
   "language": "python",
   "name": "python3"
  },
  "language_info": {
   "codemirror_mode": {
    "name": "ipython",
    "version": 3
   },
   "file_extension": ".py",
   "mimetype": "text/x-python",
   "name": "python",
   "nbconvert_exporter": "python",
   "pygments_lexer": "ipython3",
   "version": "3.13.1"
  }
 },
 "nbformat": 4,
 "nbformat_minor": 5
}
